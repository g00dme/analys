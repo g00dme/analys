{
 "cells": [
  {
   "cell_type": "code",
   "execution_count": 4,
   "id": "fc639b43-dba0-4d5a-90c4-77868f0243cb",
   "metadata": {},
   "outputs": [],
   "source": [
    "import tensorflow as tf\n",
    "import keras "
   ]
  },
  {
   "cell_type": "code",
   "execution_count": 5,
   "id": "b01495b9-ce3b-46d0-b763-70f52dd87727",
   "metadata": {},
   "outputs": [],
   "source": [
    "prelu=keras.layers.ELU()\n",
    "dense=keras.layers.Dense(50,activation=prelu,kernel_initializer='he_normal')\n",
    "dense.save_own_variables()"
   ]
  },
  {
   "cell_type": "code",
   "execution_count": null,
   "id": "d9041466-5491-43b1-af7e-f50258aa1545",
   "metadata": {},
   "outputs": [],
   "source": [
    "keras.optimizers.Adam()"
   ]
  }
 ],
 "metadata": {
  "kernelspec": {
   "display_name": "Python 3 (ipykernel)",
   "language": "python",
   "name": "python3"
  },
  "language_info": {
   "codemirror_mode": {
    "name": "ipython",
    "version": 3
   },
   "file_extension": ".py",
   "mimetype": "text/x-python",
   "name": "python",
   "nbconvert_exporter": "python",
   "pygments_lexer": "ipython3",
   "version": "3.12.4"
  }
 },
 "nbformat": 4,
 "nbformat_minor": 5
}

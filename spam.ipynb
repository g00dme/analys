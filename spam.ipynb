{
 "cells": [
  {
   "cell_type": "markdown",
   "id": "c03967bd-fd19-4cd3-be9c-ac25968179ad",
   "metadata": {},
   "source": [
    "## Fetching data"
   ]
  },
  {
   "cell_type": "code",
   "execution_count": 62,
   "id": "5314fcb8-1288-4fcc-afb4-513fd4befa27",
   "metadata": {},
   "outputs": [],
   "source": [
    "import urllib.request\n",
    "import os\n",
    "import shutil\n",
    "\n",
    "path='/mnt/All/Downloads/Datasets/spam'\n",
    "paths=path+'/spam.tar.bz2'\n",
    "pathh=path+'/ham.tar.bz2'\n",
    "pathsd=path+'/spam/'\n",
    "pathhd=path+'/easy_ham/'\n",
    "\n",
    "url='https://spamassassin.apache.org/old/publiccorpus/'\n",
    "\n",
    "def fetch_spam():\n",
    "    if not os.path.isdir(pathsd):\n",
    "        urllib.request.urlretrieve(url+'20030228_spam.tar.bz2',paths)\n",
    "        shutil.unpack_archive(paths,path+'/')\n",
    "        os.remove(paths)\n",
    "    if not os.path.isdir(pathhd):\n",
    "        urllib.request.urlretrieve(url+'20030228_easy_ham.tar.bz2',pathh)\n",
    "        shutil.unpack_archive(pathh,path+'/')\n",
    "        os.remove(pathh)\n",
    "\n",
    "fetch_spam()"
   ]
  },
  {
   "cell_type": "code",
   "execution_count": 64,
   "id": "9363588a-7a80-47fa-b179-0fe0f1287b0a",
   "metadata": {},
   "outputs": [],
   "source": [
    "spam_files=[x for x in sorted(os.listdir(pathsd)) if len(x)>20]\n",
    "ham_files=[x for x in sorted(os.listdir(pathhd)) if len(x)>20]"
   ]
  },
  {
   "cell_type": "code",
   "execution_count": 66,
   "id": "a0856ef8-4f95-4082-9388-5837fa3f4be0",
   "metadata": {},
   "outputs": [
    {
     "data": {
      "text/plain": [
       "500"
      ]
     },
     "execution_count": 66,
     "metadata": {},
     "output_type": "execute_result"
    }
   ],
   "source": [
    "len(spam_files)"
   ]
  },
  {
   "cell_type": "code",
   "execution_count": 67,
   "id": "fc690882-5099-4bfb-9bb4-95a1efcd402a",
   "metadata": {},
   "outputs": [
    {
     "data": {
      "text/plain": [
       "2500"
      ]
     },
     "execution_count": 67,
     "metadata": {},
     "output_type": "execute_result"
    }
   ],
   "source": [
    "len(ham_files)"
   ]
  },
  {
   "cell_type": "code",
   "execution_count": 105,
   "id": "81c0f5e1-7aaf-45ee-b478-c489a90faa1f",
   "metadata": {},
   "outputs": [],
   "source": [
    "import email.policy\n",
    "import email\n",
    "\n",
    "def open_mail(spam,file):\n",
    "    if spam:\n",
    "        dir=pathsd\n",
    "    else:\n",
    "        dir=pathhd \n",
    "    with open(dir+file,'rb') as mail:\n",
    "        return email.parser.BytesParser(policy=email.policy.default).parse(mail)"
   ]
  },
  {
   "cell_type": "code",
   "execution_count": 98,
   "id": "91e57047-6872-4c27-8366-bb1fd91c5dcc",
   "metadata": {},
   "outputs": [],
   "source": [
    "ham=[open_mail(False,x) for x in ham_files]\n",
    "spam=[open_mail(True,x) for x in spam_files]"
   ]
  },
  {
   "cell_type": "code",
   "execution_count": 119,
   "id": "df0204b7-4213-4865-a23f-00ee2e81fe8f",
   "metadata": {},
   "outputs": [
    {
     "name": "stdout",
     "output_type": "stream",
     "text": [
      "##################################################\n",
      "#                                                #\n",
      "#                 Adult Club                     #\n",
      "#           Offers FREE Membership               #\n",
      "#                                                #\n",
      "##################################################\n",
      "\n",
      ">>>>>  INSTANT ACCESS TO ALL SITES NOW\n",
      ">>>>>  Your User Name And Password is.\n",
      ">>>>>  User Name: zzzz@spamassassin.taint.org\n",
      ">>>>>  Password: 760382\n",
      "\n",
      "5 of the Best Adult Sites on the Internet for FREE!\n",
      "---------------------------------------\n",
      "NEWS 08/18/02\n",
      "With just over 2.9 Million Members that signed up for FREE, Last month there were 721,184 New\n",
      "Members. Are you one of them yet???\n",
      "---------------------------------------\n",
      "Our Membership FAQ\n",
      "\n",
      "Q. Why are you offering free access to 5 adult membership sites for free?\n",
      "A. I have advertisers that pay me for ad space so you don't have to pay for membership.\n",
      "\n",
      "Q. Is it true my membership is for life?\n",
      "A. Absolutely you'll never have to pay a cent the advertisers do.\n",
      "\n",
      "Q. Can I give my account to my friends and family?\n",
      "A. Yes, as long they are over the age of 18.\n",
      "\n",
      "Q. Do I have to sign up for all 5 membership sites?\n",
      "A. No just one to get access to all of them.\n",
      "\n",
      "Q. How do I get started?\n",
      "A. Click on one of the following links below to become a member.\n",
      "\n",
      "- These are multi million dollar operations with policies and rules.\n",
      "- Fill in the required info and they won't charge you for the Free pass!\n",
      "- If you don't believe us, just read their terms and conditions.\n",
      "\n",
      "---------------------------\n",
      "\n",
      "# 5. > Adults Farm\n",
      "http://80.71.66.8/farm/?aid=760382\n",
      "Girls and Animals Getting Freaky....FREE Lifetime Membership!!\n",
      "\n",
      "# 4. > Sexy Celebes\n",
      "http://80.71.66.8/celebst/?aid=760382\n",
      "Thousands Of XXX Celebes doing it...FREE Lifetime Membership!!\n",
      "\n",
      "# 3. > Play House Porn\n",
      "http://80.71.66.8/mega/?aid=760382\n",
      "Live Feeds From 60 Sites And Web Cams...FREE Lifetime Membership!!\n",
      "\n",
      "# 2. > Asian Sex Fantasies\n",
      "http://80.71.66.8/asian/?aid=760382\n",
      "Japanese Schoolgirls, Live Sex Shows ...FREE Lifetime Membership!!\n",
      "\n",
      "# 1. > Lesbian Lace\n",
      "http://80.71.66.8/lesbian/?aid=760382\n",
      "Girls and Girls Getting Freaky! ...FREE Lifetime Membership!!\n",
      "\n",
      "--------------------------\n",
      "\n",
      "Jennifer Simpson, Miami, FL\n",
      "Your FREE lifetime membership has entertained my boyffriend and I for\n",
      "the last two years!  Your Adult Sites are the best on the net!\n",
      "\n",
      "Joe Morgan Manhattan, NY\n",
      "Your live sex shows and live sex cams are unbelievable. The best part\n",
      "about your porn sites, is that they're absolutely FREE!\n",
      "\n",
      "--------------------------\n",
      "\n",
      "\n",
      "\n",
      "\n",
      "\n",
      "\n",
      "\n",
      "\n",
      "\n",
      "Removal Instructions:\n",
      "\n",
      "You have received this advertisement because you have opted in to receive free adult internet\n",
      "offers and specials through our affiliated websites. If you do not wish to receive further emails\n",
      "or have received the email in error you may opt-out of our database here\n",
      "http://80.71.66.8/optout/ . Please allow 24 hours for removal.\n",
      "\n",
      "vonolmosatkirekpups\n"
     ]
    }
   ],
   "source": [
    "print(spam[3].get_content().strip())"
   ]
  },
  {
   "cell_type": "code",
   "execution_count": 111,
   "id": "f1aca049-de48-42dc-bda6-aa9fe09f7a3d",
   "metadata": {},
   "outputs": [],
   "source": [
    "def get_email_structure(email):\n",
    "    if isinstance(email, str):\n",
    "        return email\n",
    "    payload = email.get_payload()\n",
    "    if isinstance(payload, list):\n",
    "        return \"multipart({})\".format(\", \".join([\n",
    "            get_email_structure(sub_email)\n",
    "            for sub_email in payload\n",
    "        ]))\n",
    "    else:\n",
    "        return email.get_content_type()"
   ]
  },
  {
   "cell_type": "code",
   "execution_count": 122,
   "id": "38bc4b66-b590-442e-920b-419a80f53701",
   "metadata": {},
   "outputs": [
    {
     "data": {
      "text/plain": [
       "'text/plain'"
      ]
     },
     "execution_count": 122,
     "metadata": {},
     "output_type": "execute_result"
    }
   ],
   "source": [
    "get_email_structure(spam[6])"
   ]
  },
  {
   "cell_type": "code",
   "execution_count": 126,
   "id": "25a711a8-a040-4f39-8757-f2b200bb2975",
   "metadata": {},
   "outputs": [],
   "source": [
    "from collections import Counter\n",
    "\n",
    "def count_types(list):\n",
    "    structures = Counter()\n",
    "    for email in list:\n",
    "        structure = get_email_structure(email)\n",
    "        structures[structure] += 1\n",
    "    return structures"
   ]
  },
  {
   "cell_type": "code",
   "execution_count": 130,
   "id": "1f18485a-48ad-4558-8a9e-c9963f4c8e1d",
   "metadata": {},
   "outputs": [
    {
     "data": {
      "text/plain": [
       "Counter({'text/plain': 218,\n",
       "         'text/html': 183,\n",
       "         'multipart(text/plain, text/html)': 45,\n",
       "         'multipart(text/html)': 20,\n",
       "         'multipart(text/plain)': 19,\n",
       "         'multipart(multipart(text/html))': 5,\n",
       "         'multipart(text/plain, image/jpeg)': 3,\n",
       "         'multipart(text/html, application/octet-stream)': 2,\n",
       "         'multipart(text/plain, application/octet-stream)': 1,\n",
       "         'multipart(text/html, text/plain)': 1,\n",
       "         'multipart(multipart(text/html), application/octet-stream, image/jpeg)': 1,\n",
       "         'multipart(multipart(text/plain, text/html), image/gif)': 1,\n",
       "         'multipart/alternative': 1})"
      ]
     },
     "execution_count": 130,
     "metadata": {},
     "output_type": "execute_result"
    }
   ],
   "source": [
    "count_types(spam)"
   ]
  },
  {
   "cell_type": "code",
   "execution_count": 132,
   "id": "5f4542cf-02a5-4ebf-919d-e1dd2a78c3e4",
   "metadata": {},
   "outputs": [
    {
     "data": {
      "text/plain": [
       "Counter({'text/plain': 2408,\n",
       "         'multipart(text/plain, application/pgp-signature)': 66,\n",
       "         'multipart(text/plain, text/html)': 8,\n",
       "         'multipart(text/plain, text/plain)': 4,\n",
       "         'multipart(text/plain)': 3,\n",
       "         'multipart(text/plain, application/octet-stream)': 2,\n",
       "         'multipart(text/plain, text/enriched)': 1,\n",
       "         'multipart(text/plain, application/ms-tnef, text/plain)': 1,\n",
       "         'multipart(multipart(text/plain, text/plain, text/plain), application/pgp-signature)': 1,\n",
       "         'multipart(text/plain, video/mng)': 1,\n",
       "         'multipart(text/plain, multipart(text/plain))': 1,\n",
       "         'multipart(text/plain, application/x-pkcs7-signature)': 1,\n",
       "         'multipart(text/plain, multipart(text/plain, text/plain), text/rfc822-headers)': 1,\n",
       "         'multipart(text/plain, multipart(text/plain, text/plain), multipart(multipart(text/plain, application/x-pkcs7-signature)))': 1,\n",
       "         'multipart(text/plain, application/x-java-applet)': 1})"
      ]
     },
     "execution_count": 132,
     "metadata": {},
     "output_type": "execute_result"
    }
   ],
   "source": [
    "count_types(ham)"
   ]
  },
  {
   "cell_type": "code",
   "execution_count": 136,
   "id": "e7255577-e30e-4bd3-99b9-3f4cf7d39dab",
   "metadata": {},
   "outputs": [
    {
     "name": "stdout",
     "output_type": "stream",
     "text": [
      "Return-Path : <12a1mailbot1@web.de>\n",
      "Delivered-To : zzzz@localhost.spamassassin.taint.org\n",
      "Received : from localhost (localhost [127.0.0.1])\tby phobos.labs.spamassassin.taint.org (Postfix) with ESMTP id 136B943C32\tfor <zzzz@localhost>; Thu, 22 Aug 2002 08:17:21 -0400 (EDT)\n",
      "Received : from mail.webnote.net [193.120.211.219]\tby localhost with POP3 (fetchmail-5.9.0)\tfor zzzz@localhost (single-drop); Thu, 22 Aug 2002 13:17:21 +0100 (IST)\n",
      "Received : from dd_it7 ([210.97.77.167])\tby webnote.net (8.9.3/8.9.3) with ESMTP id NAA04623\tfor <zzzz@spamassassin.taint.org>; Thu, 22 Aug 2002 13:09:41 +0100\n",
      "From : 12a1mailbot1@web.de\n",
      "Received : from r-smtp.korea.com - 203.122.2.197 by dd_it7  with Microsoft SMTPSVC(5.5.1775.675.6);\t Sat, 24 Aug 2002 09:42:10 +0900\n",
      "To : dcek1a1@netsgo.com\n",
      "Subject : Life Insurance - Why Pay More?\n",
      "Date : Wed, 21 Aug 2002 20:31:57 -1600\n",
      "MIME-Version : 1.0\n",
      "Message-ID : <0103c1042001882DD_IT7@dd_it7>\n",
      "Content-Type : text/html; charset=\"iso-8859-1\"\n",
      "Content-Transfer-Encoding : quoted-printable\n"
     ]
    }
   ],
   "source": [
    "for header, con in spam[0].items():\n",
    "    print(header, ':', con)"
   ]
  }
 ],
 "metadata": {
  "kernelspec": {
   "display_name": "Python 3 (ipykernel)",
   "language": "python",
   "name": "python3"
  },
  "language_info": {
   "codemirror_mode": {
    "name": "ipython",
    "version": 3
   },
   "file_extension": ".py",
   "mimetype": "text/x-python",
   "name": "python",
   "nbconvert_exporter": "python",
   "pygments_lexer": "ipython3",
   "version": "3.11.8"
  }
 },
 "nbformat": 4,
 "nbformat_minor": 5
}

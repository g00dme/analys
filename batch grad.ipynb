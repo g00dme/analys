{
 "cells": [
  {
   "cell_type": "code",
   "execution_count": 18,
   "id": "4656f2aa-3fbe-45b6-906e-be5d5ee42756",
   "metadata": {},
   "outputs": [],
   "source": [
    "import numpy as np\n",
    "import pandas as pd\n",
    "import matplotlib.pyplot as plt\n",
    "from sklearn.datasets import load_iris"
   ]
  },
  {
   "cell_type": "code",
   "execution_count": 56,
   "id": "cc56785b-1504-4128-859c-fb041f6a9c08",
   "metadata": {},
   "outputs": [],
   "source": [
    "iris = load_iris(as_frame=True)\n",
    "\n",
    "X = iris.data[[\"petal length (cm)\", \"petal width (cm)\"]].values\n",
    "X=np.c_[np.ones(X.shape[0]),X]\n",
    "\n",
    "y = iris[\"target\"].values"
   ]
  },
  {
   "cell_type": "code",
   "execution_count": 182,
   "id": "9695f0aa-0678-474b-8380-94e6a8b29f2d",
   "metadata": {},
   "outputs": [],
   "source": [
    "test_s=int(len(X)*0.2)\n",
    "val_s=int(len(X)*0.4)\n",
    "\n",
    "np.random.seed(42)\n",
    "index=np.random.permutation(len(X))\n",
    "\n",
    "test_X=X[index[:test_s]]\n",
    "test_y=y[index[:test_s]]\n",
    "\n",
    "val_X=X[index[test_s:val_s]]\n",
    "val_y=y[index[test_s:val_s]]\n",
    "\n",
    "train_X=X[index[val_s:]]\n",
    "train_y=y[index[val_s:]]\n",
    "\n"
   ]
  },
  {
   "cell_type": "code",
   "execution_count": 172,
   "id": "69e335c3-9a88-42a1-b2c4-c7cdfd58f6f8",
   "metadata": {},
   "outputs": [],
   "source": [
    "def my_one_hot(x):\n",
    "    return np.diag(np.ones(x.max()+1))[x]"
   ]
  },
  {
   "cell_type": "code",
   "execution_count": 184,
   "id": "ba657101-a6f7-4d4f-8504-e31f1fee21b0",
   "metadata": {},
   "outputs": [],
   "source": [
    "test_y=my_one_hot(test_y)\n",
    "val_y=my_one_hot(val_y)\n",
    "train_y=my_one_hot(train_y)"
   ]
  },
  {
   "cell_type": "code",
   "execution_count": 191,
   "id": "f05c22f7-e71d-47a2-9da8-72a150402391",
   "metadata": {},
   "outputs": [
    {
     "data": {
      "text/plain": [
       "array([[1., 1., 1.],\n",
       "       [1., 1., 1.],\n",
       "       [1., 1., 1.]])"
      ]
     },
     "execution_count": 191,
     "metadata": {},
     "output_type": "execute_result"
    }
   ],
   "source": [
    "coef=np.ones([X.shape[1],3])\n",
    "coef"
   ]
  },
  {
   "cell_type": "code",
   "execution_count": 196,
   "id": "208ef4bb-a329-47d2-9f79-84d6a711bba5",
   "metadata": {},
   "outputs": [],
   "source": [
    "def softmax(logit):\n",
    "    expn=np.exp(logit)\n",
    "    sum=expn.sum(axis=1)\n",
    "    return expn/sum"
   ]
  },
  {
   "cell_type": "code",
   "execution_count": 206,
   "id": "c41f1be3-fa95-411d-ae6f-8b3208f354d8",
   "metadata": {},
   "outputs": [
    {
     "data": {
      "text/plain": [
       "array([36])"
      ]
     },
     "execution_count": 206,
     "metadata": {},
     "output_type": "execute_result"
    }
   ],
   "source": [
    "np.arange(9).sum(keepdims=True)"
   ]
  }
 ],
 "metadata": {
  "kernelspec": {
   "display_name": "Python 3 (ipykernel)",
   "language": "python",
   "name": "python3"
  },
  "language_info": {
   "codemirror_mode": {
    "name": "ipython",
    "version": 3
   },
   "file_extension": ".py",
   "mimetype": "text/x-python",
   "name": "python",
   "nbconvert_exporter": "python",
   "pygments_lexer": "ipython3",
   "version": "3.11.8"
  }
 },
 "nbformat": 4,
 "nbformat_minor": 5
}

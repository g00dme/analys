{
 "cells": [
  {
   "cell_type": "code",
   "execution_count": 464,
   "id": "541f072c",
   "metadata": {},
   "outputs": [],
   "source": [
    "%matplotlib inline\n",
    "\n",
    "import pandas as pd\n",
    "import numpy as np\n",
    "import matplotlib.pyplot as plt\n",
    "\n",
    "import scipy.stats as stats\n",
    "from scipy.stats import f_oneway\n",
    "\n",
    "from sklearn.linear_model import LinearRegression\n",
    "from sklearn.preprocessing import OneHotEncoder\n",
    "\n",
    "from statsmodels.stats.outliers_influence import variance_inflation_factor \n",
    "import statsmodels.api as sm\n",
    "import statsmodels.formula.api as smf\n",
    "\n",
    "import seaborn as sns\n",
    "\n",
    "import re"
   ]
  },
  {
   "cell_type": "code",
   "execution_count": 465,
   "id": "93216c23",
   "metadata": {},
   "outputs": [],
   "source": [
    "df=pd.read_csv('/mnt/All/Downloads/Car_details_v3.csv')"
   ]
  },
  {
   "cell_type": "code",
   "execution_count": 466,
   "id": "a0188bb4",
   "metadata": {
    "scrolled": true
   },
   "outputs": [
    {
     "data": {
      "text/html": [
       "<div>\n",
       "<style scoped>\n",
       "    .dataframe tbody tr th:only-of-type {\n",
       "        vertical-align: middle;\n",
       "    }\n",
       "\n",
       "    .dataframe tbody tr th {\n",
       "        vertical-align: top;\n",
       "    }\n",
       "\n",
       "    .dataframe thead th {\n",
       "        text-align: right;\n",
       "    }\n",
       "</style>\n",
       "<table border=\"1\" class=\"dataframe\">\n",
       "  <thead>\n",
       "    <tr style=\"text-align: right;\">\n",
       "      <th></th>\n",
       "      <th>name</th>\n",
       "      <th>year</th>\n",
       "      <th>selling_price</th>\n",
       "      <th>km_driven</th>\n",
       "      <th>fuel</th>\n",
       "      <th>seller_type</th>\n",
       "      <th>transmission</th>\n",
       "      <th>owner</th>\n",
       "      <th>mileage</th>\n",
       "      <th>engine</th>\n",
       "      <th>max_power</th>\n",
       "      <th>torque</th>\n",
       "      <th>seats</th>\n",
       "    </tr>\n",
       "  </thead>\n",
       "  <tbody>\n",
       "    <tr>\n",
       "      <th>0</th>\n",
       "      <td>Maruti Swift Dzire VDI</td>\n",
       "      <td>2014</td>\n",
       "      <td>450000</td>\n",
       "      <td>145500</td>\n",
       "      <td>Diesel</td>\n",
       "      <td>Individual</td>\n",
       "      <td>Manual</td>\n",
       "      <td>First Owner</td>\n",
       "      <td>23.4 kmpl</td>\n",
       "      <td>1248 CC</td>\n",
       "      <td>74 bhp</td>\n",
       "      <td>190Nm@ 2000rpm</td>\n",
       "      <td>5.0</td>\n",
       "    </tr>\n",
       "    <tr>\n",
       "      <th>1</th>\n",
       "      <td>Skoda Rapid 1.5 TDI Ambition</td>\n",
       "      <td>2014</td>\n",
       "      <td>370000</td>\n",
       "      <td>120000</td>\n",
       "      <td>Diesel</td>\n",
       "      <td>Individual</td>\n",
       "      <td>Manual</td>\n",
       "      <td>Second Owner</td>\n",
       "      <td>21.14 kmpl</td>\n",
       "      <td>1498 CC</td>\n",
       "      <td>103.52 bhp</td>\n",
       "      <td>250Nm@ 1500-2500rpm</td>\n",
       "      <td>5.0</td>\n",
       "    </tr>\n",
       "    <tr>\n",
       "      <th>2</th>\n",
       "      <td>Honda City 2017-2020 EXi</td>\n",
       "      <td>2006</td>\n",
       "      <td>158000</td>\n",
       "      <td>140000</td>\n",
       "      <td>Petrol</td>\n",
       "      <td>Individual</td>\n",
       "      <td>Manual</td>\n",
       "      <td>Third Owner</td>\n",
       "      <td>17.7 kmpl</td>\n",
       "      <td>1497 CC</td>\n",
       "      <td>78 bhp</td>\n",
       "      <td>12.7@ 2,700(kgm@ rpm)</td>\n",
       "      <td>5.0</td>\n",
       "    </tr>\n",
       "    <tr>\n",
       "      <th>3</th>\n",
       "      <td>Hyundai i20 Sportz Diesel</td>\n",
       "      <td>2010</td>\n",
       "      <td>225000</td>\n",
       "      <td>127000</td>\n",
       "      <td>Diesel</td>\n",
       "      <td>Individual</td>\n",
       "      <td>Manual</td>\n",
       "      <td>First Owner</td>\n",
       "      <td>23.0 kmpl</td>\n",
       "      <td>1396 CC</td>\n",
       "      <td>90 bhp</td>\n",
       "      <td>22.4 kgm at 1750-2750rpm</td>\n",
       "      <td>5.0</td>\n",
       "    </tr>\n",
       "    <tr>\n",
       "      <th>4</th>\n",
       "      <td>Maruti Swift VXI BSIII</td>\n",
       "      <td>2007</td>\n",
       "      <td>130000</td>\n",
       "      <td>120000</td>\n",
       "      <td>Petrol</td>\n",
       "      <td>Individual</td>\n",
       "      <td>Manual</td>\n",
       "      <td>First Owner</td>\n",
       "      <td>16.1 kmpl</td>\n",
       "      <td>1298 CC</td>\n",
       "      <td>88.2 bhp</td>\n",
       "      <td>11.5@ 4,500(kgm@ rpm)</td>\n",
       "      <td>5.0</td>\n",
       "    </tr>\n",
       "  </tbody>\n",
       "</table>\n",
       "</div>"
      ],
      "text/plain": [
       "                           name  year  selling_price  km_driven    fuel  \\\n",
       "0        Maruti Swift Dzire VDI  2014         450000     145500  Diesel   \n",
       "1  Skoda Rapid 1.5 TDI Ambition  2014         370000     120000  Diesel   \n",
       "2      Honda City 2017-2020 EXi  2006         158000     140000  Petrol   \n",
       "3     Hyundai i20 Sportz Diesel  2010         225000     127000  Diesel   \n",
       "4        Maruti Swift VXI BSIII  2007         130000     120000  Petrol   \n",
       "\n",
       "  seller_type transmission         owner     mileage   engine   max_power  \\\n",
       "0  Individual       Manual   First Owner   23.4 kmpl  1248 CC      74 bhp   \n",
       "1  Individual       Manual  Second Owner  21.14 kmpl  1498 CC  103.52 bhp   \n",
       "2  Individual       Manual   Third Owner   17.7 kmpl  1497 CC      78 bhp   \n",
       "3  Individual       Manual   First Owner   23.0 kmpl  1396 CC      90 bhp   \n",
       "4  Individual       Manual   First Owner   16.1 kmpl  1298 CC    88.2 bhp   \n",
       "\n",
       "                     torque  seats  \n",
       "0            190Nm@ 2000rpm    5.0  \n",
       "1       250Nm@ 1500-2500rpm    5.0  \n",
       "2     12.7@ 2,700(kgm@ rpm)    5.0  \n",
       "3  22.4 kgm at 1750-2750rpm    5.0  \n",
       "4     11.5@ 4,500(kgm@ rpm)    5.0  "
      ]
     },
     "metadata": {},
     "output_type": "display_data"
    },
    {
     "data": {
      "text/plain": [
       "(8128, 13)"
      ]
     },
     "execution_count": 466,
     "metadata": {},
     "output_type": "execute_result"
    }
   ],
   "source": [
    "display(df.head())\n",
    "df.shape"
   ]
  },
  {
   "cell_type": "code",
   "execution_count": 467,
   "id": "1e288c5e",
   "metadata": {},
   "outputs": [
    {
     "name": "stdout",
     "output_type": "stream",
     "text": [
      "<class 'pandas.core.frame.DataFrame'>\n",
      "RangeIndex: 8128 entries, 0 to 8127\n",
      "Data columns (total 13 columns):\n",
      " #   Column         Non-Null Count  Dtype  \n",
      "---  ------         --------------  -----  \n",
      " 0   name           8128 non-null   object \n",
      " 1   year           8128 non-null   int64  \n",
      " 2   selling_price  8128 non-null   int64  \n",
      " 3   km_driven      8128 non-null   int64  \n",
      " 4   fuel           8128 non-null   object \n",
      " 5   seller_type    8128 non-null   object \n",
      " 6   transmission   8128 non-null   object \n",
      " 7   owner          8128 non-null   object \n",
      " 8   mileage        7907 non-null   object \n",
      " 9   engine         7907 non-null   object \n",
      " 10  max_power      7913 non-null   object \n",
      " 11  torque         7906 non-null   object \n",
      " 12  seats          7907 non-null   float64\n",
      "dtypes: float64(1), int64(3), object(9)\n",
      "memory usage: 825.6+ KB\n"
     ]
    }
   ],
   "source": [
    "df.info()"
   ]
  },
  {
   "cell_type": "code",
   "execution_count": 468,
   "id": "a568dc01",
   "metadata": {},
   "outputs": [],
   "source": [
    "df=df.drop('name',axis=1)"
   ]
  },
  {
   "cell_type": "code",
   "execution_count": 469,
   "id": "5d2d2507",
   "metadata": {},
   "outputs": [],
   "source": [
    "df=df.drop(4933) #некоректное значение max_power"
   ]
  },
  {
   "cell_type": "code",
   "execution_count": 470,
   "id": "0dccae94",
   "metadata": {},
   "outputs": [
    {
     "name": "stderr",
     "output_type": "stream",
     "text": [
      "/tmp/ipykernel_90319/860976924.py:2: DeprecationWarning: In a future version, `df.iloc[:, i] = newvals` will attempt to set the values inplace instead of always setting a new array. To retain the old behavior, use either `df[df.columns[i]] = newvals` or, if columns are non-unique, `df.isetitem(i, newvals)`\n",
      "  df.loc[:,'mileage']= df.loc[df['mileage'].notna(),'mileage'].astype(\"float\")\n",
      "/tmp/ipykernel_90319/860976924.py:6: DeprecationWarning: In a future version, `df.iloc[:, i] = newvals` will attempt to set the values inplace instead of always setting a new array. To retain the old behavior, use either `df[df.columns[i]] = newvals` or, if columns are non-unique, `df.isetitem(i, newvals)`\n",
      "  df.loc[:,'engine']= df.loc[df['engine'].notna(),'engine'].astype(\"int\")\n",
      "/tmp/ipykernel_90319/860976924.py:10: DeprecationWarning: In a future version, `df.iloc[:, i] = newvals` will attempt to set the values inplace instead of always setting a new array. To retain the old behavior, use either `df[df.columns[i]] = newvals` or, if columns are non-unique, `df.isetitem(i, newvals)`\n",
      "  df.loc[:,'max_power']= df.loc[df['max_power'].notna(),'max_power'].astype(\"float\")\n",
      "/tmp/ipykernel_90319/860976924.py:14: DeprecationWarning: In a future version, `df.iloc[:, i] = newvals` will attempt to set the values inplace instead of always setting a new array. To retain the old behavior, use either `df[df.columns[i]] = newvals` or, if columns are non-unique, `df.isetitem(i, newvals)`\n",
      "  df.loc[:,'torque']= df.loc[df['torque'].notna(),'torque'].astype(\"float\")\n"
     ]
    }
   ],
   "source": [
    "df.loc[:,'mileage']= df.loc[df['mileage'].notna(),'mileage'].apply(lambda x: re.search(r\"[\\d\\.]+\",x).group())\n",
    "df.loc[:,'mileage']= df.loc[df['mileage'].notna(),'mileage'].astype(\"float\")\n",
    "\n",
    "df.loc[:,'engine']= \\\n",
    "    df.loc[df['engine'].notna(),'engine'].apply(lambda x: re.search(r\"[\\d]+\",x).group())\n",
    "df.loc[:,'engine']= df.loc[df['engine'].notna(),'engine'].astype(\"int\")\n",
    "\n",
    "df.loc[:,'max_power']= \\\n",
    "    df.loc[df['max_power'].notna(),'max_power'].apply(lambda x: re.search(r\"[\\d\\.]+\",x).group())\n",
    "df.loc[:,'max_power']= df.loc[df['max_power'].notna(),'max_power'].astype(\"float\")\n",
    "\n",
    "df.loc[:,'torque']= \\\n",
    "    df.loc[df['torque'].notna(),'torque'].apply(lambda x: re.search(r\"[\\d\\.]+\",x).group())\n",
    "df.loc[:,'torque']= df.loc[df['torque'].notna(),'torque'].astype(\"float\")"
   ]
  },
  {
   "cell_type": "code",
   "execution_count": 471,
   "id": "246584fb",
   "metadata": {},
   "outputs": [],
   "source": [
    "df=df.dropna()"
   ]
  },
  {
   "cell_type": "code",
   "execution_count": 472,
   "id": "e00288df",
   "metadata": {},
   "outputs": [
    {
     "name": "stdout",
     "output_type": "stream",
     "text": [
      "fuel 4\n",
      "seller_type 3\n",
      "transmission 2\n",
      "owner 5\n"
     ]
    }
   ],
   "source": [
    "txt=df.columns[df.dtypes==object]\n",
    "for x in df[txt]:\n",
    "    print(x,len(df[x].unique()))"
   ]
  },
  {
   "cell_type": "code",
   "execution_count": 473,
   "id": "745d90c4",
   "metadata": {
    "scrolled": true
   },
   "outputs": [
    {
     "data": {
      "text/plain": [
       "<Figure size 640x480 with 0 Axes>"
      ]
     },
     "metadata": {},
     "output_type": "display_data"
    },
    {
     "data": {
      "image/png": "[encoded data removed]",
      "text/plain": [
       "<Figure size 640x480 with 1 Axes>"
      ]
     },
     "metadata": {},
     "output_type": "display_data"
    },
    {
     "data": {
      "text/plain": [
       "<Figure size 640x480 with 0 Axes>"
      ]
     },
     "metadata": {},
     "output_type": "display_data"
    },
    {
     "data": {
      "image/png": "[encoded data removed]",
      "text/plain": [
       "<Figure size 640x480 with 1 Axes>"
      ]
     },
     "metadata": {},
     "output_type": "display_data"
    },
    {
     "data": {
      "text/plain": [
       "<Figure size 640x480 with 0 Axes>"
      ]
     },
     "metadata": {},
     "output_type": "display_data"
    },
    {
     "data": {
      "image/png": "[encoded data removed]",
      "text/plain": [
       "<Figure size 640x480 with 1 Axes>"
      ]
     },
     "metadata": {},
     "output_type": "display_data"
    },
    {
     "data": {
      "text/plain": [
       "<Figure size 640x480 with 0 Axes>"
      ]
     },
     "metadata": {},
     "output_type": "display_data"
    },
    {
     "data": {
      "image/png": "[encoded data removed]",
      "text/plain": [
       "<Figure size 640x480 with 1 Axes>"
      ]
     },
     "metadata": {},
     "output_type": "display_data"
    },
    {
     "data": {
      "text/plain": [
       "<Figure size 640x480 with 0 Axes>"
      ]
     },
     "metadata": {},
     "output_type": "display_data"
    },
    {
     "data": {
      "image/png": "[encoded data removed]",
      "text/plain": [
       "<Figure size 640x480 with 1 Axes>"
      ]
     },
     "metadata": {},
     "output_type": "display_data"
    },
    {
     "data": {
      "text/plain": [
       "<Figure size 640x480 with 0 Axes>"
      ]
     },
     "metadata": {},
     "output_type": "display_data"
    },
    {
     "data": {
      "image/png": "[encoded data removed]",
      "text/plain": [
       "<Figure size 640x480 with 1 Axes>"
      ]
     },
     "metadata": {},
     "output_type": "display_data"
    },
    {
     "data": {
      "text/plain": [
       "<Figure size 640x480 with 0 Axes>"
      ]
     },
     "metadata": {},
     "output_type": "display_data"
    },
    {
     "data": {
      "image/png": "[encoded data removed]",
      "text/plain": [
       "<Figure size 640x480 with 1 Axes>"
      ]
     },
     "metadata": {},
     "output_type": "display_data"
    },
    {
     "data": {
      "text/plain": [
       "<Figure size 640x480 with 0 Axes>"
      ]
     },
     "metadata": {},
     "output_type": "display_data"
    },
    {
     "data": {
      "image/png": "[encoded data removed]",
      "text/plain": [
       "<Figure size 640x480 with 1 Axes>"
      ]
     },
     "metadata": {},
     "output_type": "display_data"
    }
   ],
   "source": [
    "integ=np.setdiff1d(df.columns,txt)\n",
    "for column in integ:\n",
    "    plt.figure()\n",
    "    df.hist(column=[column])"
   ]
  },
  {
   "cell_type": "code",
   "execution_count": 474,
   "id": "7ba09b4c",
   "metadata": {},
   "outputs": [],
   "source": [
    "z=np.abs(stats.zscore(df[integ]))\n",
    "df[integ]=df[integ][(z<3).all(axis=1)]\n",
    "df=df.dropna()\n",
    "df=df.reset_index(drop=True)"
   ]
  },
  {
   "cell_type": "code",
   "execution_count": 475,
   "id": "b9dcec4d",
   "metadata": {
    "scrolled": true
   },
   "outputs": [
    {
     "data": {
      "text/plain": [
       "<Figure size 640x480 with 0 Axes>"
      ]
     },
     "metadata": {},
     "output_type": "display_data"
    },
    {
     "data": {
      "image/png": "[encoded data removed]",
      "text/plain": [
       "<Figure size 640x480 with 1 Axes>"
      ]
     },
     "metadata": {},
     "output_type": "display_data"
    },
    {
     "data": {
      "text/plain": [
       "<Figure size 640x480 with 0 Axes>"
      ]
     },
     "metadata": {},
     "output_type": "display_data"
    },
    {
     "data": {
      "image/png": "[encoded data removed]",
      "text/plain": [
       "<Figure size 640x480 with 1 Axes>"
      ]
     },
     "metadata": {},
     "output_type": "display_data"
    },
    {
     "data": {
      "text/plain": [
       "<Figure size 640x480 with 0 Axes>"
      ]
     },
     "metadata": {},
     "output_type": "display_data"
    },
    {
     "data": {
      "image/png": "[encoded data removed]",
      "text/plain": [
       "<Figure size 640x480 with 1 Axes>"
      ]
     },
     "metadata": {},
     "output_type": "display_data"
    },
    {
     "data": {
      "text/plain": [
       "<Figure size 640x480 with 0 Axes>"
      ]
     },
     "metadata": {},
     "output_type": "display_data"
    },
    {
     "data": {
      "image/png": "[encoded data removed]",
      "text/plain": [
       "<Figure size 640x480 with 1 Axes>"
      ]
     },
     "metadata": {},
     "output_type": "display_data"
    },
    {
     "data": {
      "text/plain": [
       "<Figure size 640x480 with 0 Axes>"
      ]
     },
     "metadata": {},
     "output_type": "display_data"
    },
    {
     "data": {
      "image/png": "[encoded data removed]",
      "text/plain": [
       "<Figure size 640x480 with 1 Axes>"
      ]
     },
     "metadata": {},
     "output_type": "display_data"
    },
    {
     "data": {
      "text/plain": [
       "<Figure size 640x480 with 0 Axes>"
      ]
     },
     "metadata": {},
     "output_type": "display_data"
    },
    {
     "data": {
      "image/png": "[encoded data removed]",
      "text/plain": [
       "<Figure size 640x480 with 1 Axes>"
      ]
     },
     "metadata": {},
     "output_type": "display_data"
    },
    {
     "data": {
      "text/plain": [
       "<Figure size 640x480 with 0 Axes>"
      ]
     },
     "metadata": {},
     "output_type": "display_data"
    },
    {
     "data": {
      "image/png": "[encoded data removed]",
      "text/plain": [
       "<Figure size 640x480 with 1 Axes>"
      ]
     },
     "metadata": {},
     "output_type": "display_data"
    },
    {
     "data": {
      "text/plain": [
       "<Figure size 640x480 with 0 Axes>"
      ]
     },
     "metadata": {},
     "output_type": "display_data"
    },
    {
     "data": {
      "image/png": "[encoded data removed]",
      "text/plain": [
       "<Figure size 640x480 with 1 Axes>"
      ]
     },
     "metadata": {},
     "output_type": "display_data"
    }
   ],
   "source": [
    "for column in integ:\n",
    "    plt.figure()\n",
    "    df.hist(column=[column])"
   ]
  },
  {
   "cell_type": "code",
   "execution_count": 476,
   "id": "b52483d4",
   "metadata": {},
   "outputs": [
    {
     "data": {
      "text/html": [
       "<div>\n",
       "<style scoped>\n",
       "    .dataframe tbody tr th:only-of-type {\n",
       "        vertical-align: middle;\n",
       "    }\n",
       "\n",
       "    .dataframe tbody tr th {\n",
       "        vertical-align: top;\n",
       "    }\n",
       "\n",
       "    .dataframe thead th {\n",
       "        text-align: right;\n",
       "    }\n",
       "</style>\n",
       "<table border=\"1\" class=\"dataframe\">\n",
       "  <thead>\n",
       "    <tr style=\"text-align: right;\">\n",
       "      <th></th>\n",
       "      <th>fuel_Diesel</th>\n",
       "      <th>fuel_LPG</th>\n",
       "      <th>fuel_Petrol</th>\n",
       "      <th>seller_type_Individual</th>\n",
       "      <th>seller_type_Trustmark Dealer</th>\n",
       "      <th>transmission_Manual</th>\n",
       "      <th>owner_Fourth &amp; Above Owner</th>\n",
       "      <th>owner_Second Owner</th>\n",
       "      <th>owner_Test Drive Car</th>\n",
       "      <th>owner_Third Owner</th>\n",
       "    </tr>\n",
       "  </thead>\n",
       "  <tbody>\n",
       "    <tr>\n",
       "      <th>0</th>\n",
       "      <td>1.0</td>\n",
       "      <td>0.0</td>\n",
       "      <td>0.0</td>\n",
       "      <td>1.0</td>\n",
       "      <td>0.0</td>\n",
       "      <td>1.0</td>\n",
       "      <td>0.0</td>\n",
       "      <td>0.0</td>\n",
       "      <td>0.0</td>\n",
       "      <td>0.0</td>\n",
       "    </tr>\n",
       "    <tr>\n",
       "      <th>1</th>\n",
       "      <td>1.0</td>\n",
       "      <td>0.0</td>\n",
       "      <td>0.0</td>\n",
       "      <td>1.0</td>\n",
       "      <td>0.0</td>\n",
       "      <td>1.0</td>\n",
       "      <td>0.0</td>\n",
       "      <td>1.0</td>\n",
       "      <td>0.0</td>\n",
       "      <td>0.0</td>\n",
       "    </tr>\n",
       "    <tr>\n",
       "      <th>2</th>\n",
       "      <td>0.0</td>\n",
       "      <td>0.0</td>\n",
       "      <td>1.0</td>\n",
       "      <td>1.0</td>\n",
       "      <td>0.0</td>\n",
       "      <td>1.0</td>\n",
       "      <td>0.0</td>\n",
       "      <td>0.0</td>\n",
       "      <td>0.0</td>\n",
       "      <td>1.0</td>\n",
       "    </tr>\n",
       "    <tr>\n",
       "      <th>3</th>\n",
       "      <td>1.0</td>\n",
       "      <td>0.0</td>\n",
       "      <td>0.0</td>\n",
       "      <td>1.0</td>\n",
       "      <td>0.0</td>\n",
       "      <td>1.0</td>\n",
       "      <td>0.0</td>\n",
       "      <td>0.0</td>\n",
       "      <td>0.0</td>\n",
       "      <td>0.0</td>\n",
       "    </tr>\n",
       "    <tr>\n",
       "      <th>4</th>\n",
       "      <td>0.0</td>\n",
       "      <td>0.0</td>\n",
       "      <td>1.0</td>\n",
       "      <td>1.0</td>\n",
       "      <td>0.0</td>\n",
       "      <td>1.0</td>\n",
       "      <td>0.0</td>\n",
       "      <td>0.0</td>\n",
       "      <td>0.0</td>\n",
       "      <td>0.0</td>\n",
       "    </tr>\n",
       "    <tr>\n",
       "      <th>...</th>\n",
       "      <td>...</td>\n",
       "      <td>...</td>\n",
       "      <td>...</td>\n",
       "      <td>...</td>\n",
       "      <td>...</td>\n",
       "      <td>...</td>\n",
       "      <td>...</td>\n",
       "      <td>...</td>\n",
       "      <td>...</td>\n",
       "      <td>...</td>\n",
       "    </tr>\n",
       "    <tr>\n",
       "      <th>7338</th>\n",
       "      <td>0.0</td>\n",
       "      <td>0.0</td>\n",
       "      <td>1.0</td>\n",
       "      <td>1.0</td>\n",
       "      <td>0.0</td>\n",
       "      <td>1.0</td>\n",
       "      <td>0.0</td>\n",
       "      <td>0.0</td>\n",
       "      <td>0.0</td>\n",
       "      <td>0.0</td>\n",
       "    </tr>\n",
       "    <tr>\n",
       "      <th>7339</th>\n",
       "      <td>1.0</td>\n",
       "      <td>0.0</td>\n",
       "      <td>0.0</td>\n",
       "      <td>1.0</td>\n",
       "      <td>0.0</td>\n",
       "      <td>1.0</td>\n",
       "      <td>1.0</td>\n",
       "      <td>0.0</td>\n",
       "      <td>0.0</td>\n",
       "      <td>0.0</td>\n",
       "    </tr>\n",
       "    <tr>\n",
       "      <th>7340</th>\n",
       "      <td>1.0</td>\n",
       "      <td>0.0</td>\n",
       "      <td>0.0</td>\n",
       "      <td>1.0</td>\n",
       "      <td>0.0</td>\n",
       "      <td>1.0</td>\n",
       "      <td>0.0</td>\n",
       "      <td>0.0</td>\n",
       "      <td>0.0</td>\n",
       "      <td>0.0</td>\n",
       "    </tr>\n",
       "    <tr>\n",
       "      <th>7341</th>\n",
       "      <td>1.0</td>\n",
       "      <td>0.0</td>\n",
       "      <td>0.0</td>\n",
       "      <td>1.0</td>\n",
       "      <td>0.0</td>\n",
       "      <td>1.0</td>\n",
       "      <td>0.0</td>\n",
       "      <td>0.0</td>\n",
       "      <td>0.0</td>\n",
       "      <td>0.0</td>\n",
       "    </tr>\n",
       "    <tr>\n",
       "      <th>7342</th>\n",
       "      <td>1.0</td>\n",
       "      <td>0.0</td>\n",
       "      <td>0.0</td>\n",
       "      <td>1.0</td>\n",
       "      <td>0.0</td>\n",
       "      <td>1.0</td>\n",
       "      <td>0.0</td>\n",
       "      <td>0.0</td>\n",
       "      <td>0.0</td>\n",
       "      <td>0.0</td>\n",
       "    </tr>\n",
       "  </tbody>\n",
       "</table>\n",
       "<p>7343 rows × 10 columns</p>\n",
       "</div>"
      ],
      "text/plain": [
       "      fuel_Diesel  fuel_LPG  fuel_Petrol  seller_type_Individual  \\\n",
       "0             1.0       0.0          0.0                     1.0   \n",
       "1             1.0       0.0          0.0                     1.0   \n",
       "2             0.0       0.0          1.0                     1.0   \n",
       "3             1.0       0.0          0.0                     1.0   \n",
       "4             0.0       0.0          1.0                     1.0   \n",
       "...           ...       ...          ...                     ...   \n",
       "7338          0.0       0.0          1.0                     1.0   \n",
       "7339          1.0       0.0          0.0                     1.0   \n",
       "7340          1.0       0.0          0.0                     1.0   \n",
       "7341          1.0       0.0          0.0                     1.0   \n",
       "7342          1.0       0.0          0.0                     1.0   \n",
       "\n",
       "      seller_type_Trustmark Dealer  transmission_Manual  \\\n",
       "0                              0.0                  1.0   \n",
       "1                              0.0                  1.0   \n",
       "2                              0.0                  1.0   \n",
       "3                              0.0                  1.0   \n",
       "4                              0.0                  1.0   \n",
       "...                            ...                  ...   \n",
       "7338                           0.0                  1.0   \n",
       "7339                           0.0                  1.0   \n",
       "7340                           0.0                  1.0   \n",
       "7341                           0.0                  1.0   \n",
       "7342                           0.0                  1.0   \n",
       "\n",
       "      owner_Fourth & Above Owner  owner_Second Owner  owner_Test Drive Car  \\\n",
       "0                            0.0                 0.0                   0.0   \n",
       "1                            0.0                 1.0                   0.0   \n",
       "2                            0.0                 0.0                   0.0   \n",
       "3                            0.0                 0.0                   0.0   \n",
       "4                            0.0                 0.0                   0.0   \n",
       "...                          ...                 ...                   ...   \n",
       "7338                         0.0                 0.0                   0.0   \n",
       "7339                         1.0                 0.0                   0.0   \n",
       "7340                         0.0                 0.0                   0.0   \n",
       "7341                         0.0                 0.0                   0.0   \n",
       "7342                         0.0                 0.0                   0.0   \n",
       "\n",
       "      owner_Third Owner  \n",
       "0                   0.0  \n",
       "1                   0.0  \n",
       "2                   1.0  \n",
       "3                   0.0  \n",
       "4                   0.0  \n",
       "...                 ...  \n",
       "7338                0.0  \n",
       "7339                0.0  \n",
       "7340                0.0  \n",
       "7341                0.0  \n",
       "7342                0.0  \n",
       "\n",
       "[7343 rows x 10 columns]"
      ]
     },
     "execution_count": 476,
     "metadata": {},
     "output_type": "execute_result"
    }
   ],
   "source": [
    "onehot=OneHotEncoder(drop='first',sparse_output=False)\n",
    "transformed=pd.DataFrame(onehot.fit_transform(df[txt]),columns=onehot.get_feature_names_out())\n",
    "transformed"
   ]
  },
  {
   "cell_type": "code",
   "execution_count": 477,
   "id": "b84332f2",
   "metadata": {},
   "outputs": [
    {
     "data": {
      "text/html": [
       "<div>\n",
       "<style scoped>\n",
       "    .dataframe tbody tr th:only-of-type {\n",
       "        vertical-align: middle;\n",
       "    }\n",
       "\n",
       "    .dataframe tbody tr th {\n",
       "        vertical-align: top;\n",
       "    }\n",
       "\n",
       "    .dataframe thead th {\n",
       "        text-align: right;\n",
       "    }\n",
       "</style>\n",
       "<table border=\"1\" class=\"dataframe\">\n",
       "  <thead>\n",
       "    <tr style=\"text-align: right;\">\n",
       "      <th></th>\n",
       "      <th>engine</th>\n",
       "      <th>km_driven</th>\n",
       "      <th>max_power</th>\n",
       "      <th>mileage</th>\n",
       "      <th>seats</th>\n",
       "      <th>selling_price</th>\n",
       "      <th>torque</th>\n",
       "      <th>year</th>\n",
       "      <th>fuel_Diesel</th>\n",
       "      <th>fuel_LPG</th>\n",
       "      <th>fuel_Petrol</th>\n",
       "      <th>seller_type_Individual</th>\n",
       "      <th>seller_type_Trustmark Dealer</th>\n",
       "      <th>transmission_Manual</th>\n",
       "      <th>owner_Fourth &amp; Above Owner</th>\n",
       "      <th>owner_Second Owner</th>\n",
       "      <th>owner_Test Drive Car</th>\n",
       "      <th>owner_Third Owner</th>\n",
       "    </tr>\n",
       "  </thead>\n",
       "  <tbody>\n",
       "    <tr>\n",
       "      <th>0</th>\n",
       "      <td>1248.0</td>\n",
       "      <td>145500.0</td>\n",
       "      <td>74.00</td>\n",
       "      <td>23.40</td>\n",
       "      <td>5.0</td>\n",
       "      <td>450000.0</td>\n",
       "      <td>190.0</td>\n",
       "      <td>2014.0</td>\n",
       "      <td>1.0</td>\n",
       "      <td>0.0</td>\n",
       "      <td>0.0</td>\n",
       "      <td>1.0</td>\n",
       "      <td>0.0</td>\n",
       "      <td>1.0</td>\n",
       "      <td>0.0</td>\n",
       "      <td>0.0</td>\n",
       "      <td>0.0</td>\n",
       "      <td>0.0</td>\n",
       "    </tr>\n",
       "    <tr>\n",
       "      <th>1</th>\n",
       "      <td>1498.0</td>\n",
       "      <td>120000.0</td>\n",
       "      <td>103.52</td>\n",
       "      <td>21.14</td>\n",
       "      <td>5.0</td>\n",
       "      <td>370000.0</td>\n",
       "      <td>250.0</td>\n",
       "      <td>2014.0</td>\n",
       "      <td>1.0</td>\n",
       "      <td>0.0</td>\n",
       "      <td>0.0</td>\n",
       "      <td>1.0</td>\n",
       "      <td>0.0</td>\n",
       "      <td>1.0</td>\n",
       "      <td>0.0</td>\n",
       "      <td>1.0</td>\n",
       "      <td>0.0</td>\n",
       "      <td>0.0</td>\n",
       "    </tr>\n",
       "    <tr>\n",
       "      <th>2</th>\n",
       "      <td>1497.0</td>\n",
       "      <td>140000.0</td>\n",
       "      <td>78.00</td>\n",
       "      <td>17.70</td>\n",
       "      <td>5.0</td>\n",
       "      <td>158000.0</td>\n",
       "      <td>12.7</td>\n",
       "      <td>2006.0</td>\n",
       "      <td>0.0</td>\n",
       "      <td>0.0</td>\n",
       "      <td>1.0</td>\n",
       "      <td>1.0</td>\n",
       "      <td>0.0</td>\n",
       "      <td>1.0</td>\n",
       "      <td>0.0</td>\n",
       "      <td>0.0</td>\n",
       "      <td>0.0</td>\n",
       "      <td>1.0</td>\n",
       "    </tr>\n",
       "    <tr>\n",
       "      <th>3</th>\n",
       "      <td>1396.0</td>\n",
       "      <td>127000.0</td>\n",
       "      <td>90.00</td>\n",
       "      <td>23.00</td>\n",
       "      <td>5.0</td>\n",
       "      <td>225000.0</td>\n",
       "      <td>22.4</td>\n",
       "      <td>2010.0</td>\n",
       "      <td>1.0</td>\n",
       "      <td>0.0</td>\n",
       "      <td>0.0</td>\n",
       "      <td>1.0</td>\n",
       "      <td>0.0</td>\n",
       "      <td>1.0</td>\n",
       "      <td>0.0</td>\n",
       "      <td>0.0</td>\n",
       "      <td>0.0</td>\n",
       "      <td>0.0</td>\n",
       "    </tr>\n",
       "    <tr>\n",
       "      <th>4</th>\n",
       "      <td>1298.0</td>\n",
       "      <td>120000.0</td>\n",
       "      <td>88.20</td>\n",
       "      <td>16.10</td>\n",
       "      <td>5.0</td>\n",
       "      <td>130000.0</td>\n",
       "      <td>11.5</td>\n",
       "      <td>2007.0</td>\n",
       "      <td>0.0</td>\n",
       "      <td>0.0</td>\n",
       "      <td>1.0</td>\n",
       "      <td>1.0</td>\n",
       "      <td>0.0</td>\n",
       "      <td>1.0</td>\n",
       "      <td>0.0</td>\n",
       "      <td>0.0</td>\n",
       "      <td>0.0</td>\n",
       "      <td>0.0</td>\n",
       "    </tr>\n",
       "    <tr>\n",
       "      <th>...</th>\n",
       "      <td>...</td>\n",
       "      <td>...</td>\n",
       "      <td>...</td>\n",
       "      <td>...</td>\n",
       "      <td>...</td>\n",
       "      <td>...</td>\n",
       "      <td>...</td>\n",
       "      <td>...</td>\n",
       "      <td>...</td>\n",
       "      <td>...</td>\n",
       "      <td>...</td>\n",
       "      <td>...</td>\n",
       "      <td>...</td>\n",
       "      <td>...</td>\n",
       "      <td>...</td>\n",
       "      <td>...</td>\n",
       "      <td>...</td>\n",
       "      <td>...</td>\n",
       "    </tr>\n",
       "    <tr>\n",
       "      <th>7338</th>\n",
       "      <td>1197.0</td>\n",
       "      <td>110000.0</td>\n",
       "      <td>82.85</td>\n",
       "      <td>18.50</td>\n",
       "      <td>5.0</td>\n",
       "      <td>320000.0</td>\n",
       "      <td>113.7</td>\n",
       "      <td>2013.0</td>\n",
       "      <td>0.0</td>\n",
       "      <td>0.0</td>\n",
       "      <td>1.0</td>\n",
       "      <td>1.0</td>\n",
       "      <td>0.0</td>\n",
       "      <td>1.0</td>\n",
       "      <td>0.0</td>\n",
       "      <td>0.0</td>\n",
       "      <td>0.0</td>\n",
       "      <td>0.0</td>\n",
       "    </tr>\n",
       "    <tr>\n",
       "      <th>7339</th>\n",
       "      <td>1493.0</td>\n",
       "      <td>119000.0</td>\n",
       "      <td>110.00</td>\n",
       "      <td>16.80</td>\n",
       "      <td>5.0</td>\n",
       "      <td>135000.0</td>\n",
       "      <td>24.0</td>\n",
       "      <td>2007.0</td>\n",
       "      <td>1.0</td>\n",
       "      <td>0.0</td>\n",
       "      <td>0.0</td>\n",
       "      <td>1.0</td>\n",
       "      <td>0.0</td>\n",
       "      <td>1.0</td>\n",
       "      <td>1.0</td>\n",
       "      <td>0.0</td>\n",
       "      <td>0.0</td>\n",
       "      <td>0.0</td>\n",
       "    </tr>\n",
       "    <tr>\n",
       "      <th>7340</th>\n",
       "      <td>1248.0</td>\n",
       "      <td>120000.0</td>\n",
       "      <td>73.90</td>\n",
       "      <td>19.30</td>\n",
       "      <td>5.0</td>\n",
       "      <td>382000.0</td>\n",
       "      <td>190.0</td>\n",
       "      <td>2009.0</td>\n",
       "      <td>1.0</td>\n",
       "      <td>0.0</td>\n",
       "      <td>0.0</td>\n",
       "      <td>1.0</td>\n",
       "      <td>0.0</td>\n",
       "      <td>1.0</td>\n",
       "      <td>0.0</td>\n",
       "      <td>0.0</td>\n",
       "      <td>0.0</td>\n",
       "      <td>0.0</td>\n",
       "    </tr>\n",
       "    <tr>\n",
       "      <th>7341</th>\n",
       "      <td>1396.0</td>\n",
       "      <td>25000.0</td>\n",
       "      <td>70.00</td>\n",
       "      <td>23.57</td>\n",
       "      <td>5.0</td>\n",
       "      <td>290000.0</td>\n",
       "      <td>140.0</td>\n",
       "      <td>2013.0</td>\n",
       "      <td>1.0</td>\n",
       "      <td>0.0</td>\n",
       "      <td>0.0</td>\n",
       "      <td>1.0</td>\n",
       "      <td>0.0</td>\n",
       "      <td>1.0</td>\n",
       "      <td>0.0</td>\n",
       "      <td>0.0</td>\n",
       "      <td>0.0</td>\n",
       "      <td>0.0</td>\n",
       "    </tr>\n",
       "    <tr>\n",
       "      <th>7342</th>\n",
       "      <td>1396.0</td>\n",
       "      <td>25000.0</td>\n",
       "      <td>70.00</td>\n",
       "      <td>23.57</td>\n",
       "      <td>5.0</td>\n",
       "      <td>290000.0</td>\n",
       "      <td>140.0</td>\n",
       "      <td>2013.0</td>\n",
       "      <td>1.0</td>\n",
       "      <td>0.0</td>\n",
       "      <td>0.0</td>\n",
       "      <td>1.0</td>\n",
       "      <td>0.0</td>\n",
       "      <td>1.0</td>\n",
       "      <td>0.0</td>\n",
       "      <td>0.0</td>\n",
       "      <td>0.0</td>\n",
       "      <td>0.0</td>\n",
       "    </tr>\n",
       "  </tbody>\n",
       "</table>\n",
       "<p>7343 rows × 18 columns</p>\n",
       "</div>"
      ],
      "text/plain": [
       "      engine  km_driven  max_power  mileage  seats  selling_price  torque  \\\n",
       "0     1248.0   145500.0      74.00    23.40    5.0       450000.0   190.0   \n",
       "1     1498.0   120000.0     103.52    21.14    5.0       370000.0   250.0   \n",
       "2     1497.0   140000.0      78.00    17.70    5.0       158000.0    12.7   \n",
       "3     1396.0   127000.0      90.00    23.00    5.0       225000.0    22.4   \n",
       "4     1298.0   120000.0      88.20    16.10    5.0       130000.0    11.5   \n",
       "...      ...        ...        ...      ...    ...            ...     ...   \n",
       "7338  1197.0   110000.0      82.85    18.50    5.0       320000.0   113.7   \n",
       "7339  1493.0   119000.0     110.00    16.80    5.0       135000.0    24.0   \n",
       "7340  1248.0   120000.0      73.90    19.30    5.0       382000.0   190.0   \n",
       "7341  1396.0    25000.0      70.00    23.57    5.0       290000.0   140.0   \n",
       "7342  1396.0    25000.0      70.00    23.57    5.0       290000.0   140.0   \n",
       "\n",
       "        year  fuel_Diesel  fuel_LPG  fuel_Petrol  seller_type_Individual  \\\n",
       "0     2014.0          1.0       0.0          0.0                     1.0   \n",
       "1     2014.0          1.0       0.0          0.0                     1.0   \n",
       "2     2006.0          0.0       0.0          1.0                     1.0   \n",
       "3     2010.0          1.0       0.0          0.0                     1.0   \n",
       "4     2007.0          0.0       0.0          1.0                     1.0   \n",
       "...      ...          ...       ...          ...                     ...   \n",
       "7338  2013.0          0.0       0.0          1.0                     1.0   \n",
       "7339  2007.0          1.0       0.0          0.0                     1.0   \n",
       "7340  2009.0          1.0       0.0          0.0                     1.0   \n",
       "7341  2013.0          1.0       0.0          0.0                     1.0   \n",
       "7342  2013.0          1.0       0.0          0.0                     1.0   \n",
       "\n",
       "      seller_type_Trustmark Dealer  transmission_Manual  \\\n",
       "0                              0.0                  1.0   \n",
       "1                              0.0                  1.0   \n",
       "2                              0.0                  1.0   \n",
       "3                              0.0                  1.0   \n",
       "4                              0.0                  1.0   \n",
       "...                            ...                  ...   \n",
       "7338                           0.0                  1.0   \n",
       "7339                           0.0                  1.0   \n",
       "7340                           0.0                  1.0   \n",
       "7341                           0.0                  1.0   \n",
       "7342                           0.0                  1.0   \n",
       "\n",
       "      owner_Fourth & Above Owner  owner_Second Owner  owner_Test Drive Car  \\\n",
       "0                            0.0                 0.0                   0.0   \n",
       "1                            0.0                 1.0                   0.0   \n",
       "2                            0.0                 0.0                   0.0   \n",
       "3                            0.0                 0.0                   0.0   \n",
       "4                            0.0                 0.0                   0.0   \n",
       "...                          ...                 ...                   ...   \n",
       "7338                         0.0                 0.0                   0.0   \n",
       "7339                         1.0                 0.0                   0.0   \n",
       "7340                         0.0                 0.0                   0.0   \n",
       "7341                         0.0                 0.0                   0.0   \n",
       "7342                         0.0                 0.0                   0.0   \n",
       "\n",
       "      owner_Third Owner  \n",
       "0                   0.0  \n",
       "1                   0.0  \n",
       "2                   1.0  \n",
       "3                   0.0  \n",
       "4                   0.0  \n",
       "...                 ...  \n",
       "7338                0.0  \n",
       "7339                0.0  \n",
       "7340                0.0  \n",
       "7341                0.0  \n",
       "7342                0.0  \n",
       "\n",
       "[7343 rows x 18 columns]"
      ]
     },
     "execution_count": 477,
     "metadata": {},
     "output_type": "execute_result"
    }
   ],
   "source": [
    "df=pd.concat([df[integ],transformed],axis=1,join=\"inner\")\n",
    "df"
   ]
  },
  {
   "cell_type": "code",
   "execution_count": 478,
   "id": "1e55adda",
   "metadata": {},
   "outputs": [],
   "source": [
    "y=df['selling_price']\n",
    "x=df.drop('selling_price',axis=1)"
   ]
  },
  {
   "cell_type": "code",
   "execution_count": 479,
   "id": "c9a7afb3",
   "metadata": {},
   "outputs": [
    {
     "data": {
      "text/html": [
       "<div>\n",
       "<style scoped>\n",
       "    .dataframe tbody tr th:only-of-type {\n",
       "        vertical-align: middle;\n",
       "    }\n",
       "\n",
       "    .dataframe tbody tr th {\n",
       "        vertical-align: top;\n",
       "    }\n",
       "\n",
       "    .dataframe thead th {\n",
       "        text-align: right;\n",
       "    }\n",
       "</style>\n",
       "<table border=\"1\" class=\"dataframe\">\n",
       "  <thead>\n",
       "    <tr style=\"text-align: right;\">\n",
       "      <th></th>\n",
       "      <th>feature</th>\n",
       "      <th>vif</th>\n",
       "    </tr>\n",
       "  </thead>\n",
       "  <tbody>\n",
       "    <tr>\n",
       "      <th>0</th>\n",
       "      <td>engine</td>\n",
       "      <td>54.567030</td>\n",
       "    </tr>\n",
       "    <tr>\n",
       "      <th>1</th>\n",
       "      <td>km_driven</td>\n",
       "      <td>5.348403</td>\n",
       "    </tr>\n",
       "    <tr>\n",
       "      <th>2</th>\n",
       "      <td>max_power</td>\n",
       "      <td>42.145705</td>\n",
       "    </tr>\n",
       "    <tr>\n",
       "      <th>3</th>\n",
       "      <td>mileage</td>\n",
       "      <td>75.913873</td>\n",
       "    </tr>\n",
       "    <tr>\n",
       "      <th>4</th>\n",
       "      <td>seats</td>\n",
       "      <td>83.980655</td>\n",
       "    </tr>\n",
       "    <tr>\n",
       "      <th>5</th>\n",
       "      <td>torque</td>\n",
       "      <td>19.523428</td>\n",
       "    </tr>\n",
       "    <tr>\n",
       "      <th>6</th>\n",
       "      <td>year</td>\n",
       "      <td>474.774500</td>\n",
       "    </tr>\n",
       "    <tr>\n",
       "      <th>7</th>\n",
       "      <td>fuel_Diesel</td>\n",
       "      <td>90.099443</td>\n",
       "    </tr>\n",
       "    <tr>\n",
       "      <th>8</th>\n",
       "      <td>fuel_LPG</td>\n",
       "      <td>1.778760</td>\n",
       "    </tr>\n",
       "    <tr>\n",
       "      <th>9</th>\n",
       "      <td>fuel_Petrol</td>\n",
       "      <td>77.825215</td>\n",
       "    </tr>\n",
       "    <tr>\n",
       "      <th>10</th>\n",
       "      <td>seller_type_Individual</td>\n",
       "      <td>8.905421</td>\n",
       "    </tr>\n",
       "    <tr>\n",
       "      <th>11</th>\n",
       "      <td>seller_type_Trustmark Dealer</td>\n",
       "      <td>1.329921</td>\n",
       "    </tr>\n",
       "    <tr>\n",
       "      <th>12</th>\n",
       "      <td>transmission_Manual</td>\n",
       "      <td>13.163646</td>\n",
       "    </tr>\n",
       "    <tr>\n",
       "      <th>13</th>\n",
       "      <td>owner_Fourth &amp; Above Owner</td>\n",
       "      <td>1.068698</td>\n",
       "    </tr>\n",
       "    <tr>\n",
       "      <th>14</th>\n",
       "      <td>owner_Second Owner</td>\n",
       "      <td>1.609750</td>\n",
       "    </tr>\n",
       "    <tr>\n",
       "      <th>15</th>\n",
       "      <td>owner_Test Drive Car</td>\n",
       "      <td>1.002741</td>\n",
       "    </tr>\n",
       "    <tr>\n",
       "      <th>16</th>\n",
       "      <td>owner_Third Owner</td>\n",
       "      <td>1.214513</td>\n",
       "    </tr>\n",
       "  </tbody>\n",
       "</table>\n",
       "</div>"
      ],
      "text/plain": [
       "                         feature         vif\n",
       "0                         engine   54.567030\n",
       "1                      km_driven    5.348403\n",
       "2                      max_power   42.145705\n",
       "3                        mileage   75.913873\n",
       "4                          seats   83.980655\n",
       "5                         torque   19.523428\n",
       "6                           year  474.774500\n",
       "7                    fuel_Diesel   90.099443\n",
       "8                       fuel_LPG    1.778760\n",
       "9                    fuel_Petrol   77.825215\n",
       "10        seller_type_Individual    8.905421\n",
       "11  seller_type_Trustmark Dealer    1.329921\n",
       "12           transmission_Manual   13.163646\n",
       "13    owner_Fourth & Above Owner    1.068698\n",
       "14            owner_Second Owner    1.609750\n",
       "15          owner_Test Drive Car    1.002741\n",
       "16             owner_Third Owner    1.214513"
      ]
     },
     "execution_count": 479,
     "metadata": {},
     "output_type": "execute_result"
    }
   ],
   "source": [
    "vif=pd.DataFrame()\n",
    "vif['feature']=x.columns\n",
    "vif['vif']=[variance_inflation_factor(x.values,i) for i in range(len(x.columns))]\n",
    "vif"
   ]
  },
  {
   "cell_type": "code",
   "execution_count": 480,
   "id": "450b7942",
   "metadata": {},
   "outputs": [],
   "source": [
    "try:\n",
    "    while(vif.max()[1]>5 ):\n",
    "        m=vif.max()[1]\n",
    "        m=vif[vif['vif']==m]['feature']\n",
    "        x=x.drop(m,axis=1)\n",
    "        vif=pd.DataFrame()\n",
    "        vif['feature']=x.columns\n",
    "        vif['vif']=[variance_inflation_factor(x.values,i) for i in range(len(x.columns))]\n",
    "except:\n",
    "    print(vif)"
   ]
  },
  {
   "cell_type": "code",
   "execution_count": 481,
   "id": "d64dd461",
   "metadata": {},
   "outputs": [
    {
     "name": "stdout",
     "output_type": "stream",
     "text": [
      "feature      torque\n",
      "vif        3.386503\n",
      "dtype: object\n"
     ]
    },
    {
     "data": {
      "text/html": [
       "<div>\n",
       "<style scoped>\n",
       "    .dataframe tbody tr th:only-of-type {\n",
       "        vertical-align: middle;\n",
       "    }\n",
       "\n",
       "    .dataframe tbody tr th {\n",
       "        vertical-align: top;\n",
       "    }\n",
       "\n",
       "    .dataframe thead th {\n",
       "        text-align: right;\n",
       "    }\n",
       "</style>\n",
       "<table border=\"1\" class=\"dataframe\">\n",
       "  <thead>\n",
       "    <tr style=\"text-align: right;\">\n",
       "      <th></th>\n",
       "      <th>feature</th>\n",
       "      <th>vif</th>\n",
       "    </tr>\n",
       "  </thead>\n",
       "  <tbody>\n",
       "    <tr>\n",
       "      <th>0</th>\n",
       "      <td>km_driven</td>\n",
       "      <td>3.386503</td>\n",
       "    </tr>\n",
       "    <tr>\n",
       "      <th>1</th>\n",
       "      <td>torque</td>\n",
       "      <td>2.525444</td>\n",
       "    </tr>\n",
       "    <tr>\n",
       "      <th>2</th>\n",
       "      <td>fuel_LPG</td>\n",
       "      <td>1.008674</td>\n",
       "    </tr>\n",
       "    <tr>\n",
       "      <th>3</th>\n",
       "      <td>fuel_Petrol</td>\n",
       "      <td>1.312526</td>\n",
       "    </tr>\n",
       "    <tr>\n",
       "      <th>4</th>\n",
       "      <td>seller_type_Trustmark Dealer</td>\n",
       "      <td>1.064517</td>\n",
       "    </tr>\n",
       "    <tr>\n",
       "      <th>5</th>\n",
       "      <td>owner_Fourth &amp; Above Owner</td>\n",
       "      <td>1.054678</td>\n",
       "    </tr>\n",
       "    <tr>\n",
       "      <th>6</th>\n",
       "      <td>owner_Second Owner</td>\n",
       "      <td>1.533537</td>\n",
       "    </tr>\n",
       "    <tr>\n",
       "      <th>7</th>\n",
       "      <td>owner_Test Drive Car</td>\n",
       "      <td>1.000845</td>\n",
       "    </tr>\n",
       "    <tr>\n",
       "      <th>8</th>\n",
       "      <td>owner_Third Owner</td>\n",
       "      <td>1.179774</td>\n",
       "    </tr>\n",
       "  </tbody>\n",
       "</table>\n",
       "</div>"
      ],
      "text/plain": [
       "                        feature       vif\n",
       "0                     km_driven  3.386503\n",
       "1                        torque  2.525444\n",
       "2                      fuel_LPG  1.008674\n",
       "3                   fuel_Petrol  1.312526\n",
       "4  seller_type_Trustmark Dealer  1.064517\n",
       "5    owner_Fourth & Above Owner  1.054678\n",
       "6            owner_Second Owner  1.533537\n",
       "7          owner_Test Drive Car  1.000845\n",
       "8             owner_Third Owner  1.179774"
      ]
     },
     "execution_count": 481,
     "metadata": {},
     "output_type": "execute_result"
    }
   ],
   "source": [
    "print(vif.max())\n",
    "vif"
   ]
  },
  {
   "cell_type": "code",
   "execution_count": 482,
   "id": "d576fcef",
   "metadata": {},
   "outputs": [
    {
     "data": {
      "text/html": [
       "<div>\n",
       "<style scoped>\n",
       "    .dataframe tbody tr th:only-of-type {\n",
       "        vertical-align: middle;\n",
       "    }\n",
       "\n",
       "    .dataframe tbody tr th {\n",
       "        vertical-align: top;\n",
       "    }\n",
       "\n",
       "    .dataframe thead th {\n",
       "        text-align: right;\n",
       "    }\n",
       "</style>\n",
       "<table border=\"1\" class=\"dataframe\">\n",
       "  <thead>\n",
       "    <tr style=\"text-align: right;\">\n",
       "      <th></th>\n",
       "      <th>km_driven</th>\n",
       "      <th>torque</th>\n",
       "      <th>fuel_LPG</th>\n",
       "      <th>fuel_Petrol</th>\n",
       "      <th>seller_type_Trustmark Dealer</th>\n",
       "      <th>owner_Fourth &amp; Above Owner</th>\n",
       "      <th>owner_Second Owner</th>\n",
       "      <th>owner_Test Drive Car</th>\n",
       "      <th>owner_Third Owner</th>\n",
       "    </tr>\n",
       "  </thead>\n",
       "  <tbody>\n",
       "    <tr>\n",
       "      <th>0</th>\n",
       "      <td>145500.0</td>\n",
       "      <td>190.0</td>\n",
       "      <td>0.0</td>\n",
       "      <td>0.0</td>\n",
       "      <td>0.0</td>\n",
       "      <td>0.0</td>\n",
       "      <td>0.0</td>\n",
       "      <td>0.0</td>\n",
       "      <td>0.0</td>\n",
       "    </tr>\n",
       "    <tr>\n",
       "      <th>1</th>\n",
       "      <td>120000.0</td>\n",
       "      <td>250.0</td>\n",
       "      <td>0.0</td>\n",
       "      <td>0.0</td>\n",
       "      <td>0.0</td>\n",
       "      <td>0.0</td>\n",
       "      <td>1.0</td>\n",
       "      <td>0.0</td>\n",
       "      <td>0.0</td>\n",
       "    </tr>\n",
       "    <tr>\n",
       "      <th>2</th>\n",
       "      <td>140000.0</td>\n",
       "      <td>12.7</td>\n",
       "      <td>0.0</td>\n",
       "      <td>1.0</td>\n",
       "      <td>0.0</td>\n",
       "      <td>0.0</td>\n",
       "      <td>0.0</td>\n",
       "      <td>0.0</td>\n",
       "      <td>1.0</td>\n",
       "    </tr>\n",
       "    <tr>\n",
       "      <th>3</th>\n",
       "      <td>127000.0</td>\n",
       "      <td>22.4</td>\n",
       "      <td>0.0</td>\n",
       "      <td>0.0</td>\n",
       "      <td>0.0</td>\n",
       "      <td>0.0</td>\n",
       "      <td>0.0</td>\n",
       "      <td>0.0</td>\n",
       "      <td>0.0</td>\n",
       "    </tr>\n",
       "    <tr>\n",
       "      <th>4</th>\n",
       "      <td>120000.0</td>\n",
       "      <td>11.5</td>\n",
       "      <td>0.0</td>\n",
       "      <td>1.0</td>\n",
       "      <td>0.0</td>\n",
       "      <td>0.0</td>\n",
       "      <td>0.0</td>\n",
       "      <td>0.0</td>\n",
       "      <td>0.0</td>\n",
       "    </tr>\n",
       "    <tr>\n",
       "      <th>...</th>\n",
       "      <td>...</td>\n",
       "      <td>...</td>\n",
       "      <td>...</td>\n",
       "      <td>...</td>\n",
       "      <td>...</td>\n",
       "      <td>...</td>\n",
       "      <td>...</td>\n",
       "      <td>...</td>\n",
       "      <td>...</td>\n",
       "    </tr>\n",
       "    <tr>\n",
       "      <th>7338</th>\n",
       "      <td>110000.0</td>\n",
       "      <td>113.7</td>\n",
       "      <td>0.0</td>\n",
       "      <td>1.0</td>\n",
       "      <td>0.0</td>\n",
       "      <td>0.0</td>\n",
       "      <td>0.0</td>\n",
       "      <td>0.0</td>\n",
       "      <td>0.0</td>\n",
       "    </tr>\n",
       "    <tr>\n",
       "      <th>7339</th>\n",
       "      <td>119000.0</td>\n",
       "      <td>24.0</td>\n",
       "      <td>0.0</td>\n",
       "      <td>0.0</td>\n",
       "      <td>0.0</td>\n",
       "      <td>1.0</td>\n",
       "      <td>0.0</td>\n",
       "      <td>0.0</td>\n",
       "      <td>0.0</td>\n",
       "    </tr>\n",
       "    <tr>\n",
       "      <th>7340</th>\n",
       "      <td>120000.0</td>\n",
       "      <td>190.0</td>\n",
       "      <td>0.0</td>\n",
       "      <td>0.0</td>\n",
       "      <td>0.0</td>\n",
       "      <td>0.0</td>\n",
       "      <td>0.0</td>\n",
       "      <td>0.0</td>\n",
       "      <td>0.0</td>\n",
       "    </tr>\n",
       "    <tr>\n",
       "      <th>7341</th>\n",
       "      <td>25000.0</td>\n",
       "      <td>140.0</td>\n",
       "      <td>0.0</td>\n",
       "      <td>0.0</td>\n",
       "      <td>0.0</td>\n",
       "      <td>0.0</td>\n",
       "      <td>0.0</td>\n",
       "      <td>0.0</td>\n",
       "      <td>0.0</td>\n",
       "    </tr>\n",
       "    <tr>\n",
       "      <th>7342</th>\n",
       "      <td>25000.0</td>\n",
       "      <td>140.0</td>\n",
       "      <td>0.0</td>\n",
       "      <td>0.0</td>\n",
       "      <td>0.0</td>\n",
       "      <td>0.0</td>\n",
       "      <td>0.0</td>\n",
       "      <td>0.0</td>\n",
       "      <td>0.0</td>\n",
       "    </tr>\n",
       "  </tbody>\n",
       "</table>\n",
       "<p>7343 rows × 9 columns</p>\n",
       "</div>"
      ],
      "text/plain": [
       "      km_driven  torque  fuel_LPG  fuel_Petrol  seller_type_Trustmark Dealer  \\\n",
       "0      145500.0   190.0       0.0          0.0                           0.0   \n",
       "1      120000.0   250.0       0.0          0.0                           0.0   \n",
       "2      140000.0    12.7       0.0          1.0                           0.0   \n",
       "3      127000.0    22.4       0.0          0.0                           0.0   \n",
       "4      120000.0    11.5       0.0          1.0                           0.0   \n",
       "...         ...     ...       ...          ...                           ...   \n",
       "7338   110000.0   113.7       0.0          1.0                           0.0   \n",
       "7339   119000.0    24.0       0.0          0.0                           0.0   \n",
       "7340   120000.0   190.0       0.0          0.0                           0.0   \n",
       "7341    25000.0   140.0       0.0          0.0                           0.0   \n",
       "7342    25000.0   140.0       0.0          0.0                           0.0   \n",
       "\n",
       "      owner_Fourth & Above Owner  owner_Second Owner  owner_Test Drive Car  \\\n",
       "0                            0.0                 0.0                   0.0   \n",
       "1                            0.0                 1.0                   0.0   \n",
       "2                            0.0                 0.0                   0.0   \n",
       "3                            0.0                 0.0                   0.0   \n",
       "4                            0.0                 0.0                   0.0   \n",
       "...                          ...                 ...                   ...   \n",
       "7338                         0.0                 0.0                   0.0   \n",
       "7339                         1.0                 0.0                   0.0   \n",
       "7340                         0.0                 0.0                   0.0   \n",
       "7341                         0.0                 0.0                   0.0   \n",
       "7342                         0.0                 0.0                   0.0   \n",
       "\n",
       "      owner_Third Owner  \n",
       "0                   0.0  \n",
       "1                   0.0  \n",
       "2                   1.0  \n",
       "3                   0.0  \n",
       "4                   0.0  \n",
       "...                 ...  \n",
       "7338                0.0  \n",
       "7339                0.0  \n",
       "7340                0.0  \n",
       "7341                0.0  \n",
       "7342                0.0  \n",
       "\n",
       "[7343 rows x 9 columns]"
      ]
     },
     "execution_count": 482,
     "metadata": {},
     "output_type": "execute_result"
    }
   ],
   "source": [
    "x"
   ]
  },
  {
   "cell_type": "code",
   "execution_count": 483,
   "id": "7d8b795e",
   "metadata": {
    "scrolled": true
   },
   "outputs": [
    {
     "data": {
      "text/html": [
       "<table class=\"simpletable\">\n",
       "<caption>OLS Regression Results</caption>\n",
       "<tr>\n",
       "  <th>Dep. Variable:</th>      <td>selling_price</td>  <th>  R-squared:         </th>  <td>   0.536</td>  \n",
       "</tr>\n",
       "<tr>\n",
       "  <th>Model:</th>                   <td>OLS</td>       <th>  Adj. R-squared:    </th>  <td>   0.536</td>  \n",
       "</tr>\n",
       "<tr>\n",
       "  <th>Method:</th>             <td>Least Squares</td>  <th>  F-statistic:       </th>  <td>   941.5</td>  \n",
       "</tr>\n",
       "<tr>\n",
       "  <th>Date:</th>             <td>Thu, 18 Jan 2024</td> <th>  Prob (F-statistic):</th>   <td>  0.00</td>   \n",
       "</tr>\n",
       "<tr>\n",
       "  <th>Time:</th>                 <td>11:47:28</td>     <th>  Log-Likelihood:    </th> <td>-1.0251e+05</td>\n",
       "</tr>\n",
       "<tr>\n",
       "  <th>No. Observations:</th>      <td>  7343</td>      <th>  AIC:               </th>  <td>2.050e+05</td> \n",
       "</tr>\n",
       "<tr>\n",
       "  <th>Df Residuals:</th>          <td>  7333</td>      <th>  BIC:               </th>  <td>2.051e+05</td> \n",
       "</tr>\n",
       "<tr>\n",
       "  <th>Df Model:</th>              <td>     9</td>      <th>                     </th>      <td> </td>     \n",
       "</tr>\n",
       "<tr>\n",
       "  <th>Covariance Type:</th>      <td>nonrobust</td>    <th>                     </th>      <td> </td>     \n",
       "</tr>\n",
       "</table>\n",
       "<table class=\"simpletable\">\n",
       "<tr>\n",
       "                <td></td>                  <th>coef</th>     <th>std err</th>      <th>t</th>      <th>P>|t|</th>  <th>[0.025</th>    <th>0.975]</th>  \n",
       "</tr>\n",
       "<tr>\n",
       "  <th>km_driven</th>                    <td>   -2.4175</td> <td>    0.091</td> <td>  -26.664</td> <td> 0.000</td> <td>   -2.595</td> <td>   -2.240</td>\n",
       "</tr>\n",
       "<tr>\n",
       "  <th>torque</th>                       <td> 3365.1157</td> <td>   52.286</td> <td>   64.360</td> <td> 0.000</td> <td> 3262.621</td> <td> 3467.611</td>\n",
       "</tr>\n",
       "<tr>\n",
       "  <th>fuel_LPG</th>                     <td> 8.143e+04</td> <td> 4.88e+04</td> <td>    1.670</td> <td> 0.095</td> <td>-1.42e+04</td> <td> 1.77e+05</td>\n",
       "</tr>\n",
       "<tr>\n",
       "  <th>fuel_Petrol</th>                  <td> 6.023e+04</td> <td> 9461.878</td> <td>    6.365</td> <td> 0.000</td> <td> 4.17e+04</td> <td> 7.88e+04</td>\n",
       "</tr>\n",
       "<tr>\n",
       "  <th>seller_type_Trustmark Dealer</th> <td>  2.45e+05</td> <td> 1.88e+04</td> <td>   13.033</td> <td> 0.000</td> <td> 2.08e+05</td> <td> 2.82e+05</td>\n",
       "</tr>\n",
       "<tr>\n",
       "  <th>owner_Fourth & Above Owner</th>   <td>-1.481e+05</td> <td> 2.46e+04</td> <td>   -6.027</td> <td> 0.000</td> <td>-1.96e+05</td> <td>-9.99e+04</td>\n",
       "</tr>\n",
       "<tr>\n",
       "  <th>owner_Second Owner</th>           <td>-9.809e+04</td> <td> 8000.906</td> <td>  -12.259</td> <td> 0.000</td> <td>-1.14e+05</td> <td>-8.24e+04</td>\n",
       "</tr>\n",
       "<tr>\n",
       "  <th>owner_Test Drive Car</th>         <td> 8.159e+05</td> <td> 1.98e+05</td> <td>    4.121</td> <td> 0.000</td> <td> 4.28e+05</td> <td>  1.2e+06</td>\n",
       "</tr>\n",
       "<tr>\n",
       "  <th>owner_Third Owner</th>            <td>-1.145e+05</td> <td>  1.4e+04</td> <td>   -8.155</td> <td> 0.000</td> <td>-1.42e+05</td> <td> -8.7e+04</td>\n",
       "</tr>\n",
       "<tr>\n",
       "  <th>intercept</th>                    <td> 1.521e+05</td> <td> 1.49e+04</td> <td>   10.196</td> <td> 0.000</td> <td> 1.23e+05</td> <td> 1.81e+05</td>\n",
       "</tr>\n",
       "</table>\n",
       "<table class=\"simpletable\">\n",
       "<tr>\n",
       "  <th>Omnibus:</th>       <td>3075.979</td> <th>  Durbin-Watson:     </th> <td>   1.967</td> \n",
       "</tr>\n",
       "<tr>\n",
       "  <th>Prob(Omnibus):</th>  <td> 0.000</td>  <th>  Jarque-Bera (JB):  </th> <td>20398.112</td>\n",
       "</tr>\n",
       "<tr>\n",
       "  <th>Skew:</th>           <td> 1.878</td>  <th>  Prob(JB):          </th> <td>    0.00</td> \n",
       "</tr>\n",
       "<tr>\n",
       "  <th>Kurtosis:</th>       <td>10.250</td>  <th>  Cond. No.          </th> <td>4.81e+06</td> \n",
       "</tr>\n",
       "</table><br/><br/>Notes:<br/>[1] Standard Errors assume that the covariance matrix of the errors is correctly specified.<br/>[2] The condition number is large, 4.81e+06. This might indicate that there are<br/>strong multicollinearity or other numerical problems."
      ],
      "text/latex": [
       "\\begin{center}\n",
       "\\begin{tabular}{lclc}\n",
       "\\toprule\n",
       "\\textbf{Dep. Variable:}                 &  selling\\_price  & \\textbf{  R-squared:         } &      0.536   \\\\\n",
       "\\textbf{Model:}                         &       OLS        & \\textbf{  Adj. R-squared:    } &      0.536   \\\\\n",
       "\\textbf{Method:}                        &  Least Squares   & \\textbf{  F-statistic:       } &      941.5   \\\\\n",
       "\\textbf{Date:}                          & Thu, 18 Jan 2024 & \\textbf{  Prob (F-statistic):} &      0.00    \\\\\n",
       "\\textbf{Time:}                          &     11:47:28     & \\textbf{  Log-Likelihood:    } & -1.0251e+05  \\\\\n",
       "\\textbf{No. Observations:}              &        7343      & \\textbf{  AIC:               } &  2.050e+05   \\\\\n",
       "\\textbf{Df Residuals:}                  &        7333      & \\textbf{  BIC:               } &  2.051e+05   \\\\\n",
       "\\textbf{Df Model:}                      &           9      & \\textbf{                     } &              \\\\\n",
       "\\textbf{Covariance Type:}               &    nonrobust     & \\textbf{                     } &              \\\\\n",
       "\\bottomrule\n",
       "\\end{tabular}\n",
       "\\begin{tabular}{lcccccc}\n",
       "                                        & \\textbf{coef} & \\textbf{std err} & \\textbf{t} & \\textbf{P$> |$t$|$} & \\textbf{[0.025} & \\textbf{0.975]}  \\\\\n",
       "\\midrule\n",
       "\\textbf{km\\_driven}                     &      -2.4175  &        0.091     &   -26.664  &         0.000        &       -2.595    &       -2.240     \\\\\n",
       "\\textbf{torque}                         &    3365.1157  &       52.286     &    64.360  &         0.000        &     3262.621    &     3467.611     \\\\\n",
       "\\textbf{fuel\\_LPG}                      &    8.143e+04  &     4.88e+04     &     1.670  &         0.095        &    -1.42e+04    &     1.77e+05     \\\\\n",
       "\\textbf{fuel\\_Petrol}                   &    6.023e+04  &     9461.878     &     6.365  &         0.000        &     4.17e+04    &     7.88e+04     \\\\\n",
       "\\textbf{seller\\_type\\_Trustmark Dealer} &     2.45e+05  &     1.88e+04     &    13.033  &         0.000        &     2.08e+05    &     2.82e+05     \\\\\n",
       "\\textbf{owner\\_Fourth \\& Above Owner}   &   -1.481e+05  &     2.46e+04     &    -6.027  &         0.000        &    -1.96e+05    &    -9.99e+04     \\\\\n",
       "\\textbf{owner\\_Second Owner}            &   -9.809e+04  &     8000.906     &   -12.259  &         0.000        &    -1.14e+05    &    -8.24e+04     \\\\\n",
       "\\textbf{owner\\_Test Drive Car}          &    8.159e+05  &     1.98e+05     &     4.121  &         0.000        &     4.28e+05    &      1.2e+06     \\\\\n",
       "\\textbf{owner\\_Third Owner}             &   -1.145e+05  &      1.4e+04     &    -8.155  &         0.000        &    -1.42e+05    &     -8.7e+04     \\\\\n",
       "\\textbf{intercept}                      &    1.521e+05  &     1.49e+04     &    10.196  &         0.000        &     1.23e+05    &     1.81e+05     \\\\\n",
       "\\bottomrule\n",
       "\\end{tabular}\n",
       "\\begin{tabular}{lclc}\n",
       "\\textbf{Omnibus:}       & 3075.979 & \\textbf{  Durbin-Watson:     } &     1.967  \\\\\n",
       "\\textbf{Prob(Omnibus):} &   0.000  & \\textbf{  Jarque-Bera (JB):  } & 20398.112  \\\\\n",
       "\\textbf{Skew:}          &   1.878  & \\textbf{  Prob(JB):          } &      0.00  \\\\\n",
       "\\textbf{Kurtosis:}      &  10.250  & \\textbf{  Cond. No.          } &  4.81e+06  \\\\\n",
       "\\bottomrule\n",
       "\\end{tabular}\n",
       "%\\caption{OLS Regression Results}\n",
       "\\end{center}\n",
       "\n",
       "Notes: \\newline\n",
       " [1] Standard Errors assume that the covariance matrix of the errors is correctly specified. \\newline\n",
       " [2] The condition number is large, 4.81e+06. This might indicate that there are \\newline\n",
       " strong multicollinearity or other numerical problems."
      ],
      "text/plain": [
       "<class 'statsmodels.iolib.summary.Summary'>\n",
       "\"\"\"\n",
       "                            OLS Regression Results                            \n",
       "==============================================================================\n",
       "Dep. Variable:          selling_price   R-squared:                       0.536\n",
       "Model:                            OLS   Adj. R-squared:                  0.536\n",
       "Method:                 Least Squares   F-statistic:                     941.5\n",
       "Date:                Thu, 18 Jan 2024   Prob (F-statistic):               0.00\n",
       "Time:                        11:47:28   Log-Likelihood:            -1.0251e+05\n",
       "No. Observations:                7343   AIC:                         2.050e+05\n",
       "Df Residuals:                    7333   BIC:                         2.051e+05\n",
       "Df Model:                           9                                         \n",
       "Covariance Type:            nonrobust                                         \n",
       "================================================================================================\n",
       "                                   coef    std err          t      P>|t|      [0.025      0.975]\n",
       "------------------------------------------------------------------------------------------------\n",
       "km_driven                       -2.4175      0.091    -26.664      0.000      -2.595      -2.240\n",
       "torque                        3365.1157     52.286     64.360      0.000    3262.621    3467.611\n",
       "fuel_LPG                      8.143e+04   4.88e+04      1.670      0.095   -1.42e+04    1.77e+05\n",
       "fuel_Petrol                   6.023e+04   9461.878      6.365      0.000    4.17e+04    7.88e+04\n",
       "seller_type_Trustmark Dealer   2.45e+05   1.88e+04     13.033      0.000    2.08e+05    2.82e+05\n",
       "owner_Fourth & Above Owner   -1.481e+05   2.46e+04     -6.027      0.000   -1.96e+05   -9.99e+04\n",
       "owner_Second Owner           -9.809e+04   8000.906    -12.259      0.000   -1.14e+05   -8.24e+04\n",
       "owner_Test Drive Car          8.159e+05   1.98e+05      4.121      0.000    4.28e+05     1.2e+06\n",
       "owner_Third Owner            -1.145e+05    1.4e+04     -8.155      0.000   -1.42e+05    -8.7e+04\n",
       "intercept                     1.521e+05   1.49e+04     10.196      0.000    1.23e+05    1.81e+05\n",
       "==============================================================================\n",
       "Omnibus:                     3075.979   Durbin-Watson:                   1.967\n",
       "Prob(Omnibus):                  0.000   Jarque-Bera (JB):            20398.112\n",
       "Skew:                           1.878   Prob(JB):                         0.00\n",
       "Kurtosis:                      10.250   Cond. No.                     4.81e+06\n",
       "==============================================================================\n",
       "\n",
       "Notes:\n",
       "[1] Standard Errors assume that the covariance matrix of the errors is correctly specified.\n",
       "[2] The condition number is large, 4.81e+06. This might indicate that there are\n",
       "strong multicollinearity or other numerical problems.\n",
       "\"\"\""
      ]
     },
     "execution_count": 483,
     "metadata": {},
     "output_type": "execute_result"
    }
   ],
   "source": [
    "X1=x.copy()\n",
    "X1['intercept']=np.ones([X1.shape[0],1])\n",
    "results = sm.OLS(y, X1).fit()\n",
    "results.summary()"
   ]
  },
  {
   "cell_type": "code",
   "execution_count": 484,
   "id": "f5c1a601",
   "metadata": {
    "scrolled": true
   },
   "outputs": [
    {
     "data": {
      "text/plain": [
       "[1.387994346967137e-149,\n",
       " 0.0,\n",
       " 0.09504335602647587,\n",
       " 2.0642366693280752e-10,\n",
       " 2.107155422815856e-38,\n",
       " 1.75350933038415e-09,\n",
       " 3.227781380740235e-34,\n",
       " 3.8187831300891275e-05,\n",
       " 4.0658392357172407e-16]"
      ]
     },
     "metadata": {},
     "output_type": "display_data"
    }
   ],
   "source": [
    "display([results.pvalues[i] for i in x])\n",
    "for i in x:\n",
    "    if results.pvalues[i]>0.05:\n",
    "        x=x.drop(i,axis=1)"
   ]
  },
  {
   "cell_type": "code",
   "execution_count": 485,
   "id": "692795a0",
   "metadata": {
    "scrolled": true
   },
   "outputs": [
    {
     "data": {
      "text/plain": [
       "3.8187831300891275e-05"
      ]
     },
     "metadata": {},
     "output_type": "display_data"
    },
    {
     "data": {
      "text/plain": [
       "8"
      ]
     },
     "metadata": {},
     "output_type": "display_data"
    },
    {
     "data": {
      "text/plain": [
       "[1.387994346967137e-149,\n",
       " 0.0,\n",
       " 2.0642366693280752e-10,\n",
       " 2.107155422815856e-38,\n",
       " 1.75350933038415e-09,\n",
       " 3.227781380740235e-34,\n",
       " 3.8187831300891275e-05,\n",
       " 4.0658392357172407e-16]"
      ]
     },
     "metadata": {},
     "output_type": "display_data"
    }
   ],
   "source": [
    "pval=[results.pvalues[i] for i in x]\n",
    "display(max(pval))\n",
    "display(len(pval)) \n",
    "\n",
    "display(pval)"
   ]
  },
  {
   "cell_type": "code",
   "execution_count": 486,
   "id": "27d01f1d",
   "metadata": {
    "scrolled": true
   },
   "outputs": [
    {
     "data": {
      "text/html": [
       "<style>#sk-container-id-10 {color: black;}#sk-container-id-10 pre{padding: 0;}#sk-container-id-10 div.sk-toggleable {background-color: white;}#sk-container-id-10 label.sk-toggleable__label {cursor: pointer;display: block;width: 100%;margin-bottom: 0;padding: 0.3em;box-sizing: border-box;text-align: center;}#sk-container-id-10 label.sk-toggleable__label-arrow:before {content: \"▸\";float: left;margin-right: 0.25em;color: #696969;}#sk-container-id-10 label.sk-toggleable__label-arrow:hover:before {color: black;}#sk-container-id-10 div.sk-estimator:hover label.sk-toggleable__label-arrow:before {color: black;}#sk-container-id-10 div.sk-toggleable__content {max-height: 0;max-width: 0;overflow: hidden;text-align: left;background-color: #f0f8ff;}#sk-container-id-10 div.sk-toggleable__content pre {margin: 0.2em;color: black;border-radius: 0.25em;background-color: #f0f8ff;}#sk-container-id-10 input.sk-toggleable__control:checked~div.sk-toggleable__content {max-height: 200px;max-width: 100%;overflow: auto;}#sk-container-id-10 input.sk-toggleable__control:checked~label.sk-toggleable__label-arrow:before {content: \"▾\";}#sk-container-id-10 div.sk-estimator input.sk-toggleable__control:checked~label.sk-toggleable__label {background-color: #d4ebff;}#sk-container-id-10 div.sk-label input.sk-toggleable__control:checked~label.sk-toggleable__label {background-color: #d4ebff;}#sk-container-id-10 input.sk-hidden--visually {border: 0;clip: rect(1px 1px 1px 1px);clip: rect(1px, 1px, 1px, 1px);height: 1px;margin: -1px;overflow: hidden;padding: 0;position: absolute;width: 1px;}#sk-container-id-10 div.sk-estimator {font-family: monospace;background-color: #f0f8ff;border: 1px dotted black;border-radius: 0.25em;box-sizing: border-box;margin-bottom: 0.5em;}#sk-container-id-10 div.sk-estimator:hover {background-color: #d4ebff;}#sk-container-id-10 div.sk-parallel-item::after {content: \"\";width: 100%;border-bottom: 1px solid gray;flex-grow: 1;}#sk-container-id-10 div.sk-label:hover label.sk-toggleable__label {background-color: #d4ebff;}#sk-container-id-10 div.sk-serial::before {content: \"\";position: absolute;border-left: 1px solid gray;box-sizing: border-box;top: 0;bottom: 0;left: 50%;z-index: 0;}#sk-container-id-10 div.sk-serial {display: flex;flex-direction: column;align-items: center;background-color: white;padding-right: 0.2em;padding-left: 0.2em;position: relative;}#sk-container-id-10 div.sk-item {position: relative;z-index: 1;}#sk-container-id-10 div.sk-parallel {display: flex;align-items: stretch;justify-content: center;background-color: white;position: relative;}#sk-container-id-10 div.sk-item::before, #sk-container-id-10 div.sk-parallel-item::before {content: \"\";position: absolute;border-left: 1px solid gray;box-sizing: border-box;top: 0;bottom: 0;left: 50%;z-index: -1;}#sk-container-id-10 div.sk-parallel-item {display: flex;flex-direction: column;z-index: 1;position: relative;background-color: white;}#sk-container-id-10 div.sk-parallel-item:first-child::after {align-self: flex-end;width: 50%;}#sk-container-id-10 div.sk-parallel-item:last-child::after {align-self: flex-start;width: 50%;}#sk-container-id-10 div.sk-parallel-item:only-child::after {width: 0;}#sk-container-id-10 div.sk-dashed-wrapped {border: 1px dashed gray;margin: 0 0.4em 0.5em 0.4em;box-sizing: border-box;padding-bottom: 0.4em;background-color: white;}#sk-container-id-10 div.sk-label label {font-family: monospace;font-weight: bold;display: inline-block;line-height: 1.2em;}#sk-container-id-10 div.sk-label-container {text-align: center;}#sk-container-id-10 div.sk-container {/* jupyter's `normalize.less` sets `[hidden] { display: none; }` but bootstrap.min.css set `[hidden] { display: none !important; }` so we also need the `!important` here to be able to override the default hidden behavior on the sphinx rendered scikit-learn.org. See: https://github.com/scikit-learn/scikit-learn/issues/21755 */display: inline-block !important;position: relative;}#sk-container-id-10 div.sk-text-repr-fallback {display: none;}</style><div id=\"sk-container-id-10\" class=\"sk-top-container\"><div class=\"sk-text-repr-fallback\"><pre>LinearRegression()</pre><b>In a Jupyter environment, please rerun this cell to show the HTML representation or trust the notebook. <br />On GitHub, the HTML representation is unable to render, please try loading this page with nbviewer.org.</b></div><div class=\"sk-container\" hidden><div class=\"sk-item\"><div class=\"sk-estimator sk-toggleable\"><input class=\"sk-toggleable__control sk-hidden--visually\" id=\"sk-estimator-id-10\" type=\"checkbox\" checked><label for=\"sk-estimator-id-10\" class=\"sk-toggleable__label sk-toggleable__label-arrow\">LinearRegression</label><div class=\"sk-toggleable__content\"><pre>LinearRegression()</pre></div></div></div></div></div>"
      ],
      "text/plain": [
       "LinearRegression()"
      ]
     },
     "execution_count": 486,
     "metadata": {},
     "output_type": "execute_result"
    }
   ],
   "source": [
    "sys=LinearRegression()\n",
    "sys.fit(x,y)"
   ]
  },
  {
   "cell_type": "code",
   "execution_count": 487,
   "id": "f20e1462",
   "metadata": {},
   "outputs": [
    {
     "data": {
      "text/plain": [
       "0.5359040082475162"
      ]
     },
     "execution_count": 487,
     "metadata": {},
     "output_type": "execute_result"
    }
   ],
   "source": [
    "sys.score(x,y)"
   ]
  },
  {
   "cell_type": "code",
   "execution_count": 488,
   "id": "20a7c0eb",
   "metadata": {},
   "outputs": [
    {
     "data": {
      "text/plain": [
       "array([-2.42223697e+00,  3.35213069e+03,  5.79820981e+04,  2.45156687e+05,\n",
       "       -1.48074308e+05, -9.80666348e+04,  8.16081193e+05, -1.14142183e+05])"
      ]
     },
     "execution_count": 488,
     "metadata": {},
     "output_type": "execute_result"
    }
   ],
   "source": [
    "sys.coef_"
   ]
  },
  {
   "cell_type": "code",
   "execution_count": 489,
   "id": "23bc0bd1",
   "metadata": {},
   "outputs": [],
   "source": [
    "pred=pd.Series(sys.predict(x))"
   ]
  },
  {
   "cell_type": "code",
   "execution_count": 490,
   "id": "7af3e9a6",
   "metadata": {},
   "outputs": [
    {
     "data": {
      "text/plain": [
       "[<matplotlib.lines.Line2D at 0x7f7950eaf710>]"
      ]
     },
     "execution_count": 490,
     "metadata": {},
     "output_type": "execute_result"
    },
    {
     "data": {
      "image/png": "[encoded data removed]",
      "text/plain": [
       "<Figure size 640x480 with 1 Axes>"
      ]
     },
     "metadata": {},
     "output_type": "display_data"
    }
   ],
   "source": [
    "plt.figure()\n",
    "plt.plot(range(len(y)),y.sort_values())\n",
    "plt.plot(range(len(y)),pred.sort_values())"
   ]
  },
  {
   "cell_type": "code",
   "execution_count": 491,
   "id": "9ba1db0e",
   "metadata": {},
   "outputs": [
    {
     "data": {
      "text/plain": [
       "[<matplotlib.lines.Line2D at 0x7f7950eb0d50>]"
      ]
     },
     "execution_count": 491,
     "metadata": {},
     "output_type": "execute_result"
    },
    {
     "data": {
      "image/png": "[encoded data removed]",
      "text/plain": [
       "<Figure size 640x480 with 1 Axes>"
      ]
     },
     "metadata": {},
     "output_type": "display_data"
    }
   ],
   "source": [
    "plt.plot(y-pred,'*')"
   ]
  }
 ],
 "metadata": {
  "kernelspec": {
   "display_name": "Python 3 (ipykernel)",
   "language": "python",
   "name": "python3"
  },
  "language_info": {
   "codemirror_mode": {
    "name": "ipython",
    "version": 3
   },
   "file_extension": ".py",
   "mimetype": "text/x-python",
   "name": "python",
   "nbconvert_exporter": "python",
   "pygments_lexer": "ipython3",
   "version": "3.11.4"
  }
 },
 "nbformat": 4,
 "nbformat_minor": 5
}

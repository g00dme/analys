{
 "cells": [
  {
   "cell_type": "code",
   "execution_count": 80,
   "id": "1c512b9f",
   "metadata": {},
   "outputs": [],
   "source": [
    "import re"
   ]
  },
  {
   "cell_type": "code",
   "execution_count": 485,
   "id": "031d36f9",
   "metadata": {},
   "outputs": [
    {
     "name": "stdout",
     "output_type": "stream",
     "text": [
      "<re.Match object; span=(3, 5), match='ab'>\n",
      "True\n",
      "<re.Match object; span=(8, 10), match='ab'>\n",
      "True\n"
     ]
    }
   ],
   "source": [
    "import re\n",
    "def is_allowed_specific_char(string):\n",
    "    charRe = re.compile(r'ab+?')\n",
    "    string = charRe.search(string)\n",
    "    print(string)\n",
    "    return  bool(string)\n",
    "\n",
    "print(is_allowed_specific_char(\"%aaab\")) \n",
    "print(is_allowed_specific_char(\"*&%Abb#aabb tew aaab!}{\"))"
   ]
  },
  {
   "cell_type": "code",
   "execution_count": 4,
   "id": "c05081b9",
   "metadata": {},
   "outputs": [],
   "source": [
    "from tkinter import *\n",
    "from tkinter import ttk\n",
    "root = Tk()\n",
    "frm = ttk.Frame(root, padding=10)\n",
    "frm.grid()\n",
    "ttk.Label(frm, text=\"Hello World!\").grid(column=0, row=0)\n",
    "ttk.Button(frm, text=\"Quit\", command=root.destroy).grid(column=1, row=0)\n",
    "root.mainloop()"
   ]
  },
  {
   "cell_type": "code",
   "execution_count": 285,
   "id": "89b058d0",
   "metadata": {},
   "outputs": [
    {
     "name": "stdout",
     "output_type": "stream",
     "text": [
      "abc\n",
      "dem\n",
      "elab\n"
     ]
    }
   ],
   "source": [
    "m= re.finditer(r\"(\\b\\w+\\b)\", \"abc dem elab\")\n",
    "for x in m:\n",
    "    print(x.group())"
   ]
  },
  {
   "cell_type": "code",
   "execution_count": 428,
   "id": "4a2bf618",
   "metadata": {},
   "outputs": [
    {
     "data": {
      "text/plain": [
       "('al- amadf qewri ae.re', 2)"
      ]
     },
     "execution_count": 428,
     "metadata": {},
     "output_type": "execute_result"
    }
   ],
   "source": [
    "p=re.compile(r'h(\\w)*')\n",
    "p.subn(r'a\\1','hell- amadf qewri hadse.re')"
   ]
  }
 ],
 "metadata": {
  "kernelspec": {
   "display_name": "Python 3 (ipykernel)",
   "language": "python",
   "name": "python3"
  },
  "language_info": {
   "codemirror_mode": {
    "name": "ipython",
    "version": 3
   },
   "file_extension": ".py",
   "mimetype": "text/x-python",
   "name": "python",
   "nbconvert_exporter": "python",
   "pygments_lexer": "ipython3",
   "version": "3.11.4"
  },
  "name": "Untitled.ipynb"
 },
 "nbformat": 4,
 "nbformat_minor": 5
}

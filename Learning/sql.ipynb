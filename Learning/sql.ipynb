{
 "cells": [
  {
   "cell_type": "code",
   "execution_count": 36,
   "id": "e97bfd2a-2563-4198-92a4-8d8ad323ba45",
   "metadata": {},
   "outputs": [],
   "source": [
    "import sqlalchemy\n",
    "from sqlalchemy import create_engine\n",
    "import psycopg2"
   ]
  },
  {
   "cell_type": "code",
   "execution_count": 61,
   "id": "4f89296a-527e-40f6-ba6f-6406d5595e19",
   "metadata": {
    "scrolled": true
   },
   "outputs": [
    {
     "name": "stdout",
     "output_type": "stream",
     "text": [
      "2024-08-21 23:03:12,483 INFO sqlalchemy.engine.Engine select pg_catalog.version()\n",
      "2024-08-21 23:03:12,483 INFO sqlalchemy.engine.Engine [raw sql] {}\n",
      "2024-08-21 23:03:12,484 INFO sqlalchemy.engine.Engine select current_schema()\n",
      "2024-08-21 23:03:12,485 INFO sqlalchemy.engine.Engine [raw sql] {}\n",
      "2024-08-21 23:03:12,486 INFO sqlalchemy.engine.Engine show standard_conforming_strings\n",
      "2024-08-21 23:03:12,487 INFO sqlalchemy.engine.Engine [raw sql] {}\n",
      "2024-08-21 23:03:12,488 INFO sqlalchemy.engine.Engine BEGIN (implicit)\n",
      "2024-08-21 23:03:12,489 INFO sqlalchemy.engine.Engine select first_name from actor\n",
      "2024-08-21 23:03:12,489 INFO sqlalchemy.engine.Engine [generated in 0.00104s] {}\n",
      "[('Penelope',), ('Nick',), ('Ed',), ('Jennifer',), ('Johnny',), ('Bette',), ('Grace',), ('Matthew',), ('Joe',), ('Christian',), ('Zero',), ('Karl',), ('Uma',), ('Vivien',), ('Cuba',), ('Fred',), ('Helen',), ('Dan',), ('Bob',), ('Lucille',), ('Kirsten',), ('Elvis',), ('Sandra',), ('Cameron',), ('Kevin',), ('Rip',), ('Julia',), ('Woody',), ('Alec',), ('Sandra',), ('Sissy',), ('Tim',), ('Milla',), ('Audrey',), ('Judy',), ('Burt',), ('Val',), ('Tom',), ('Goldie',), ('Johnny',), ('Jodie',), ('Tom',), ('Kirk',), ('Nick',), ('Reese',), ('Parker',), ('Julia',), ('Frances',), ('Anne',), ('Natalie',), ('Gary',), ('Carmen',), ('Mena',), ('Penelope',), ('Fay',), ('Dan',), ('Jude',), ('Christian',), ('Dustin',), ('Henry',), ('Christian',), ('Jayne',), ('Cameron',), ('Ray',), ('Angela',), ('Mary',), ('Jessica',), ('Rip',), ('Kenneth',), ('Michelle',), ('Adam',), ('Sean',), ('Gary',), ('Milla',), ('Burt',), ('Angelina',), ('Cary',), ('Groucho',), ('Mae',), ('Ralph',), ('Scarlett',), ('Woody',), ('Ben',), ('James',), ('Minnie',), ('River',), ('Greg',), ('Spencer',), ('Kenneth',), ('Charlize',), ('Sean',), ('Christopher',), ('Kirsten',), ('Ellen',), ('Kenneth',), ('Daryl',), ('Gene',), ('Meg',), ('Chris',), ('Jim',), ('Spencer',), ('Susan',), ('Walter',), ('Matthew',), ('Penelope',), ('Sidney',), ('Groucho',), ('Gina',), ('Warren',), ('Sylvester',), ('Susan',), ('Cameron',), ('Russell',), ('Morgan',), ('Morgan',), ('Harrison',), ('Dan',), ('Renee',), ('Cuba',), ('Warren',), ('Penelope',), ('Liza',), ('Salma',), ('Julianne',), ('Scarlett',), ('Albert',), ('Frances',), ('Kevin',), ('Cate',), ('Daryl',), ('Greta',), ('Jane',), ('Adam',), ('Richard',), ('Gene',), ('Rita',), ('Ed',), ('Morgan',), ('Lucille',), ('Ewan',), ('Whoopi',), ('Cate',), ('Jada',), ('Angela',), ('Kim',), ('Albert',), ('Fay',), ('Emily',), ('Russell',), ('Jayne',), ('Geoffrey',), ('Ben',), ('Minnie',), ('Meryl',), ('Ian',), ('Fay',), ('Greta',), ('Vivien',), ('Laura',), ('Chris',), ('Harvey',), ('Oprah',), ('Christopher',), ('Humphrey',), ('Al',), ('Nick',), ('Laurence',), ('Will',), ('Kenneth',), ('Mena',), ('Olympia',), ('Groucho',), ('Alan',), ('Michael',), ('William',), ('Jon',), ('Gene',), ('Lisa',), ('Ed',), ('Jeff',), ('Matthew',), ('Debbie',), ('Russell',), ('Humphrey',), ('Michael',), ('Julia',), ('Renee',), ('Rock',), ('Cuba',), ('Audrey',), ('Gregory',), ('John',), ('Burt',), ('Meryl',), ('Jayne',), ('Bela',), ('Reese',), ('Mary',), ('Julia',), ('Thora',)]\n",
      "2024-08-21 23:03:12,491 INFO sqlalchemy.engine.Engine ROLLBACK\n"
     ]
    }
   ],
   "source": [
    "from sqlalchemy import text\n",
    "from sqlalchemy.engine import URL\n",
    "\n",
    "url = URL.create(\n",
    "    drivername=\"postgresql\",\n",
    "    username=\"postgres\",\n",
    "    database=\"dvdrental\"\n",
    ")\n",
    "\n",
    "engine = create_engine(url, echo=True)\n",
    "\n",
    "with engine.connect() as conn:\n",
    "    result = conn.execute(text(\"select first_name from actor\"))\n",
    "    print(result.all())"
   ]
  },
  {
   "cell_type": "code",
   "execution_count": 83,
   "id": "f5820e95-6f41-4e7a-87cf-bdc0e4369304",
   "metadata": {
    "scrolled": true
   },
   "outputs": [
    {
     "name": "stdout",
     "output_type": "stream",
     "text": [
      "2024-08-21 23:31:19,715 INFO sqlalchemy.engine.Engine BEGIN (implicit)\n",
      "2024-08-21 23:31:19,716 INFO sqlalchemy.engine.Engine CREATE TABLE some_table (x int, y int)\n",
      "2024-08-21 23:31:19,717 INFO sqlalchemy.engine.Engine [cached since 1269s ago] {}\n",
      "2024-08-21 23:31:19,718 INFO sqlalchemy.engine.Engine INSERT INTO some_table (x, y) VALUES (%(x)s, %(y)s)\n",
      "2024-08-21 23:31:19,719 INFO sqlalchemy.engine.Engine [cached since 1269s ago] [{'x': 1, 'y': 1}, {'x': 2, 'y': 4}]\n",
      "2024-08-21 23:31:19,720 INFO sqlalchemy.engine.Engine COMMIT\n"
     ]
    }
   ],
   "source": [
    "with engine.begin() as conn:\n",
    "    conn.execute(text(\"CREATE TABLE some_table (x int, y int)\"))\n",
    "    conn.execute(\n",
    "        text(\"INSERT INTO some_table (x, y) VALUES (:x, :y)\"),\n",
    "        [{\"x\": 1, \"y\": 1}, {\"x\": 2, \"y\": 4}],\n",
    "    )\n",
    "\n",
    "# with engine.begin() as conn:\n",
    "#     conn.execute(text(\"DROP table some_table\"))\n",
    "#     conn.commit()"
   ]
  },
  {
   "cell_type": "code",
   "execution_count": 138,
   "id": "677bb0c2-2938-4c73-8f3a-9db5865bacb1",
   "metadata": {},
   "outputs": [
    {
     "name": "stdout",
     "output_type": "stream",
     "text": [
      "2024-08-22 14:10:11,591 INFO sqlalchemy.engine.Engine BEGIN (implicit)\n",
      "2024-08-22 14:10:11,594 INFO sqlalchemy.engine.Engine SELECT x, y FROM some_table\n",
      "2024-08-22 14:10:11,595 INFO sqlalchemy.engine.Engine [cached since 1.532e+04s ago] {}\n",
      "2024-08-22 14:10:11,598 INFO sqlalchemy.engine.Engine ROLLBACK\n"
     ]
    },
    {
     "data": {
      "text/plain": [
       "[(1, 1), (2, 4)]"
      ]
     },
     "execution_count": 138,
     "metadata": {},
     "output_type": "execute_result"
    }
   ],
   "source": [
    "with engine.connect() as conn:\n",
    "    result = conn.execute(text(\"SELECT x, y FROM some_table\"))\n",
    "    # for row in result:\n",
    "    #     print(f\"x: {row.x}  y: {row.y}\")\n",
    "    resall=result.all()\n",
    "resall"
   ]
  },
  {
   "cell_type": "code",
   "execution_count": 140,
   "id": "e4c8df86-48a3-425e-8130-f728aa0c2317",
   "metadata": {},
   "outputs": [
    {
     "name": "stdout",
     "output_type": "stream",
     "text": [
      "2024-08-22 14:13:18,406 INFO sqlalchemy.engine.Engine BEGIN (implicit)\n",
      "2024-08-22 14:13:18,408 INFO sqlalchemy.engine.Engine SELECT x, y FROM some_table WHERE y > %(y)s\n",
      "2024-08-22 14:13:18,409 INFO sqlalchemy.engine.Engine [generated in 0.00294s] {'y': 2}\n",
      "x: 2  y: 4\n",
      "2024-08-22 14:13:18,418 INFO sqlalchemy.engine.Engine ROLLBACK\n"
     ]
    }
   ],
   "source": [
    "with engine.connect() as conn:\n",
    "    result = conn.execute(text(\"SELECT x, y FROM some_table WHERE y > :y\"), {\"y\": 2})\n",
    "    for row in result:\n",
    "        print(f\"x: {row.x}  y: {row.y}\")"
   ]
  },
  {
   "cell_type": "code",
   "execution_count": 142,
   "id": "5cd639d9-f345-4553-ab2e-6e37c1f7c6dc",
   "metadata": {},
   "outputs": [],
   "source": [
    "from sqlalchemy import Table, Column, Integer, String\n",
    "from sqlalchemy import MetaData\n",
    "\n",
    "metadata_obj = MetaData()\n",
    "\n",
    "user_table = Table(\n",
    "    \"user_account\",\n",
    "    metadata_obj,\n",
    "    Column(\"id\", Integer, primary_key=True),\n",
    "    Column(\"name\", String(30)),\n",
    "    Column(\"fullname\", String),\n",
    ")"
   ]
  },
  {
   "cell_type": "code",
   "execution_count": 144,
   "id": "40d01ae6-112e-4f0a-9924-0bcf13c1e9f5",
   "metadata": {},
   "outputs": [
    {
     "data": {
      "text/plain": [
       "Column('name', String(length=30), table=<user_account>)"
      ]
     },
     "execution_count": 144,
     "metadata": {},
     "output_type": "execute_result"
    }
   ],
   "source": [
    "user_table.c.name"
   ]
  }
 ],
 "metadata": {
  "kernelspec": {
   "display_name": "Python 3 (ipykernel)",
   "language": "python",
   "name": "python3"
  },
  "language_info": {
   "codemirror_mode": {
    "name": "ipython",
    "version": 3
   },
   "file_extension": ".py",
   "mimetype": "text/x-python",
   "name": "python",
   "nbconvert_exporter": "python",
   "pygments_lexer": "ipython3",
   "version": "3.12.4"
  }
 },
 "nbformat": 4,
 "nbformat_minor": 5
}

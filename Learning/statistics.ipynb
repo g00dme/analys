{
 "cells": [
  {
   "cell_type": "code",
   "execution_count": 14,
   "id": "06b69831-3803-4e6a-a360-bff86d9f0b08",
   "metadata": {},
   "outputs": [],
   "source": [
    "from sklearn.datasets import load_iris\n",
    "import pandas as pd\n",
    "import numpy as np\n",
    "import plotly.express as px\n",
    "import statsmodels.api as sm"
   ]
  },
  {
   "cell_type": "code",
   "execution_count": 18,
   "id": "106857ed-5fbf-4909-b3d8-4effbf5bc9ec",
   "metadata": {},
   "outputs": [],
   "source": [
    "df=load_iris()\n",
    "x=df.data\n",
    "y=df.target\n",
    "x=sm.add_constant(x,prepend=True)"
   ]
  },
  {
   "cell_type": "code",
   "execution_count": 25,
   "id": "7bb129cf-0800-4333-99cc-e1e25fa6cfcc",
   "metadata": {},
   "outputs": [],
   "source": [
    "model=sm.OLS(y,x)\n",
    "res=model.fit()"
   ]
  },
  {
   "cell_type": "code",
   "execution_count": 26,
   "id": "50cee5eb-3173-4adf-ad46-4eb780e5b9eb",
   "metadata": {},
   "outputs": [
    {
     "data": {
      "text/html": [
       "<table class=\"simpletable\">\n",
       "<caption>OLS Regression Results</caption>\n",
       "<tr>\n",
       "  <th>Dep. Variable:</th>            <td>y</td>        <th>  R-squared:         </th> <td>   0.930</td>\n",
       "</tr>\n",
       "<tr>\n",
       "  <th>Model:</th>                   <td>OLS</td>       <th>  Adj. R-squared:    </th> <td>   0.928</td>\n",
       "</tr>\n",
       "<tr>\n",
       "  <th>Method:</th>             <td>Least Squares</td>  <th>  F-statistic:       </th> <td>   484.5</td>\n",
       "</tr>\n",
       "<tr>\n",
       "  <th>Date:</th>             <td>Wed, 28 Aug 2024</td> <th>  Prob (F-statistic):</th> <td>8.46e-83</td>\n",
       "</tr>\n",
       "<tr>\n",
       "  <th>Time:</th>                 <td>11:07:24</td>     <th>  Log-Likelihood:    </th> <td>  17.437</td>\n",
       "</tr>\n",
       "<tr>\n",
       "  <th>No. Observations:</th>      <td>   150</td>      <th>  AIC:               </th> <td>  -24.87</td>\n",
       "</tr>\n",
       "<tr>\n",
       "  <th>Df Residuals:</th>          <td>   145</td>      <th>  BIC:               </th> <td>  -9.821</td>\n",
       "</tr>\n",
       "<tr>\n",
       "  <th>Df Model:</th>              <td>     4</td>      <th>                     </th>     <td> </td>   \n",
       "</tr>\n",
       "<tr>\n",
       "  <th>Covariance Type:</th>      <td>nonrobust</td>    <th>                     </th>     <td> </td>   \n",
       "</tr>\n",
       "</table>\n",
       "<table class=\"simpletable\">\n",
       "<tr>\n",
       "    <td></td>       <th>coef</th>     <th>std err</th>      <th>t</th>      <th>P>|t|</th>  <th>[0.025</th>    <th>0.975]</th>  \n",
       "</tr>\n",
       "<tr>\n",
       "  <th>const</th> <td>    0.1865</td> <td>    0.205</td> <td>    0.910</td> <td> 0.364</td> <td>   -0.218</td> <td>    0.591</td>\n",
       "</tr>\n",
       "<tr>\n",
       "  <th>x1</th>    <td>   -0.1119</td> <td>    0.058</td> <td>   -1.941</td> <td> 0.054</td> <td>   -0.226</td> <td>    0.002</td>\n",
       "</tr>\n",
       "<tr>\n",
       "  <th>x2</th>    <td>   -0.0401</td> <td>    0.060</td> <td>   -0.671</td> <td> 0.503</td> <td>   -0.158</td> <td>    0.078</td>\n",
       "</tr>\n",
       "<tr>\n",
       "  <th>x3</th>    <td>    0.2286</td> <td>    0.057</td> <td>    4.022</td> <td> 0.000</td> <td>    0.116</td> <td>    0.341</td>\n",
       "</tr>\n",
       "<tr>\n",
       "  <th>x4</th>    <td>    0.6093</td> <td>    0.094</td> <td>    6.450</td> <td> 0.000</td> <td>    0.423</td> <td>    0.796</td>\n",
       "</tr>\n",
       "</table>\n",
       "<table class=\"simpletable\">\n",
       "<tr>\n",
       "  <th>Omnibus:</th>       <td> 0.374</td> <th>  Durbin-Watson:     </th> <td>   1.077</td>\n",
       "</tr>\n",
       "<tr>\n",
       "  <th>Prob(Omnibus):</th> <td> 0.829</td> <th>  Jarque-Bera (JB):  </th> <td>   0.141</td>\n",
       "</tr>\n",
       "<tr>\n",
       "  <th>Skew:</th>          <td>-0.051</td> <th>  Prob(JB):          </th> <td>   0.932</td>\n",
       "</tr>\n",
       "<tr>\n",
       "  <th>Kurtosis:</th>      <td> 3.110</td> <th>  Cond. No.          </th> <td>    91.9</td>\n",
       "</tr>\n",
       "</table><br/><br/>Notes:<br/>[1] Standard Errors assume that the covariance matrix of the errors is correctly specified."
      ],
      "text/latex": [
       "\\begin{center}\n",
       "\\begin{tabular}{lclc}\n",
       "\\toprule\n",
       "\\textbf{Dep. Variable:}    &        y         & \\textbf{  R-squared:         } &     0.930   \\\\\n",
       "\\textbf{Model:}            &       OLS        & \\textbf{  Adj. R-squared:    } &     0.928   \\\\\n",
       "\\textbf{Method:}           &  Least Squares   & \\textbf{  F-statistic:       } &     484.5   \\\\\n",
       "\\textbf{Date:}             & Wed, 28 Aug 2024 & \\textbf{  Prob (F-statistic):} &  8.46e-83   \\\\\n",
       "\\textbf{Time:}             &     11:07:24     & \\textbf{  Log-Likelihood:    } &    17.437   \\\\\n",
       "\\textbf{No. Observations:} &         150      & \\textbf{  AIC:               } &    -24.87   \\\\\n",
       "\\textbf{Df Residuals:}     &         145      & \\textbf{  BIC:               } &    -9.821   \\\\\n",
       "\\textbf{Df Model:}         &           4      & \\textbf{                     } &             \\\\\n",
       "\\textbf{Covariance Type:}  &    nonrobust     & \\textbf{                     } &             \\\\\n",
       "\\bottomrule\n",
       "\\end{tabular}\n",
       "\\begin{tabular}{lcccccc}\n",
       "               & \\textbf{coef} & \\textbf{std err} & \\textbf{t} & \\textbf{P$> |$t$|$} & \\textbf{[0.025} & \\textbf{0.975]}  \\\\\n",
       "\\midrule\n",
       "\\textbf{const} &       0.1865  &        0.205     &     0.910  &         0.364        &       -0.218    &        0.591     \\\\\n",
       "\\textbf{x1}    &      -0.1119  &        0.058     &    -1.941  &         0.054        &       -0.226    &        0.002     \\\\\n",
       "\\textbf{x2}    &      -0.0401  &        0.060     &    -0.671  &         0.503        &       -0.158    &        0.078     \\\\\n",
       "\\textbf{x3}    &       0.2286  &        0.057     &     4.022  &         0.000        &        0.116    &        0.341     \\\\\n",
       "\\textbf{x4}    &       0.6093  &        0.094     &     6.450  &         0.000        &        0.423    &        0.796     \\\\\n",
       "\\bottomrule\n",
       "\\end{tabular}\n",
       "\\begin{tabular}{lclc}\n",
       "\\textbf{Omnibus:}       &  0.374 & \\textbf{  Durbin-Watson:     } &    1.077  \\\\\n",
       "\\textbf{Prob(Omnibus):} &  0.829 & \\textbf{  Jarque-Bera (JB):  } &    0.141  \\\\\n",
       "\\textbf{Skew:}          & -0.051 & \\textbf{  Prob(JB):          } &    0.932  \\\\\n",
       "\\textbf{Kurtosis:}      &  3.110 & \\textbf{  Cond. No.          } &     91.9  \\\\\n",
       "\\bottomrule\n",
       "\\end{tabular}\n",
       "%\\caption{OLS Regression Results}\n",
       "\\end{center}\n",
       "\n",
       "Notes: \\newline\n",
       " [1] Standard Errors assume that the covariance matrix of the errors is correctly specified."
      ],
      "text/plain": [
       "<class 'statsmodels.iolib.summary.Summary'>\n",
       "\"\"\"\n",
       "                            OLS Regression Results                            \n",
       "==============================================================================\n",
       "Dep. Variable:                      y   R-squared:                       0.930\n",
       "Model:                            OLS   Adj. R-squared:                  0.928\n",
       "Method:                 Least Squares   F-statistic:                     484.5\n",
       "Date:                Wed, 28 Aug 2024   Prob (F-statistic):           8.46e-83\n",
       "Time:                        11:07:24   Log-Likelihood:                 17.437\n",
       "No. Observations:                 150   AIC:                            -24.87\n",
       "Df Residuals:                     145   BIC:                            -9.821\n",
       "Df Model:                           4                                         \n",
       "Covariance Type:            nonrobust                                         \n",
       "==============================================================================\n",
       "                 coef    std err          t      P>|t|      [0.025      0.975]\n",
       "------------------------------------------------------------------------------\n",
       "const          0.1865      0.205      0.910      0.364      -0.218       0.591\n",
       "x1            -0.1119      0.058     -1.941      0.054      -0.226       0.002\n",
       "x2            -0.0401      0.060     -0.671      0.503      -0.158       0.078\n",
       "x3             0.2286      0.057      4.022      0.000       0.116       0.341\n",
       "x4             0.6093      0.094      6.450      0.000       0.423       0.796\n",
       "==============================================================================\n",
       "Omnibus:                        0.374   Durbin-Watson:                   1.077\n",
       "Prob(Omnibus):                  0.829   Jarque-Bera (JB):                0.141\n",
       "Skew:                          -0.051   Prob(JB):                        0.932\n",
       "Kurtosis:                       3.110   Cond. No.                         91.9\n",
       "==============================================================================\n",
       "\n",
       "Notes:\n",
       "[1] Standard Errors assume that the covariance matrix of the errors is correctly specified.\n",
       "\"\"\""
      ]
     },
     "execution_count": 26,
     "metadata": {},
     "output_type": "execute_result"
    }
   ],
   "source": [
    "res.summary()"
   ]
  },
  {
   "cell_type": "code",
   "execution_count": 31,
   "id": "ef639f6d-9d08-439e-92b8-739f076b4b3b",
   "metadata": {},
   "outputs": [
    {
     "data": {
      "text/plain": [
       "<statsmodels.regression.linear_model.RegressionResultsWrapper at 0x7f46f38e9880>"
      ]
     },
     "execution_count": 31,
     "metadata": {},
     "output_type": "execute_result"
    }
   ],
   "source": [
    "res"
   ]
  }
 ],
 "metadata": {
  "kernelspec": {
   "display_name": "Python 3 (ipykernel)",
   "language": "python",
   "name": "python3"
  },
  "language_info": {
   "codemirror_mode": {
    "name": "ipython",
    "version": 3
   },
   "file_extension": ".py",
   "mimetype": "text/x-python",
   "name": "python",
   "nbconvert_exporter": "python",
   "pygments_lexer": "ipython3",
   "version": "3.12.4"
  }
 },
 "nbformat": 4,
 "nbformat_minor": 5
}

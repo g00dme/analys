{
 "cells": [
  {
   "cell_type": "code",
   "execution_count": 5,
   "id": "8f4660d7-76fd-4c06-adae-8207d3f8153a",
   "metadata": {},
   "outputs": [],
   "source": [
    "import catboost\n",
    "import ipywidgets\n",
    "import sklearn\n",
    "import numpy as np"
   ]
  },
  {
   "cell_type": "code",
   "execution_count": 6,
   "id": "4cb5d41a-24b9-4381-8d52-10adc66173d6",
   "metadata": {},
   "outputs": [
    {
     "data": {
      "text/html": [
       "<div>\n",
       "<style scoped>\n",
       "    .dataframe tbody tr th:only-of-type {\n",
       "        vertical-align: middle;\n",
       "    }\n",
       "\n",
       "    .dataframe tbody tr th {\n",
       "        vertical-align: top;\n",
       "    }\n",
       "\n",
       "    .dataframe thead th {\n",
       "        text-align: right;\n",
       "    }\n",
       "</style>\n",
       "<table border=\"1\" class=\"dataframe\">\n",
       "  <thead>\n",
       "    <tr style=\"text-align: right;\">\n",
       "      <th></th>\n",
       "      <th>PassengerId</th>\n",
       "      <th>Survived</th>\n",
       "      <th>Pclass</th>\n",
       "      <th>Name</th>\n",
       "      <th>Sex</th>\n",
       "      <th>Age</th>\n",
       "      <th>SibSp</th>\n",
       "      <th>Parch</th>\n",
       "      <th>Ticket</th>\n",
       "      <th>Fare</th>\n",
       "      <th>Cabin</th>\n",
       "      <th>Embarked</th>\n",
       "    </tr>\n",
       "  </thead>\n",
       "  <tbody>\n",
       "    <tr>\n",
       "      <th>0</th>\n",
       "      <td>1</td>\n",
       "      <td>0</td>\n",
       "      <td>3</td>\n",
       "      <td>Braund, Mr. Owen Harris</td>\n",
       "      <td>male</td>\n",
       "      <td>22.0</td>\n",
       "      <td>1</td>\n",
       "      <td>0</td>\n",
       "      <td>A/5 21171</td>\n",
       "      <td>7.2500</td>\n",
       "      <td>NaN</td>\n",
       "      <td>S</td>\n",
       "    </tr>\n",
       "    <tr>\n",
       "      <th>1</th>\n",
       "      <td>2</td>\n",
       "      <td>1</td>\n",
       "      <td>1</td>\n",
       "      <td>Cumings, Mrs. John Bradley (Florence Briggs Th...</td>\n",
       "      <td>female</td>\n",
       "      <td>38.0</td>\n",
       "      <td>1</td>\n",
       "      <td>0</td>\n",
       "      <td>PC 17599</td>\n",
       "      <td>71.2833</td>\n",
       "      <td>C85</td>\n",
       "      <td>C</td>\n",
       "    </tr>\n",
       "    <tr>\n",
       "      <th>2</th>\n",
       "      <td>3</td>\n",
       "      <td>1</td>\n",
       "      <td>3</td>\n",
       "      <td>Heikkinen, Miss. Laina</td>\n",
       "      <td>female</td>\n",
       "      <td>26.0</td>\n",
       "      <td>0</td>\n",
       "      <td>0</td>\n",
       "      <td>STON/O2. 3101282</td>\n",
       "      <td>7.9250</td>\n",
       "      <td>NaN</td>\n",
       "      <td>S</td>\n",
       "    </tr>\n",
       "    <tr>\n",
       "      <th>3</th>\n",
       "      <td>4</td>\n",
       "      <td>1</td>\n",
       "      <td>1</td>\n",
       "      <td>Futrelle, Mrs. Jacques Heath (Lily May Peel)</td>\n",
       "      <td>female</td>\n",
       "      <td>35.0</td>\n",
       "      <td>1</td>\n",
       "      <td>0</td>\n",
       "      <td>113803</td>\n",
       "      <td>53.1000</td>\n",
       "      <td>C123</td>\n",
       "      <td>S</td>\n",
       "    </tr>\n",
       "    <tr>\n",
       "      <th>4</th>\n",
       "      <td>5</td>\n",
       "      <td>0</td>\n",
       "      <td>3</td>\n",
       "      <td>Allen, Mr. William Henry</td>\n",
       "      <td>male</td>\n",
       "      <td>35.0</td>\n",
       "      <td>0</td>\n",
       "      <td>0</td>\n",
       "      <td>373450</td>\n",
       "      <td>8.0500</td>\n",
       "      <td>NaN</td>\n",
       "      <td>S</td>\n",
       "    </tr>\n",
       "  </tbody>\n",
       "</table>\n",
       "</div>"
      ],
      "text/plain": [
       "   PassengerId  Survived  Pclass  \\\n",
       "0            1         0       3   \n",
       "1            2         1       1   \n",
       "2            3         1       3   \n",
       "3            4         1       1   \n",
       "4            5         0       3   \n",
       "\n",
       "                                                Name     Sex   Age  SibSp  \\\n",
       "0                            Braund, Mr. Owen Harris    male  22.0      1   \n",
       "1  Cumings, Mrs. John Bradley (Florence Briggs Th...  female  38.0      1   \n",
       "2                             Heikkinen, Miss. Laina  female  26.0      0   \n",
       "3       Futrelle, Mrs. Jacques Heath (Lily May Peel)  female  35.0      1   \n",
       "4                           Allen, Mr. William Henry    male  35.0      0   \n",
       "\n",
       "   Parch            Ticket     Fare Cabin Embarked  \n",
       "0      0         A/5 21171   7.2500   NaN        S  \n",
       "1      0          PC 17599  71.2833   C85        C  \n",
       "2      0  STON/O2. 3101282   7.9250   NaN        S  \n",
       "3      0            113803  53.1000  C123        S  \n",
       "4      0            373450   8.0500   NaN        S  "
      ]
     },
     "execution_count": 6,
     "metadata": {},
     "output_type": "execute_result"
    }
   ],
   "source": [
    "from catboost.datasets import titanic\n",
    "\n",
    "train_df, test_df = titanic()\n",
    "\n",
    "train_df.head()"
   ]
  },
  {
   "cell_type": "code",
   "execution_count": 7,
   "id": "509032a4-cdd5-46ad-aaf3-8db1eb7fa5d1",
   "metadata": {},
   "outputs": [
    {
     "data": {
      "text/plain": [
       "Age         177\n",
       "Cabin       687\n",
       "Embarked      2\n",
       "dtype: int64"
      ]
     },
     "execution_count": 7,
     "metadata": {},
     "output_type": "execute_result"
    }
   ],
   "source": [
    "null_value_stats = train_df.isnull().sum(axis=0)\n",
    "null_value_stats[null_value_stats != 0]"
   ]
  },
  {
   "cell_type": "code",
   "execution_count": 10,
   "id": "9078d555-3b10-4231-b775-50b97bc10671",
   "metadata": {},
   "outputs": [],
   "source": [
    "train_df=train_df.fillna(-9999)\n",
    "test_df=test_df.fillna(-9999)"
   ]
  },
  {
   "cell_type": "code",
   "execution_count": 13,
   "id": "656ce47f-1e6c-489f-ae25-48f1fbb8a6bc",
   "metadata": {},
   "outputs": [
    {
     "data": {
      "application/vnd.jupyter.widget-view+json": {
       "model_id": "5862d744b6a14738bc1b4343768e439a",
       "version_major": 2,
       "version_minor": 0
      },
      "text/plain": [
       "MetricVisualizer(layout=Layout(align_self='stretch', height='500px'))"
      ]
     },
     "metadata": {},
     "output_type": "display_data"
    },
    {
     "data": {
      "text/plain": [
       "<catboost.core.CatBoostClassifier at 0x7fe16a06ac30>"
      ]
     },
     "execution_count": 13,
     "metadata": {},
     "output_type": "execute_result"
    }
   ],
   "source": [
    "from sklearn.model_selection import train_test_split\n",
    "from catboost import CatBoostClassifier,metrics,cv, Pool\n",
    "from sklearn.metrics import accuracy_score\n",
    "\n",
    "\n",
    "categ=train_df.select_dtypes(exclude=np.number).columns.values\n",
    "categ=np.where(train_df.dtypes != float)\n",
    "\n",
    "X = train_df.drop('Survived', axis=1)\n",
    "y = train_df.Survived\n",
    "\n",
    "X_train, X_validation, y_train, y_validation = train_test_split(X, y, train_size=0.75, random_state=42)\n",
    "\n",
    "X_test = test_df\n",
    "\n",
    "categ = np.where(X_train.dtypes != float)[0]\n",
    "\n",
    "\n",
    "cat=CatBoostClassifier(logging_level='Silent', custom_loss=[metrics.Accuracy()],random_seed=42)\n",
    "cat.fit(X,y,cat_features=categ,eval_set=(X_validation,y_validation),plot=True)"
   ]
  },
  {
   "cell_type": "code",
   "execution_count": 16,
   "id": "0a4b2142-38bc-4c72-a950-d68dca6960e5",
   "metadata": {},
   "outputs": [
    {
     "data": {
      "application/vnd.jupyter.widget-view+json": {
       "model_id": "ec376fba380a4b84ac510b095ef48870",
       "version_major": 2,
       "version_minor": 0
      },
      "text/plain": [
       "MetricVisualizer(layout=Layout(align_self='stretch', height='500px'))"
      ]
     },
     "metadata": {},
     "output_type": "display_data"
    }
   ],
   "source": [
    "cv_params = cat.get_params()\n",
    "cv_params.update({\n",
    "    'loss_function': metrics.Logloss()\n",
    "})\n",
    "cv_data = cv(\n",
    "    Pool(X, y, cat_features=categ),\n",
    "    cv_params,\n",
    "    plot=True\n",
    ")"
   ]
  },
  {
   "cell_type": "code",
   "execution_count": 17,
   "id": "253f8eb1-3e49-465f-b337-873db8d8f2fb",
   "metadata": {},
   "outputs": [
    {
     "name": "stdout",
     "output_type": "stream",
     "text": [
      "Best validation accuracy score: 0.83±0.02 on step 355\n"
     ]
    }
   ],
   "source": [
    "print('Best validation accuracy score: {:.2f}±{:.2f} on step {}'.format(\n",
    "    np.max(cv_data['test-Accuracy-mean']),\n",
    "    cv_data['test-Accuracy-std'][np.argmax(cv_data['test-Accuracy-mean'])],\n",
    "    np.argmax(cv_data['test-Accuracy-mean'])\n",
    "))"
   ]
  },
  {
   "cell_type": "code",
   "execution_count": 19,
   "id": "fbe503f0-0561-4a21-a125-cf0f6c718531",
   "metadata": {},
   "outputs": [
    {
     "name": "stdout",
     "output_type": "stream",
     "text": [
      "Precise validation accuracy score: 0.8294051627384961\n"
     ]
    }
   ],
   "source": [
    "print('Precise validation accuracy score: {}'.format(np.max(cv_data['test-Accuracy-mean'])))"
   ]
  },
  {
   "cell_type": "code",
   "execution_count": 22,
   "id": "faa951fd-6ce7-4cec-8948-4329a7807392",
   "metadata": {},
   "outputs": [],
   "source": [
    "params = {\n",
    "    'iterations': 500,\n",
    "    'learning_rate': 0.1,\n",
    "    'eval_metric': metrics.Accuracy(),\n",
    "    'random_seed': 42,\n",
    "    'logging_level': 'Silent',\n",
    "    'use_best_model': False\n",
    "}\n",
    "train_pool = Pool(X_train, y_train, cat_features=categ)\n",
    "validate_pool = Pool(X_validation, y_validation, cat_features=categ)"
   ]
  },
  {
   "cell_type": "code",
   "execution_count": 23,
   "id": "77fa086d-c5cf-4805-aaea-eb808a82ece6",
   "metadata": {},
   "outputs": [
    {
     "name": "stdout",
     "output_type": "stream",
     "text": [
      "Simple model validation accuracy: 0.7982\n",
      "\n",
      "Best model validation accuracy: 0.8251\n"
     ]
    }
   ],
   "source": [
    "model = CatBoostClassifier(**params)\n",
    "model.fit(train_pool, eval_set=validate_pool)\n",
    "\n",
    "best_model_params = params.copy()\n",
    "best_model_params.update({\n",
    "    'use_best_model': True\n",
    "})\n",
    "best_model = CatBoostClassifier(**best_model_params)\n",
    "best_model.fit(train_pool, eval_set=validate_pool);\n",
    "\n",
    "print('Simple model validation accuracy: {:.4}'.format(\n",
    "    accuracy_score(y_validation, model.predict(X_validation))\n",
    "))\n",
    "print('')\n",
    "\n",
    "print('Best model validation accuracy: {:.4}'.format(\n",
    "    accuracy_score(y_validation, best_model.predict(X_validation))\n",
    "))"
   ]
  },
  {
   "cell_type": "code",
   "execution_count": 25,
   "id": "1fa33626-c858-451f-ab7f-fb776d0d918c",
   "metadata": {},
   "outputs": [
    {
     "data": {
      "text/plain": [
       "<catboost.core.CatBoostClassifier at 0x7fe169cc9a90>"
      ]
     },
     "execution_count": 25,
     "metadata": {},
     "output_type": "execute_result"
    }
   ],
   "source": [
    "model = CatBoostClassifier(**params)\n",
    "model.fit(train_pool, eval_set=validate_pool)"
   ]
  },
  {
   "cell_type": "code",
   "execution_count": 26,
   "id": "f77605a0-b413-4670-81b6-99d04a0fd171",
   "metadata": {},
   "outputs": [],
   "source": [
    "earlystop_params = params.copy()\n",
    "earlystop_params.update({\n",
    "    'od_type': 'Iter',\n",
    "    'od_wait': 40\n",
    "})\n",
    "earlystop_model = CatBoostClassifier(**earlystop_params)\n",
    "earlystop_model.fit(train_pool, eval_set=validate_pool);"
   ]
  },
  {
   "cell_type": "code",
   "execution_count": 27,
   "id": "9d0091fd-235a-48c6-b6a3-939b809566e4",
   "metadata": {},
   "outputs": [
    {
     "name": "stdout",
     "output_type": "stream",
     "text": [
      "Simple model tree count: 500\n",
      "Simple model validation accuracy: 0.7982\n",
      "\n",
      "Early-stopped model tree count: 82\n",
      "Early-stopped model validation accuracy: 0.8072\n"
     ]
    }
   ],
   "source": [
    "print('Simple model tree count: {}'.format(model.tree_count_))\n",
    "print('Simple model validation accuracy: {:.4}'.format(\n",
    "    accuracy_score(y_validation, model.predict(X_validation))\n",
    "))\n",
    "print('')\n",
    "\n",
    "print('Early-stopped model tree count: {}'.format(earlystop_model.tree_count_))\n",
    "print('Early-stopped model validation accuracy: {:.4}'.format(\n",
    "    accuracy_score(y_validation, earlystop_model.predict(X_validation))\n",
    "))"
   ]
  },
  {
   "cell_type": "code",
   "execution_count": 33,
   "id": "31c4c920-10dd-4a49-9df8-a249fffa8738",
   "metadata": {},
   "outputs": [
    {
     "name": "stdout",
     "output_type": "stream",
     "text": [
      "\n",
      "bestTest = 0.802690583\n",
      "bestIteration = 4\n",
      "\n",
      "\n",
      "bestTest = 0.802690583\n",
      "bestIteration = 4\n",
      "\n"
     ]
    }
   ],
   "source": [
    "params_with_snapshot = params.copy()\n",
    "params_with_snapshot.update({\n",
    "    'iterations': 5,\n",
    "    'learning_rate': 0.5,\n",
    "    'logging_level': 'Verbose'\n",
    "})\n",
    "model = CatBoostClassifier(**params_with_snapshot).fit(train_pool, eval_set=validate_pool, save_snapshot=True)\n",
    "params_with_snapshot.update({\n",
    "    'iterations': 10,\n",
    "    'learning_rate': 0.1,\n",
    "})\n",
    "model = CatBoostClassifier(**params_with_snapshot).fit(train_pool, eval_set=validate_pool, save_snapshot=True)"
   ]
  },
  {
   "cell_type": "code",
   "execution_count": 34,
   "id": "0e40c49b-4c33-4a3c-b05d-bf120d4090a2",
   "metadata": {},
   "outputs": [
    {
     "data": {
      "application/vnd.jupyter.widget-view+json": {
       "model_id": "537ba558850645c9854296ee5c52035a",
       "version_major": 2,
       "version_minor": 0
      },
      "text/plain": [
       "MetricVisualizer(layout=Layout(align_self='stretch', height='500px'))"
      ]
     },
     "metadata": {},
     "output_type": "display_data"
    }
   ],
   "source": [
    "model = CatBoostClassifier(iterations=50, random_seed=42, logging_level='Silent').fit(train_pool)\n",
    "eval_metrics = model.eval_metrics(validate_pool, [metrics.AUC()], plot=True)"
   ]
  },
  {
   "cell_type": "code",
   "execution_count": 35,
   "id": "e920260a-f3ae-41fc-9118-39d689443963",
   "metadata": {},
   "outputs": [
    {
     "name": "stdout",
     "output_type": "stream",
     "text": [
      "[0.8627368774106994, 0.8623176253563642, 0.8602213650846889, 0.8514170719436525, 0.8495723629045783, 0.8569092738554419]\n"
     ]
    }
   ],
   "source": [
    "print(eval_metrics['AUC'][:6])"
   ]
  },
  {
   "cell_type": "code",
   "execution_count": 36,
   "id": "94595590-23a2-4b05-a603-7825f4a3b445",
   "metadata": {},
   "outputs": [],
   "source": [
    "model1 = CatBoostClassifier(iterations=100, depth=1, train_dir='model_depth_1/', logging_level='Silent')\n",
    "model1.fit(train_pool, eval_set=validate_pool)\n",
    "model2 = CatBoostClassifier(iterations=100, depth=5, train_dir='model_depth_5/', logging_level='Silent')\n",
    "model2.fit(train_pool, eval_set=validate_pool);"
   ]
  },
  {
   "cell_type": "code",
   "execution_count": 45,
   "id": "66ce3d46-f8e3-4b9e-8897-78ce7a0cb4f4",
   "metadata": {
    "scrolled": true
   },
   "outputs": [
    {
     "data": {
      "application/vnd.jupyter.widget-view+json": {
       "model_id": "38a1214c949c49cf911d8d63d0794659",
       "version_major": 2,
       "version_minor": 0
      },
      "text/plain": [
       "MetricVisualizer(layout=Layout(align_self='stretch', height='500px'))"
      ]
     },
     "metadata": {},
     "output_type": "display_data"
    },
    {
     "data": {
      "text/plain": [
       "{'params': {'learning_rate': 0.05},\n",
       " 'cv_results': defaultdict(list,\n",
       "             {'iterations': [0,\n",
       "               1,\n",
       "               2,\n",
       "               3,\n",
       "               4,\n",
       "               5,\n",
       "               6,\n",
       "               7,\n",
       "               8,\n",
       "               9,\n",
       "               10,\n",
       "               11,\n",
       "               12,\n",
       "               13,\n",
       "               14,\n",
       "               15,\n",
       "               16,\n",
       "               17,\n",
       "               18,\n",
       "               19,\n",
       "               20,\n",
       "               21,\n",
       "               22,\n",
       "               23,\n",
       "               24,\n",
       "               25,\n",
       "               26,\n",
       "               27,\n",
       "               28,\n",
       "               29,\n",
       "               30,\n",
       "               31,\n",
       "               32,\n",
       "               33,\n",
       "               34,\n",
       "               35,\n",
       "               36,\n",
       "               37,\n",
       "               38,\n",
       "               39,\n",
       "               40,\n",
       "               41,\n",
       "               42,\n",
       "               43,\n",
       "               44,\n",
       "               45,\n",
       "               46,\n",
       "               47,\n",
       "               48,\n",
       "               49],\n",
       "              'test-Logloss-mean': [0.6639730896226671,\n",
       "               0.6389677713801306,\n",
       "               0.6162327577023122,\n",
       "               0.5955172257964843,\n",
       "               0.5792950333841592,\n",
       "               0.5686483081640419,\n",
       "               0.5536831033005424,\n",
       "               0.5417694741616684,\n",
       "               0.5307432328346098,\n",
       "               0.5217516921817003,\n",
       "               0.5140808972068254,\n",
       "               0.5098639118020585,\n",
       "               0.50599255085512,\n",
       "               0.5001118823468258,\n",
       "               0.49494150181095947,\n",
       "               0.4909202973354194,\n",
       "               0.485852881837986,\n",
       "               0.48126755908400254,\n",
       "               0.47779971929797904,\n",
       "               0.475333583491322,\n",
       "               0.47427646717000155,\n",
       "               0.4726147554593752,\n",
       "               0.47089345630338775,\n",
       "               0.4699390795673912,\n",
       "               0.4689692003144905,\n",
       "               0.46683999213865923,\n",
       "               0.46491520245587714,\n",
       "               0.4635618195894656,\n",
       "               0.4616778174140112,\n",
       "               0.4607676681939507,\n",
       "               0.4580661512497102,\n",
       "               0.4563537912021895,\n",
       "               0.45541390921869357,\n",
       "               0.4532692966436018,\n",
       "               0.4522849808993857,\n",
       "               0.45086609421589485,\n",
       "               0.4509408810649302,\n",
       "               0.4493290720854146,\n",
       "               0.4483794518365733,\n",
       "               0.4478189827140316,\n",
       "               0.4470268443359931,\n",
       "               0.4469138340713736,\n",
       "               0.4458958685988382,\n",
       "               0.4454840697569675,\n",
       "               0.44409907746224736,\n",
       "               0.44393813585633213,\n",
       "               0.4436581225405744,\n",
       "               0.4431219923918362,\n",
       "               0.4430229798932463,\n",
       "               0.44230695655488245],\n",
       "              'test-Logloss-std': [0.0021481146693585196,\n",
       "               0.004317237556212334,\n",
       "               0.004399095394805451,\n",
       "               0.006656773985762036,\n",
       "               0.0066623033716517194,\n",
       "               0.0069845897753213985,\n",
       "               0.008700858532941237,\n",
       "               0.010491044152737454,\n",
       "               0.01178948858400344,\n",
       "               0.013370134492014026,\n",
       "               0.015143430115544353,\n",
       "               0.013533529833143572,\n",
       "               0.015865098982894853,\n",
       "               0.014965923481477506,\n",
       "               0.01658311344190535,\n",
       "               0.01821663322790187,\n",
       "               0.01999397053879479,\n",
       "               0.020814267129598364,\n",
       "               0.02142403978374718,\n",
       "               0.023598428252134346,\n",
       "               0.02301178013314339,\n",
       "               0.02301061790128858,\n",
       "               0.023150727155049376,\n",
       "               0.023176349404955634,\n",
       "               0.022875048609756733,\n",
       "               0.02413397392668937,\n",
       "               0.022410156420558946,\n",
       "               0.022598811718758858,\n",
       "               0.022308228946353186,\n",
       "               0.02194825637589728,\n",
       "               0.02267919651162083,\n",
       "               0.023418150444506586,\n",
       "               0.023516212635232073,\n",
       "               0.023050149451792602,\n",
       "               0.022482075299610292,\n",
       "               0.02300293675850925,\n",
       "               0.02321410908443057,\n",
       "               0.024072391900942305,\n",
       "               0.024782991362372248,\n",
       "               0.024805253322555617,\n",
       "               0.02541675951864097,\n",
       "               0.025558264460603965,\n",
       "               0.02549718043813142,\n",
       "               0.02520000679657036,\n",
       "               0.025297045607512753,\n",
       "               0.025994826513983826,\n",
       "               0.025562868847288634,\n",
       "               0.02694802433124756,\n",
       "               0.027015012181345766,\n",
       "               0.027167955607528542],\n",
       "              'train-Logloss-mean': [0.6621365210020422,\n",
       "               0.6348592418281344,\n",
       "               0.6103671246805369,\n",
       "               0.5887200502402576,\n",
       "               0.5710089245961724,\n",
       "               0.5568487183715208,\n",
       "               0.5382024325720937,\n",
       "               0.5233767325667479,\n",
       "               0.5105170486562315,\n",
       "               0.5002778212427594,\n",
       "               0.49206323439425326,\n",
       "               0.48580130363342233,\n",
       "               0.48104685694540694,\n",
       "               0.4744190270115231,\n",
       "               0.4666234879961524,\n",
       "               0.4617997090343186,\n",
       "               0.45401701981653125,\n",
       "               0.448069096588042,\n",
       "               0.4415677588297706,\n",
       "               0.43694122147840697,\n",
       "               0.43390453675795415,\n",
       "               0.4306558341098318,\n",
       "               0.4288750364661364,\n",
       "               0.42582539799372804,\n",
       "               0.4230236220748515,\n",
       "               0.42044364622333535,\n",
       "               0.4178922626828656,\n",
       "               0.41547251872226254,\n",
       "               0.4127091698237153,\n",
       "               0.4104624896682639,\n",
       "               0.40626559274269836,\n",
       "               0.40305439365529666,\n",
       "               0.4014828026840478,\n",
       "               0.398615169577528,\n",
       "               0.3959447106532293,\n",
       "               0.392955572507812,\n",
       "               0.390913961002666,\n",
       "               0.38918067508596127,\n",
       "               0.38654223761107964,\n",
       "               0.384497824611947,\n",
       "               0.38251611534775937,\n",
       "               0.3814759019420963,\n",
       "               0.37914296800851566,\n",
       "               0.3778902489162697,\n",
       "               0.37608706124390023,\n",
       "               0.3744656362509466,\n",
       "               0.37357086377786347,\n",
       "               0.3709128686966139,\n",
       "               0.3701526852180616,\n",
       "               0.3689326161319806],\n",
       "              'train-Logloss-std': [0.002468193366614683,\n",
       "               0.004495956420662996,\n",
       "               0.004877702903743351,\n",
       "               0.002830471075473746,\n",
       "               0.0066957773822689136,\n",
       "               0.011211735616201141,\n",
       "               0.012370203380657023,\n",
       "               0.010827453677031803,\n",
       "               0.011553221680072492,\n",
       "               0.01254037531217936,\n",
       "               0.01050926095878018,\n",
       "               0.014218439206630086,\n",
       "               0.01198716869092636,\n",
       "               0.013597440428635059,\n",
       "               0.012818677734139469,\n",
       "               0.012891428771174381,\n",
       "               0.009543692512216682,\n",
       "               0.009197405160875598,\n",
       "               0.010100370687535474,\n",
       "               0.008918396409736809,\n",
       "               0.011259567448774373,\n",
       "               0.013199319612904704,\n",
       "               0.013661131792893256,\n",
       "               0.013829589488052943,\n",
       "               0.01223894548228529,\n",
       "               0.01118629178928136,\n",
       "               0.013211899841280112,\n",
       "               0.014292723377295494,\n",
       "               0.014759875550145556,\n",
       "               0.015313803521225921,\n",
       "               0.01598023501451467,\n",
       "               0.01595189025233395,\n",
       "               0.014945130225126243,\n",
       "               0.014541304721857445,\n",
       "               0.015850813409525065,\n",
       "               0.016428632394868633,\n",
       "               0.017562949870134847,\n",
       "               0.01640768558473639,\n",
       "               0.015205190547719374,\n",
       "               0.015972372490665625,\n",
       "               0.015465339682823284,\n",
       "               0.015078375179249884,\n",
       "               0.014410457450842486,\n",
       "               0.01457070408367654,\n",
       "               0.014978776351126427,\n",
       "               0.014729408308339229,\n",
       "               0.014488223579077685,\n",
       "               0.013538709310442914,\n",
       "               0.013900509581314623,\n",
       "               0.014119594134479555]})}"
      ]
     },
     "execution_count": 45,
     "metadata": {},
     "output_type": "execute_result"
    }
   ],
   "source": [
    "model = CatBoostClassifier(iterations=50, random_seed=42, logging_level='Silent',cat_features=categ)\n",
    "model.grid_search({'learning_rate':[0.01,0.03,0.05]},X_train,y_train,cv=3,plot=True,verbose=False)"
   ]
  },
  {
   "cell_type": "code",
   "execution_count": 37,
   "id": "be0f6970-cb58-4335-9560-8c5fa9b2c270",
   "metadata": {},
   "outputs": [
    {
     "data": {
      "application/vnd.jupyter.widget-view+json": {
       "model_id": "69a08024be6e45278f9011903c05720a",
       "version_major": 2,
       "version_minor": 0
      },
      "text/plain": [
       "MetricVisualizer(layout=Layout(align_self='stretch', height='500px'))"
      ]
     },
     "metadata": {},
     "output_type": "display_data"
    }
   ],
   "source": [
    "from catboost import MetricVisualizer\n",
    "widget = MetricVisualizer(['model_depth_1', 'model_depth_5'])\n",
    "widget.start()"
   ]
  },
  {
   "cell_type": "code",
   "execution_count": 48,
   "id": "491cb2c9-d7c9-4af8-9470-3ab0f5a72a45",
   "metadata": {},
   "outputs": [],
   "source": []
  },
  {
   "cell_type": "code",
   "execution_count": 49,
   "id": "b6a42b67-35c3-4f9b-9d33-3ea5f4f19cef",
   "metadata": {},
   "outputs": [
    {
     "data": {
      "text/plain": [
       "[]"
      ]
     },
     "execution_count": 49,
     "metadata": {},
     "output_type": "execute_result"
    }
   ],
   "source": []
  }
 ],
 "metadata": {
  "kernelspec": {
   "display_name": "Python 3 (ipykernel)",
   "language": "python",
   "name": "python3"
  },
  "language_info": {
   "codemirror_mode": {
    "name": "ipython",
    "version": 3
   },
   "file_extension": ".py",
   "mimetype": "text/x-python",
   "name": "python",
   "nbconvert_exporter": "python",
   "pygments_lexer": "ipython3",
   "version": "3.12.4"
  }
 },
 "nbformat": 4,
 "nbformat_minor": 5
}

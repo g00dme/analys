{
 "cells": [
  {
   "cell_type": "code",
   "execution_count": 1,
   "id": "d36ab39f-a2e4-4beb-bbfa-a03e004e397e",
   "metadata": {},
   "outputs": [],
   "source": [
    "from selenium import webdriver\n",
    "from selenium.webdriver.common.by import By\n",
    "import os\n",
    "from time import strptime\n",
    "import re\n",
    "import pandas as pd"
   ]
  },
  {
   "cell_type": "code",
   "execution_count": 42,
   "id": "5594ecdf-29f6-4be5-b1d8-7dd44fc9ce8a",
   "metadata": {
    "editable": true,
    "slideshow": {
     "slide_type": ""
    },
    "tags": []
   },
   "outputs": [
    {
     "name": "stdin",
     "output_type": "stream",
     "text": [
      "list? y/n) y\n"
     ]
    },
    {
     "data": {
      "text/html": [
       "<div>\n",
       "<style scoped>\n",
       "    .dataframe tbody tr th:only-of-type {\n",
       "        vertical-align: middle;\n",
       "    }\n",
       "\n",
       "    .dataframe tbody tr th {\n",
       "        vertical-align: top;\n",
       "    }\n",
       "\n",
       "    .dataframe thead th {\n",
       "        text-align: right;\n",
       "    }\n",
       "</style>\n",
       "<table border=\"1\" class=\"dataframe\">\n",
       "  <thead>\n",
       "    <tr style=\"text-align: right;\">\n",
       "      <th></th>\n",
       "      <th>name</th>\n",
       "      <th>day</th>\n",
       "      <th>month</th>\n",
       "      <th>url</th>\n",
       "    </tr>\n",
       "  </thead>\n",
       "  <tbody>\n",
       "    <tr>\n",
       "      <th>0</th>\n",
       "      <td>International Tiger Day</td>\n",
       "      <td>29</td>\n",
       "      <td>7</td>\n",
       "      <td>https://www.checkiday.com/d1ba6721da68b8c29df3...</td>\n",
       "    </tr>\n",
       "    <tr>\n",
       "      <th>1</th>\n",
       "      <td>Clean Your Floors Day</td>\n",
       "      <td>3</td>\n",
       "      <td>8</td>\n",
       "      <td>https://www.checkiday.com/8e8928024a41fa9aa14f...</td>\n",
       "    </tr>\n",
       "  </tbody>\n",
       "</table>\n",
       "</div>"
      ],
      "text/plain": [
       "                      name day  month  \\\n",
       "0  International Tiger Day  29      7   \n",
       "1    Clean Your Floors Day   3      8   \n",
       "\n",
       "                                                 url  \n",
       "0  https://www.checkiday.com/d1ba6721da68b8c29df3...  \n",
       "1  https://www.checkiday.com/8e8928024a41fa9aa14f...  "
      ]
     },
     "execution_count": 42,
     "metadata": {},
     "output_type": "execute_result"
    }
   ],
   "source": [
    "holidays=pd.DataFrame([],columns=['name','month','day','url'])\n",
    "\n",
    "with webdriver.Firefox()  as driver:\n",
    "    # file=open(r'events.org','a')\n",
    "    driver.get('https://www.checkiday.com/d1ba6721da68b8c29df39112a76bab34/international-tiger-day/')\n",
    "    if (input('list? y/n)') == 'y'):\n",
    "        for window_handle in driver.window_handles:\n",
    "            driver.switch_to.window(window_handle)\n",
    "\n",
    "            strings=driver.find_elements(By.CLASS_NAME,'mdl-list__item')[1].find_element(By.TAG_NAME, 'a').text.split(' ')\n",
    "            month=strptime(strings[0],'%B').tm_mon\n",
    "            day=re.findall(r'\\d+',strings[1])\n",
    "            name=driver.find_element(By.CLASS_NAME,'card-image__filename').text\n",
    "            url=driver.current_url\n",
    "\n",
    "            # file.write(f\"%%(diary-anniversary {day[0]} {month})\" + \n",
    "            #     driver.find_element(By.CLASS_NAME,'card-image__filename').text +'\\n' + driver.current_url)\n",
    "            holidays.loc[len(holidays)]=[name,month,day[0],url]\n",
    "            \n",
    "\n",
    "    # file.close()\n",
    "    driver.close()\n",
    "holidays.sort_values(['month','day'])\n",
    "holidays"
   ]
  }
 ],
 "metadata": {
  "kernelspec": {
   "display_name": "Python 3 (ipykernel)",
   "language": "python",
   "name": "python3"
  },
  "language_info": {
   "codemirror_mode": {
    "name": "ipython",
    "version": 3
   },
   "file_extension": ".py",
   "mimetype": "text/x-python",
   "name": "python",
   "nbconvert_exporter": "python",
   "pygments_lexer": "ipython3",
   "version": "3.12.4"
  }
 },
 "nbformat": 4,
 "nbformat_minor": 5
}

{
 "cells": [
  {
   "cell_type": "markdown",
   "id": "6fe49c1b",
   "metadata": {},
   "source": [
    "# Загружаем данные"
   ]
  },
  {
   "cell_type": "code",
   "execution_count": 6967,
   "id": "541f072c",
   "metadata": {},
   "outputs": [],
   "source": [
    "#загружаем модули\n",
    "from pprint import pprint\n",
    "%matplotlib inline\n",
    "\n",
    "import pandas as pd\n",
    "import numpy as np\n",
    "import matplotlib.pyplot as plt\n",
    "import scipy.stats as stats\n",
    "from scipy.stats import f_oneway\n",
    "from sklearn.linear_model import LinearRegression\n",
    "from sklearn.tree import DecisionTreeRegressor\n",
    "from statsmodels.stats.outliers_influence import variance_inflation_factor \n",
    "from sklearn.impute import SimpleImputer\n",
    "\n",
    "import statsmodels.api as sm\n",
    "import statsmodels.formula.api as smf\n",
    "import seaborn as sns\n",
    "\n",
    "import re\n",
    "\n",
    "# from mlxtend.feature_selection import SequentialFeatureSelector\n",
    "\n",
    "from sklearn.preprocessing import StandardScaler, TargetEncoder"
   ]
  },
  {
   "cell_type": "code",
   "execution_count": 6968,
   "id": "93216c23",
   "metadata": {},
   "outputs": [],
   "source": [
    "#downloading data\n",
    "df=pd.read_csv('/mnt/All/Downloads/car details v4.csv')"
   ]
  },
  {
   "cell_type": "code",
   "execution_count": 6969,
   "id": "40925d7f",
   "metadata": {},
   "outputs": [],
   "source": [
    "#defining usefull variables\n",
    "idx=(df.applymap(type) == str).any(axis=0)\n",
    "txt=df.columns[idx]\n",
    "\n",
    "df_inta=df.select_dtypes(include=['float64','int64'])"
   ]
  },
  {
   "cell_type": "markdown",
   "id": "6e553172",
   "metadata": {},
   "source": [
    "# Преобразуем данные"
   ]
  },
  {
   "cell_type": "code",
   "execution_count": 6970,
   "id": "aa7fc7d4",
   "metadata": {},
   "outputs": [],
   "source": [
    "df.loc[df['Max Torque'].notna(),'Max Torque']=df.loc[df['Max Torque'].notna(),'Max Torque'].map(lambda x: re.match('[\\d\\.]+', x))\n",
    "df.loc[df['Max Torque'].notna(),'Max Torque']=df.loc[df['Max Torque'].notna(),'Max Torque'].map(lambda x: x.group())\n",
    "df['Max Torque']= df['Max Torque'].astype('float')\n",
    "\n",
    "df.loc[df['Max Power'].notna(),'Max Power']=df.loc[df['Max Power'].notna(),'Max Power'].map(lambda x: re.match('[\\d\\.]+', x))\n",
    "df.loc[df['Max Power'].notna(),'Max Power']=df.loc[df['Max Power'].notna(),'Max Power'].map(lambda x: x.group())\n",
    "df['Max Power']= df['Max Power'].astype('float')\n",
    "\n",
    "df.loc[df['Engine'].notna(),'Engine']=df.loc[df['Engine'].notna(),'Engine'].map(lambda x: re.match('[\\d\\.]+', x))\n",
    "df.loc[df['Engine'].notna(),'Engine']=df.loc[df['Engine'].notna(),'Engine'].map(lambda x: x.group())\n",
    "df['Engine']= df['Engine'].astype('float')"
   ]
  },
  {
   "cell_type": "code",
   "execution_count": 6971,
   "id": "a8442bd6",
   "metadata": {},
   "outputs": [],
   "source": [
    "# df=df.dropna(thresh =0.7*df.shape[1])"
   ]
  },
  {
   "cell_type": "code",
   "execution_count": 6972,
   "id": "8d08c1da",
   "metadata": {},
   "outputs": [],
   "source": [
    "#filling missing int data\n",
    "df_inta=df.select_dtypes(include=['float64','int64'])\n",
    "\n",
    "sl=SimpleImputer(missing_values = np.nan, strategy=\"median\")\n",
    "sl.fit(df_inta)\n",
    "\n",
    "df[df_inta.columns]=sl.transform(df_inta)"
   ]
  },
  {
   "cell_type": "code",
   "execution_count": 6973,
   "id": "84b0464a",
   "metadata": {},
   "outputs": [],
   "source": [
    "df[txt]= df[txt].astype('category')"
   ]
  },
  {
   "cell_type": "markdown",
   "id": "9c3fba73",
   "metadata": {},
   "source": [
    "# Анализируем данные"
   ]
  },
  {
   "cell_type": "code",
   "execution_count": 6974,
   "id": "a0188bb4",
   "metadata": {
    "scrolled": true
   },
   "outputs": [
    {
     "data": {
      "text/html": [
       "<div>\n",
       "<style scoped>\n",
       "    .dataframe tbody tr th:only-of-type {\n",
       "        vertical-align: middle;\n",
       "    }\n",
       "\n",
       "    .dataframe tbody tr th {\n",
       "        vertical-align: top;\n",
       "    }\n",
       "\n",
       "    .dataframe thead th {\n",
       "        text-align: right;\n",
       "    }\n",
       "</style>\n",
       "<table border=\"1\" class=\"dataframe\">\n",
       "  <thead>\n",
       "    <tr style=\"text-align: right;\">\n",
       "      <th></th>\n",
       "      <th>Make</th>\n",
       "      <th>Model</th>\n",
       "      <th>Price</th>\n",
       "      <th>Year</th>\n",
       "      <th>Kilometer</th>\n",
       "      <th>Fuel Type</th>\n",
       "      <th>Transmission</th>\n",
       "      <th>Location</th>\n",
       "      <th>Color</th>\n",
       "      <th>Owner</th>\n",
       "      <th>Seller Type</th>\n",
       "      <th>Engine</th>\n",
       "      <th>Max Power</th>\n",
       "      <th>Max Torque</th>\n",
       "      <th>Drivetrain</th>\n",
       "      <th>Length</th>\n",
       "      <th>Width</th>\n",
       "      <th>Height</th>\n",
       "      <th>Seating Capacity</th>\n",
       "      <th>Fuel Tank Capacity</th>\n",
       "    </tr>\n",
       "  </thead>\n",
       "  <tbody>\n",
       "    <tr>\n",
       "      <th>0</th>\n",
       "      <td>Honda</td>\n",
       "      <td>Amaze 1.2 VX i-VTEC</td>\n",
       "      <td>505000.0</td>\n",
       "      <td>2017.0</td>\n",
       "      <td>87150.0</td>\n",
       "      <td>Petrol</td>\n",
       "      <td>Manual</td>\n",
       "      <td>Pune</td>\n",
       "      <td>Grey</td>\n",
       "      <td>First</td>\n",
       "      <td>Corporate</td>\n",
       "      <td>1198.0</td>\n",
       "      <td>87.0</td>\n",
       "      <td>109.0000</td>\n",
       "      <td>FWD</td>\n",
       "      <td>3990.0</td>\n",
       "      <td>1680.0</td>\n",
       "      <td>1505.0</td>\n",
       "      <td>5.0</td>\n",
       "      <td>35.0</td>\n",
       "    </tr>\n",
       "    <tr>\n",
       "      <th>1</th>\n",
       "      <td>Maruti Suzuki</td>\n",
       "      <td>Swift DZire VDI</td>\n",
       "      <td>450000.0</td>\n",
       "      <td>2014.0</td>\n",
       "      <td>75000.0</td>\n",
       "      <td>Diesel</td>\n",
       "      <td>Manual</td>\n",
       "      <td>Ludhiana</td>\n",
       "      <td>White</td>\n",
       "      <td>Second</td>\n",
       "      <td>Individual</td>\n",
       "      <td>1248.0</td>\n",
       "      <td>74.0</td>\n",
       "      <td>190.0000</td>\n",
       "      <td>FWD</td>\n",
       "      <td>3995.0</td>\n",
       "      <td>1695.0</td>\n",
       "      <td>1555.0</td>\n",
       "      <td>5.0</td>\n",
       "      <td>42.0</td>\n",
       "    </tr>\n",
       "    <tr>\n",
       "      <th>2</th>\n",
       "      <td>Hyundai</td>\n",
       "      <td>i10 Magna 1.2 Kappa2</td>\n",
       "      <td>220000.0</td>\n",
       "      <td>2011.0</td>\n",
       "      <td>67000.0</td>\n",
       "      <td>Petrol</td>\n",
       "      <td>Manual</td>\n",
       "      <td>Lucknow</td>\n",
       "      <td>Maroon</td>\n",
       "      <td>First</td>\n",
       "      <td>Individual</td>\n",
       "      <td>1197.0</td>\n",
       "      <td>79.0</td>\n",
       "      <td>112.7619</td>\n",
       "      <td>FWD</td>\n",
       "      <td>3585.0</td>\n",
       "      <td>1595.0</td>\n",
       "      <td>1550.0</td>\n",
       "      <td>5.0</td>\n",
       "      <td>35.0</td>\n",
       "    </tr>\n",
       "    <tr>\n",
       "      <th>3</th>\n",
       "      <td>Toyota</td>\n",
       "      <td>Glanza G</td>\n",
       "      <td>799000.0</td>\n",
       "      <td>2019.0</td>\n",
       "      <td>37500.0</td>\n",
       "      <td>Petrol</td>\n",
       "      <td>Manual</td>\n",
       "      <td>Mangalore</td>\n",
       "      <td>Red</td>\n",
       "      <td>First</td>\n",
       "      <td>Individual</td>\n",
       "      <td>1197.0</td>\n",
       "      <td>82.0</td>\n",
       "      <td>113.0000</td>\n",
       "      <td>FWD</td>\n",
       "      <td>3995.0</td>\n",
       "      <td>1745.0</td>\n",
       "      <td>1510.0</td>\n",
       "      <td>5.0</td>\n",
       "      <td>37.0</td>\n",
       "    </tr>\n",
       "    <tr>\n",
       "      <th>4</th>\n",
       "      <td>Toyota</td>\n",
       "      <td>Innova 2.4 VX 7 STR [2016-2020]</td>\n",
       "      <td>1950000.0</td>\n",
       "      <td>2018.0</td>\n",
       "      <td>69000.0</td>\n",
       "      <td>Diesel</td>\n",
       "      <td>Manual</td>\n",
       "      <td>Mumbai</td>\n",
       "      <td>Grey</td>\n",
       "      <td>First</td>\n",
       "      <td>Individual</td>\n",
       "      <td>2393.0</td>\n",
       "      <td>148.0</td>\n",
       "      <td>343.0000</td>\n",
       "      <td>RWD</td>\n",
       "      <td>4735.0</td>\n",
       "      <td>1830.0</td>\n",
       "      <td>1795.0</td>\n",
       "      <td>7.0</td>\n",
       "      <td>55.0</td>\n",
       "    </tr>\n",
       "  </tbody>\n",
       "</table>\n",
       "</div>"
      ],
      "text/plain": [
       "            Make                            Model      Price    Year  \\\n",
       "0          Honda              Amaze 1.2 VX i-VTEC   505000.0  2017.0   \n",
       "1  Maruti Suzuki                  Swift DZire VDI   450000.0  2014.0   \n",
       "2        Hyundai             i10 Magna 1.2 Kappa2   220000.0  2011.0   \n",
       "3         Toyota                         Glanza G   799000.0  2019.0   \n",
       "4         Toyota  Innova 2.4 VX 7 STR [2016-2020]  1950000.0  2018.0   \n",
       "\n",
       "   Kilometer Fuel Type Transmission   Location   Color   Owner Seller Type  \\\n",
       "0    87150.0    Petrol       Manual       Pune    Grey   First   Corporate   \n",
       "1    75000.0    Diesel       Manual   Ludhiana   White  Second  Individual   \n",
       "2    67000.0    Petrol       Manual    Lucknow  Maroon   First  Individual   \n",
       "3    37500.0    Petrol       Manual  Mangalore     Red   First  Individual   \n",
       "4    69000.0    Diesel       Manual     Mumbai    Grey   First  Individual   \n",
       "\n",
       "   Engine Max Power Max Torque Drivetrain  Length   Width  Height  \\\n",
       "0  1198.0      87.0   109.0000        FWD  3990.0  1680.0  1505.0   \n",
       "1  1248.0      74.0   190.0000        FWD  3995.0  1695.0  1555.0   \n",
       "2  1197.0      79.0   112.7619        FWD  3585.0  1595.0  1550.0   \n",
       "3  1197.0      82.0   113.0000        FWD  3995.0  1745.0  1510.0   \n",
       "4  2393.0     148.0   343.0000        RWD  4735.0  1830.0  1795.0   \n",
       "\n",
       "   Seating Capacity  Fuel Tank Capacity  \n",
       "0               5.0                35.0  \n",
       "1               5.0                42.0  \n",
       "2               5.0                35.0  \n",
       "3               5.0                37.0  \n",
       "4               7.0                55.0  "
      ]
     },
     "metadata": {},
     "output_type": "display_data"
    },
    {
     "data": {
      "text/plain": [
       "(2059, 20)"
      ]
     },
     "execution_count": 6974,
     "metadata": {},
     "output_type": "execute_result"
    }
   ],
   "source": [
    "display(df.head())\n",
    "df.shape"
   ]
  },
  {
   "cell_type": "code",
   "execution_count": 6975,
   "id": "1e288c5e",
   "metadata": {},
   "outputs": [
    {
     "name": "stdout",
     "output_type": "stream",
     "text": [
      "<class 'pandas.core.frame.DataFrame'>\n",
      "RangeIndex: 2059 entries, 0 to 2058\n",
      "Data columns (total 20 columns):\n",
      " #   Column              Non-Null Count  Dtype   \n",
      "---  ------              --------------  -----   \n",
      " 0   Make                2059 non-null   category\n",
      " 1   Model               2059 non-null   category\n",
      " 2   Price               2059 non-null   float64 \n",
      " 3   Year                2059 non-null   float64 \n",
      " 4   Kilometer           2059 non-null   float64 \n",
      " 5   Fuel Type           2059 non-null   category\n",
      " 6   Transmission        2059 non-null   category\n",
      " 7   Location            2059 non-null   category\n",
      " 8   Color               2059 non-null   category\n",
      " 9   Owner               2059 non-null   category\n",
      " 10  Seller Type         2059 non-null   category\n",
      " 11  Engine              2059 non-null   category\n",
      " 12  Max Power           2059 non-null   category\n",
      " 13  Max Torque          2059 non-null   category\n",
      " 14  Drivetrain          1923 non-null   category\n",
      " 15  Length              2059 non-null   float64 \n",
      " 16  Width               2059 non-null   float64 \n",
      " 17  Height              2059 non-null   float64 \n",
      " 18  Seating Capacity    2059 non-null   float64 \n",
      " 19  Fuel Tank Capacity  2059 non-null   float64 \n",
      "dtypes: category(12), float64(8)\n",
      "memory usage: 220.5 KB\n"
     ]
    }
   ],
   "source": [
    "df.info()"
   ]
  },
  {
   "cell_type": "code",
   "execution_count": 6976,
   "id": "7fcf8a21",
   "metadata": {},
   "outputs": [
    {
     "name": "stdout",
     "output_type": "stream",
     "text": [
      "Make :  33\n",
      "Model :  1050\n",
      "Fuel Type :  9\n",
      "Transmission :  2\n",
      "Location :  77\n",
      "Color :  17\n",
      "Owner :  6\n",
      "Seller Type :  3\n",
      "Engine :  108\n",
      "Max Power :  166\n",
      "Max Torque :  141\n",
      "Drivetrain :  4\n"
     ]
    }
   ],
   "source": [
    "for x in df[txt]:\n",
    "    print(x, \": \",len(df[x].unique()))"
   ]
  },
  {
   "cell_type": "code",
   "execution_count": 6977,
   "id": "166548c4",
   "metadata": {},
   "outputs": [],
   "source": [
    "# sns.boxplot(data=df,x='Transmission',y='Price')"
   ]
  },
  {
   "cell_type": "code",
   "execution_count": 6978,
   "id": "6da0f7da",
   "metadata": {},
   "outputs": [
    {
     "data": {
      "text/plain": [
       "<Axes: >"
      ]
     },
     "execution_count": 6978,
     "metadata": {},
     "output_type": "execute_result"
    },
    {
     "data": {
      "image/png": "[encoded data removed]",
      "text/plain": [
       "<Figure size 640x480 with 2 Axes>"
      ]
     },
     "metadata": {},
     "output_type": "display_data"
    }
   ],
   "source": [
    "sns.heatmap(df_inta.corr(), cmap='Blues',annot=True)"
   ]
  },
  {
   "cell_type": "code",
   "execution_count": 6979,
   "id": "59e481f0",
   "metadata": {},
   "outputs": [],
   "source": [
    "# ml=['Fuel Type','Transmission','Owner','Drivetrain']\n",
    "# fig, axes = plt.subplots(1,4,figsize=(20,10))\n",
    "# for i,col in enumerate(df[ml]):\n",
    "#     sns.countplot(data=df[ml],x=col,ax=axes[i])"
   ]
  },
  {
   "cell_type": "code",
   "execution_count": 6980,
   "id": "58b3d1a7",
   "metadata": {},
   "outputs": [],
   "source": [
    "# sns.pairplot(df, hue ='Price')"
   ]
  },
  {
   "cell_type": "code",
   "execution_count": 6981,
   "id": "98deb3ce",
   "metadata": {},
   "outputs": [],
   "source": [
    "df=df.drop(['Width','Height','Seating Capacity','Drivetrain','Seller Type'],axis=1)"
   ]
  },
  {
   "cell_type": "code",
   "execution_count": 6982,
   "id": "e4973229",
   "metadata": {},
   "outputs": [
    {
     "name": "stdout",
     "output_type": "stream",
     "text": [
      "Make F_onewayResult(statistic=103.29282768611402, pvalue=0.0) \n",
      "\n",
      "Model F_onewayResult(statistic=47.3463550354279, pvalue=0.0) \n",
      "\n",
      "Fuel Type F_onewayResult(statistic=10.849582165186671, pvalue=4.503302609792324e-15) \n",
      "\n",
      "Transmission F_onewayResult(statistic=605.3656941204316, pvalue=2.186815111342499e-117) \n",
      "\n",
      "Location F_onewayResult(statistic=2.403267589634523, pvalue=3.728966750847658e-10) \n",
      "\n",
      "Color F_onewayResult(statistic=10.112337695937171, pvalue=4.577076904113941e-25) \n",
      "\n",
      "Owner F_onewayResult(statistic=10.796609074234004, pvalue=2.8851493297993864e-10) \n",
      "\n"
     ]
    }
   ],
   "source": [
    "df=df.dropna()\n",
    "idx=(df.applymap(type) == str).any(axis=0)\n",
    "txt=df.columns[idx]\n",
    "for col in df[txt]:\n",
    "    ar={}\n",
    "    for i,x in enumerate(df[col].unique()):\n",
    "        ar[f'{i}']=df.loc[df[col]==x,'Price']\n",
    "    print\n",
    "    print(f'{col}',f_oneway(*(ar.values())),'\\n')"
   ]
  },
  {
   "cell_type": "markdown",
   "id": "60ba91c2",
   "metadata": {},
   "source": [
    "# Чистим данные"
   ]
  },
  {
   "cell_type": "code",
   "execution_count": 6983,
   "id": "e1401d55",
   "metadata": {},
   "outputs": [],
   "source": [
    "df['Year']=df['Year']-2000"
   ]
  },
  {
   "cell_type": "code",
   "execution_count": 6984,
   "id": "89c30b0b",
   "metadata": {},
   "outputs": [],
   "source": [
    "df_inta=df.select_dtypes(include=['float64','int64'])"
   ]
  },
  {
   "cell_type": "code",
   "execution_count": 6985,
   "id": "59365a70",
   "metadata": {},
   "outputs": [
    {
     "name": "stdout",
     "output_type": "stream",
     "text": [
      "1050\n",
      "978\n"
     ]
    }
   ],
   "source": [
    "#вводит слишком много столбцов\n",
    "# print(df['Model'].value_counts())\n",
    "m=df['Model'].value_counts()\n",
    "print(len(m))\n",
    "m=m[m<5].index\n",
    "print(len(m))\n",
    "\n",
    "# df=df.drop('Model',axis=1)\n",
    "enc_auto = TargetEncoder(smooth=\"auto\",target_type=\"continuous\")\n",
    "df['Model'] = enc_auto.fit_transform(df['Model'].values.reshape(-1, 1), df['Price'])"
   ]
  },
  {
   "cell_type": "code",
   "execution_count": 6986,
   "id": "fa309b93",
   "metadata": {},
   "outputs": [
    {
     "name": "stdout",
     "output_type": "stream",
     "text": [
      "33\n",
      "5\n"
     ]
    }
   ],
   "source": [
    "#слишком сильно влияет на результаты в обмен на 8 столбцов - 5%\n",
    "print(len(df['Make'].value_counts()))\n",
    "\n",
    "m=df['Make'].value_counts()\n",
    "m=m[m<3].index\n",
    "print(len(m))"
   ]
  },
  {
   "cell_type": "code",
   "execution_count": 6987,
   "id": "c1756027",
   "metadata": {},
   "outputs": [
    {
     "name": "stdout",
     "output_type": "stream",
     "text": [
      "6\n",
      "4\n"
     ]
    }
   ],
   "source": [
    "m=df['Owner'].value_counts()\n",
    "print(len(m))\n",
    "m=m[m<100].index\n",
    "print(len(m))\n",
    "\n",
    "df=df.replace(m,'Another')"
   ]
  },
  {
   "cell_type": "code",
   "execution_count": 6988,
   "id": "62b68fca",
   "metadata": {},
   "outputs": [
    {
     "name": "stdout",
     "output_type": "stream",
     "text": [
      "77\n",
      "72\n"
     ]
    }
   ],
   "source": [
    "#полное удаление столбца негативно влияет на точность, оставляя только 2 точность существенно повыщается\n",
    "\n",
    "m=df['Location'].value_counts()\n",
    "print(len(m))\n",
    "m=m[m<100].index\n",
    "print(len(m))\n",
    "\n",
    "df=df.replace(m,'Another')"
   ]
  },
  {
   "cell_type": "code",
   "execution_count": 6989,
   "id": "03000337",
   "metadata": {},
   "outputs": [],
   "source": [
    "#практически не оказывает влияния\n",
    "df['Color'].value_counts()\n",
    "\n",
    "\n",
    "enc_auto = TargetEncoder(smooth=\"auto\",target_type=\"continuous\")\n",
    "df['Color'] = enc_auto.fit_transform(df['Color'].values.reshape(-1, 1), df['Price'])"
   ]
  },
  {
   "cell_type": "code",
   "execution_count": 6990,
   "id": "75761cc1",
   "metadata": {},
   "outputs": [
    {
     "name": "stdout",
     "output_type": "stream",
     "text": [
      "9\n",
      "7\n"
     ]
    }
   ],
   "source": [
    "m=df['Fuel Type'].value_counts()\n",
    "print(len(m))\n",
    "m=m[m<200].index\n",
    "print(len(m))\n",
    "\n",
    "df=df.replace(m,'Another')\n",
    "# df=df.dropna()"
   ]
  },
  {
   "cell_type": "code",
   "execution_count": 6991,
   "id": "3996dea8",
   "metadata": {
    "scrolled": true
   },
   "outputs": [
    {
     "name": "stdout",
     "output_type": "stream",
     "text": [
      "Make :  33\n",
      "Fuel Type :  3\n",
      "Transmission :  2\n",
      "Location :  6\n",
      "Owner :  3\n"
     ]
    }
   ],
   "source": [
    "idx=(df.applymap(type) == str).any(axis=0)\n",
    "txt=df.columns[idx]\n",
    "for x in df[txt]:\n",
    "    print(x, \": \",len(df[x].unique()))"
   ]
  },
  {
   "cell_type": "markdown",
   "id": "099b10fe",
   "metadata": {},
   "source": [
    "## Удаляем выбросы"
   ]
  },
  {
   "cell_type": "code",
   "execution_count": 6992,
   "id": "745d90c4",
   "metadata": {
    "scrolled": true
   },
   "outputs": [
    {
     "data": {
      "text/plain": [
       "<Figure size 640x480 with 0 Axes>"
      ]
     },
     "metadata": {},
     "output_type": "display_data"
    },
    {
     "data": {
      "image/png": "[encoded data removed]",
      "text/plain": [
       "<Figure size 640x480 with 1 Axes>"
      ]
     },
     "metadata": {},
     "output_type": "display_data"
    },
    {
     "data": {
      "text/plain": [
       "<Figure size 640x480 with 0 Axes>"
      ]
     },
     "metadata": {},
     "output_type": "display_data"
    },
    {
     "data": {
      "image/png": "[encoded data removed]",
      "text/plain": [
       "<Figure size 640x480 with 1 Axes>"
      ]
     },
     "metadata": {},
     "output_type": "display_data"
    },
    {
     "data": {
      "text/plain": [
       "<Figure size 640x480 with 0 Axes>"
      ]
     },
     "metadata": {},
     "output_type": "display_data"
    },
    {
     "data": {
      "image/png": "[encoded data removed]",
      "text/plain": [
       "<Figure size 640x480 with 1 Axes>"
      ]
     },
     "metadata": {},
     "output_type": "display_data"
    },
    {
     "data": {
      "text/plain": [
       "<Figure size 640x480 with 0 Axes>"
      ]
     },
     "metadata": {},
     "output_type": "display_data"
    },
    {
     "data": {
      "image/png": "[encoded data removed]",
      "text/plain": [
       "<Figure size 640x480 with 1 Axes>"
      ]
     },
     "metadata": {},
     "output_type": "display_data"
    },
    {
     "data": {
      "text/plain": [
       "<Figure size 640x480 with 0 Axes>"
      ]
     },
     "metadata": {},
     "output_type": "display_data"
    },
    {
     "data": {
      "image/png": "[encoded data removed]",
      "text/plain": [
       "<Figure size 640x480 with 1 Axes>"
      ]
     },
     "metadata": {},
     "output_type": "display_data"
    },
    {
     "data": {
      "text/plain": [
       "<Figure size 640x480 with 0 Axes>"
      ]
     },
     "metadata": {},
     "output_type": "display_data"
    },
    {
     "data": {
      "image/png": "[encoded data removed]",
      "text/plain": [
       "<Figure size 640x480 with 1 Axes>"
      ]
     },
     "metadata": {},
     "output_type": "display_data"
    },
    {
     "data": {
      "text/plain": [
       "<Figure size 640x480 with 0 Axes>"
      ]
     },
     "metadata": {},
     "output_type": "display_data"
    },
    {
     "data": {
      "image/png": "[encoded data removed]",
      "text/plain": [
       "<Figure size 640x480 with 1 Axes>"
      ]
     },
     "metadata": {},
     "output_type": "display_data"
    }
   ],
   "source": [
    "df_inta=df.select_dtypes(include=['float64','int64'])\n",
    "#удаление всех выбросов повышает точность\n",
    "for column in df_inta:\n",
    "    plt.figure()\n",
    "    df_inta.hist(column=[column])"
   ]
  },
  {
   "cell_type": "code",
   "execution_count": 6993,
   "id": "7ba09b4c",
   "metadata": {},
   "outputs": [],
   "source": [
    "#можно ли избавляться от выбросов до избвыления от nan?\n",
    "\n",
    "z=np.abs(stats.zscore(df_inta))\n",
    "df[df_inta.columns]=df_inta[(z<3).all(axis=1)]"
   ]
  },
  {
   "cell_type": "code",
   "execution_count": 6994,
   "id": "b9dcec4d",
   "metadata": {
    "scrolled": true
   },
   "outputs": [
    {
     "data": {
      "text/plain": [
       "<Figure size 640x480 with 0 Axes>"
      ]
     },
     "metadata": {},
     "output_type": "display_data"
    },
    {
     "data": {
      "image/png": "[encoded data removed]",
      "text/plain": [
       "<Figure size 640x480 with 1 Axes>"
      ]
     },
     "metadata": {},
     "output_type": "display_data"
    },
    {
     "data": {
      "text/plain": [
       "<Figure size 640x480 with 0 Axes>"
      ]
     },
     "metadata": {},
     "output_type": "display_data"
    },
    {
     "data": {
      "image/png": "[encoded data removed]",
      "text/plain": [
       "<Figure size 640x480 with 1 Axes>"
      ]
     },
     "metadata": {},
     "output_type": "display_data"
    },
    {
     "data": {
      "text/plain": [
       "<Figure size 640x480 with 0 Axes>"
      ]
     },
     "metadata": {},
     "output_type": "display_data"
    },
    {
     "data": {
      "image/png": "[encoded data removed]",
      "text/plain": [
       "<Figure size 640x480 with 1 Axes>"
      ]
     },
     "metadata": {},
     "output_type": "display_data"
    },
    {
     "data": {
      "text/plain": [
       "<Figure size 640x480 with 0 Axes>"
      ]
     },
     "metadata": {},
     "output_type": "display_data"
    },
    {
     "data": {
      "image/png": "[encoded data removed]",
      "text/plain": [
       "<Figure size 640x480 with 1 Axes>"
      ]
     },
     "metadata": {},
     "output_type": "display_data"
    },
    {
     "data": {
      "text/plain": [
       "<Figure size 640x480 with 0 Axes>"
      ]
     },
     "metadata": {},
     "output_type": "display_data"
    },
    {
     "data": {
      "image/png": "[encoded data removed]",
      "text/plain": [
       "<Figure size 640x480 with 1 Axes>"
      ]
     },
     "metadata": {},
     "output_type": "display_data"
    },
    {
     "data": {
      "text/plain": [
       "<Figure size 640x480 with 0 Axes>"
      ]
     },
     "metadata": {},
     "output_type": "display_data"
    },
    {
     "data": {
      "image/png": "[encoded data removed]",
      "text/plain": [
       "<Figure size 640x480 with 1 Axes>"
      ]
     },
     "metadata": {},
     "output_type": "display_data"
    },
    {
     "data": {
      "text/plain": [
       "<Figure size 640x480 with 0 Axes>"
      ]
     },
     "metadata": {},
     "output_type": "display_data"
    },
    {
     "data": {
      "image/png": "[encoded data removed]",
      "text/plain": [
       "<Figure size 640x480 with 1 Axes>"
      ]
     },
     "metadata": {},
     "output_type": "display_data"
    }
   ],
   "source": [
    "for column in df_inta:\n",
    "    plt.figure()\n",
    "    df.hist(column=[column])"
   ]
  },
  {
   "cell_type": "markdown",
   "id": "f579f856",
   "metadata": {},
   "source": [
    "# Пребразуем текстовые данные в характеристики и задаем x с y"
   ]
  },
  {
   "cell_type": "code",
   "execution_count": 6995,
   "id": "bc7157cd",
   "metadata": {
    "scrolled": true
   },
   "outputs": [
    {
     "data": {
      "text/html": [
       "<div>\n",
       "<style scoped>\n",
       "    .dataframe tbody tr th:only-of-type {\n",
       "        vertical-align: middle;\n",
       "    }\n",
       "\n",
       "    .dataframe tbody tr th {\n",
       "        vertical-align: top;\n",
       "    }\n",
       "\n",
       "    .dataframe thead th {\n",
       "        text-align: right;\n",
       "    }\n",
       "</style>\n",
       "<table border=\"1\" class=\"dataframe\">\n",
       "  <thead>\n",
       "    <tr style=\"text-align: right;\">\n",
       "      <th></th>\n",
       "      <th>Model</th>\n",
       "      <th>Price</th>\n",
       "      <th>Year</th>\n",
       "      <th>Kilometer</th>\n",
       "      <th>Color</th>\n",
       "      <th>Length</th>\n",
       "      <th>Fuel Tank Capacity</th>\n",
       "      <th>Make_BMW</th>\n",
       "      <th>Make_Chevrolet</th>\n",
       "      <th>Make_Datsun</th>\n",
       "      <th>...</th>\n",
       "      <th>Fuel Type_Diesel</th>\n",
       "      <th>Fuel Type_Petrol</th>\n",
       "      <th>Transmission_Manual</th>\n",
       "      <th>Location_Delhi</th>\n",
       "      <th>Location_Hyderabad</th>\n",
       "      <th>Location_Another</th>\n",
       "      <th>Location_Mumbai</th>\n",
       "      <th>Location_Pune</th>\n",
       "      <th>Owner_Second</th>\n",
       "      <th>Owner_Another</th>\n",
       "    </tr>\n",
       "  </thead>\n",
       "  <tbody>\n",
       "    <tr>\n",
       "      <th>0</th>\n",
       "      <td>1.750616e+06</td>\n",
       "      <td>505000.0</td>\n",
       "      <td>17.0</td>\n",
       "      <td>87150.0</td>\n",
       "      <td>1.177813e+06</td>\n",
       "      <td>3990.0</td>\n",
       "      <td>35.0</td>\n",
       "      <td>0</td>\n",
       "      <td>0</td>\n",
       "      <td>0</td>\n",
       "      <td>...</td>\n",
       "      <td>0</td>\n",
       "      <td>1</td>\n",
       "      <td>1</td>\n",
       "      <td>0</td>\n",
       "      <td>0</td>\n",
       "      <td>0</td>\n",
       "      <td>0</td>\n",
       "      <td>1</td>\n",
       "      <td>0</td>\n",
       "      <td>0</td>\n",
       "    </tr>\n",
       "    <tr>\n",
       "      <th>1</th>\n",
       "      <td>4.208454e+05</td>\n",
       "      <td>450000.0</td>\n",
       "      <td>14.0</td>\n",
       "      <td>75000.0</td>\n",
       "      <td>1.818830e+06</td>\n",
       "      <td>3995.0</td>\n",
       "      <td>42.0</td>\n",
       "      <td>0</td>\n",
       "      <td>0</td>\n",
       "      <td>0</td>\n",
       "      <td>...</td>\n",
       "      <td>1</td>\n",
       "      <td>0</td>\n",
       "      <td>1</td>\n",
       "      <td>0</td>\n",
       "      <td>0</td>\n",
       "      <td>1</td>\n",
       "      <td>0</td>\n",
       "      <td>0</td>\n",
       "      <td>1</td>\n",
       "      <td>0</td>\n",
       "    </tr>\n",
       "    <tr>\n",
       "      <th>2</th>\n",
       "      <td>3.036487e+05</td>\n",
       "      <td>220000.0</td>\n",
       "      <td>11.0</td>\n",
       "      <td>67000.0</td>\n",
       "      <td>1.364074e+06</td>\n",
       "      <td>3585.0</td>\n",
       "      <td>35.0</td>\n",
       "      <td>0</td>\n",
       "      <td>0</td>\n",
       "      <td>0</td>\n",
       "      <td>...</td>\n",
       "      <td>0</td>\n",
       "      <td>1</td>\n",
       "      <td>1</td>\n",
       "      <td>0</td>\n",
       "      <td>0</td>\n",
       "      <td>1</td>\n",
       "      <td>0</td>\n",
       "      <td>0</td>\n",
       "      <td>0</td>\n",
       "      <td>0</td>\n",
       "    </tr>\n",
       "    <tr>\n",
       "      <th>3</th>\n",
       "      <td>7.756508e+05</td>\n",
       "      <td>799000.0</td>\n",
       "      <td>19.0</td>\n",
       "      <td>37500.0</td>\n",
       "      <td>1.254983e+06</td>\n",
       "      <td>3995.0</td>\n",
       "      <td>37.0</td>\n",
       "      <td>0</td>\n",
       "      <td>0</td>\n",
       "      <td>0</td>\n",
       "      <td>...</td>\n",
       "      <td>0</td>\n",
       "      <td>1</td>\n",
       "      <td>1</td>\n",
       "      <td>0</td>\n",
       "      <td>0</td>\n",
       "      <td>1</td>\n",
       "      <td>0</td>\n",
       "      <td>0</td>\n",
       "      <td>0</td>\n",
       "      <td>0</td>\n",
       "    </tr>\n",
       "    <tr>\n",
       "      <th>4</th>\n",
       "      <td>2.044904e+06</td>\n",
       "      <td>1950000.0</td>\n",
       "      <td>18.0</td>\n",
       "      <td>69000.0</td>\n",
       "      <td>1.079528e+06</td>\n",
       "      <td>4735.0</td>\n",
       "      <td>55.0</td>\n",
       "      <td>0</td>\n",
       "      <td>0</td>\n",
       "      <td>0</td>\n",
       "      <td>...</td>\n",
       "      <td>1</td>\n",
       "      <td>0</td>\n",
       "      <td>1</td>\n",
       "      <td>0</td>\n",
       "      <td>0</td>\n",
       "      <td>0</td>\n",
       "      <td>1</td>\n",
       "      <td>0</td>\n",
       "      <td>0</td>\n",
       "      <td>0</td>\n",
       "    </tr>\n",
       "    <tr>\n",
       "      <th>...</th>\n",
       "      <td>...</td>\n",
       "      <td>...</td>\n",
       "      <td>...</td>\n",
       "      <td>...</td>\n",
       "      <td>...</td>\n",
       "      <td>...</td>\n",
       "      <td>...</td>\n",
       "      <td>...</td>\n",
       "      <td>...</td>\n",
       "      <td>...</td>\n",
       "      <td>...</td>\n",
       "      <td>...</td>\n",
       "      <td>...</td>\n",
       "      <td>...</td>\n",
       "      <td>...</td>\n",
       "      <td>...</td>\n",
       "      <td>...</td>\n",
       "      <td>...</td>\n",
       "      <td>...</td>\n",
       "      <td>...</td>\n",
       "      <td>...</td>\n",
       "    </tr>\n",
       "    <tr>\n",
       "      <th>2054</th>\n",
       "      <td>1.723186e+06</td>\n",
       "      <td>850000.0</td>\n",
       "      <td>16.0</td>\n",
       "      <td>90300.0</td>\n",
       "      <td>1.744625e+06</td>\n",
       "      <td>4585.0</td>\n",
       "      <td>70.0</td>\n",
       "      <td>0</td>\n",
       "      <td>0</td>\n",
       "      <td>0</td>\n",
       "      <td>...</td>\n",
       "      <td>1</td>\n",
       "      <td>0</td>\n",
       "      <td>1</td>\n",
       "      <td>0</td>\n",
       "      <td>0</td>\n",
       "      <td>1</td>\n",
       "      <td>0</td>\n",
       "      <td>0</td>\n",
       "      <td>0</td>\n",
       "      <td>0</td>\n",
       "    </tr>\n",
       "    <tr>\n",
       "      <th>2055</th>\n",
       "      <td>1.716803e+06</td>\n",
       "      <td>275000.0</td>\n",
       "      <td>14.0</td>\n",
       "      <td>83000.0</td>\n",
       "      <td>1.818830e+06</td>\n",
       "      <td>3495.0</td>\n",
       "      <td>32.0</td>\n",
       "      <td>0</td>\n",
       "      <td>0</td>\n",
       "      <td>0</td>\n",
       "      <td>...</td>\n",
       "      <td>0</td>\n",
       "      <td>1</td>\n",
       "      <td>1</td>\n",
       "      <td>0</td>\n",
       "      <td>0</td>\n",
       "      <td>1</td>\n",
       "      <td>0</td>\n",
       "      <td>0</td>\n",
       "      <td>1</td>\n",
       "      <td>0</td>\n",
       "    </tr>\n",
       "    <tr>\n",
       "      <th>2056</th>\n",
       "      <td>1.621918e+06</td>\n",
       "      <td>240000.0</td>\n",
       "      <td>13.0</td>\n",
       "      <td>73000.0</td>\n",
       "      <td>9.398999e+05</td>\n",
       "      <td>3795.0</td>\n",
       "      <td>45.0</td>\n",
       "      <td>0</td>\n",
       "      <td>0</td>\n",
       "      <td>0</td>\n",
       "      <td>...</td>\n",
       "      <td>0</td>\n",
       "      <td>1</td>\n",
       "      <td>1</td>\n",
       "      <td>0</td>\n",
       "      <td>0</td>\n",
       "      <td>1</td>\n",
       "      <td>0</td>\n",
       "      <td>0</td>\n",
       "      <td>0</td>\n",
       "      <td>0</td>\n",
       "    </tr>\n",
       "    <tr>\n",
       "      <th>2057</th>\n",
       "      <td>4.231457e+06</td>\n",
       "      <td>4290000.0</td>\n",
       "      <td>18.0</td>\n",
       "      <td>60474.0</td>\n",
       "      <td>1.818830e+06</td>\n",
       "      <td>4936.0</td>\n",
       "      <td>65.0</td>\n",
       "      <td>1</td>\n",
       "      <td>0</td>\n",
       "      <td>0</td>\n",
       "      <td>...</td>\n",
       "      <td>1</td>\n",
       "      <td>0</td>\n",
       "      <td>0</td>\n",
       "      <td>0</td>\n",
       "      <td>0</td>\n",
       "      <td>1</td>\n",
       "      <td>0</td>\n",
       "      <td>0</td>\n",
       "      <td>0</td>\n",
       "      <td>0</td>\n",
       "    </tr>\n",
       "    <tr>\n",
       "      <th>2058</th>\n",
       "      <td>7.581476e+05</td>\n",
       "      <td>670000.0</td>\n",
       "      <td>17.0</td>\n",
       "      <td>72000.0</td>\n",
       "      <td>1.760609e+06</td>\n",
       "      <td>3995.0</td>\n",
       "      <td>50.0</td>\n",
       "      <td>0</td>\n",
       "      <td>0</td>\n",
       "      <td>0</td>\n",
       "      <td>...</td>\n",
       "      <td>1</td>\n",
       "      <td>0</td>\n",
       "      <td>1</td>\n",
       "      <td>0</td>\n",
       "      <td>0</td>\n",
       "      <td>1</td>\n",
       "      <td>0</td>\n",
       "      <td>0</td>\n",
       "      <td>0</td>\n",
       "      <td>0</td>\n",
       "    </tr>\n",
       "  </tbody>\n",
       "</table>\n",
       "<p>2059 rows × 49 columns</p>\n",
       "</div>"
      ],
      "text/plain": [
       "             Model      Price  Year  Kilometer         Color  Length  \\\n",
       "0     1.750616e+06   505000.0  17.0    87150.0  1.177813e+06  3990.0   \n",
       "1     4.208454e+05   450000.0  14.0    75000.0  1.818830e+06  3995.0   \n",
       "2     3.036487e+05   220000.0  11.0    67000.0  1.364074e+06  3585.0   \n",
       "3     7.756508e+05   799000.0  19.0    37500.0  1.254983e+06  3995.0   \n",
       "4     2.044904e+06  1950000.0  18.0    69000.0  1.079528e+06  4735.0   \n",
       "...            ...        ...   ...        ...           ...     ...   \n",
       "2054  1.723186e+06   850000.0  16.0    90300.0  1.744625e+06  4585.0   \n",
       "2055  1.716803e+06   275000.0  14.0    83000.0  1.818830e+06  3495.0   \n",
       "2056  1.621918e+06   240000.0  13.0    73000.0  9.398999e+05  3795.0   \n",
       "2057  4.231457e+06  4290000.0  18.0    60474.0  1.818830e+06  4936.0   \n",
       "2058  7.581476e+05   670000.0  17.0    72000.0  1.760609e+06  3995.0   \n",
       "\n",
       "      Fuel Tank Capacity  Make_BMW  Make_Chevrolet  Make_Datsun  ...  \\\n",
       "0                   35.0         0               0            0  ...   \n",
       "1                   42.0         0               0            0  ...   \n",
       "2                   35.0         0               0            0  ...   \n",
       "3                   37.0         0               0            0  ...   \n",
       "4                   55.0         0               0            0  ...   \n",
       "...                  ...       ...             ...          ...  ...   \n",
       "2054                70.0         0               0            0  ...   \n",
       "2055                32.0         0               0            0  ...   \n",
       "2056                45.0         0               0            0  ...   \n",
       "2057                65.0         1               0            0  ...   \n",
       "2058                50.0         0               0            0  ...   \n",
       "\n",
       "      Fuel Type_Diesel  Fuel Type_Petrol  Transmission_Manual  Location_Delhi  \\\n",
       "0                    0                 1                    1               0   \n",
       "1                    1                 0                    1               0   \n",
       "2                    0                 1                    1               0   \n",
       "3                    0                 1                    1               0   \n",
       "4                    1                 0                    1               0   \n",
       "...                ...               ...                  ...             ...   \n",
       "2054                 1                 0                    1               0   \n",
       "2055                 0                 1                    1               0   \n",
       "2056                 0                 1                    1               0   \n",
       "2057                 1                 0                    0               0   \n",
       "2058                 1                 0                    1               0   \n",
       "\n",
       "      Location_Hyderabad  Location_Another  Location_Mumbai  Location_Pune  \\\n",
       "0                      0                 0                0              1   \n",
       "1                      0                 1                0              0   \n",
       "2                      0                 1                0              0   \n",
       "3                      0                 1                0              0   \n",
       "4                      0                 0                1              0   \n",
       "...                  ...               ...              ...            ...   \n",
       "2054                   0                 1                0              0   \n",
       "2055                   0                 1                0              0   \n",
       "2056                   0                 1                0              0   \n",
       "2057                   0                 1                0              0   \n",
       "2058                   0                 1                0              0   \n",
       "\n",
       "      Owner_Second  Owner_Another  \n",
       "0                0              0  \n",
       "1                1              0  \n",
       "2                0              0  \n",
       "3                0              0  \n",
       "4                0              0  \n",
       "...            ...            ...  \n",
       "2054             0              0  \n",
       "2055             1              0  \n",
       "2056             0              0  \n",
       "2057             0              0  \n",
       "2058             0              0  \n",
       "\n",
       "[2059 rows x 49 columns]"
      ]
     },
     "execution_count": 6995,
     "metadata": {},
     "output_type": "execute_result"
    }
   ],
   "source": [
    "#выбираю столбцы с текстом\n",
    "dum=pd.concat([df_inta,pd.get_dummies(df[txt],drop_first=True)],axis=1)\n",
    "dum=dum.dropna()\n",
    "dum=dum.reset_index(drop=True)\n",
    "dum"
   ]
  },
  {
   "cell_type": "code",
   "execution_count": 6996,
   "id": "1e55adda",
   "metadata": {},
   "outputs": [],
   "source": [
    "y=dum['Price']\n",
    "dum=dum.drop('Price',axis=1)\n",
    "x=dum"
   ]
  },
  {
   "cell_type": "markdown",
   "id": "25d84f0f",
   "metadata": {},
   "source": [
    "# Проверяем на мультиколлинеарность"
   ]
  },
  {
   "cell_type": "code",
   "execution_count": 6997,
   "id": "c9a7afb3",
   "metadata": {},
   "outputs": [
    {
     "data": {
      "text/html": [
       "<div>\n",
       "<style scoped>\n",
       "    .dataframe tbody tr th:only-of-type {\n",
       "        vertical-align: middle;\n",
       "    }\n",
       "\n",
       "    .dataframe tbody tr th {\n",
       "        vertical-align: top;\n",
       "    }\n",
       "\n",
       "    .dataframe thead th {\n",
       "        text-align: right;\n",
       "    }\n",
       "</style>\n",
       "<table border=\"1\" class=\"dataframe\">\n",
       "  <thead>\n",
       "    <tr style=\"text-align: right;\">\n",
       "      <th></th>\n",
       "      <th>feature</th>\n",
       "      <th>vif</th>\n",
       "    </tr>\n",
       "  </thead>\n",
       "  <tbody>\n",
       "    <tr>\n",
       "      <th>0</th>\n",
       "      <td>Model</td>\n",
       "      <td>4.017213</td>\n",
       "    </tr>\n",
       "    <tr>\n",
       "      <th>1</th>\n",
       "      <td>Year</td>\n",
       "      <td>33.540486</td>\n",
       "    </tr>\n",
       "    <tr>\n",
       "      <th>2</th>\n",
       "      <td>Kilometer</td>\n",
       "      <td>2.269254</td>\n",
       "    </tr>\n",
       "    <tr>\n",
       "      <th>3</th>\n",
       "      <td>Color</td>\n",
       "      <td>8.937754</td>\n",
       "    </tr>\n",
       "    <tr>\n",
       "      <th>4</th>\n",
       "      <td>Length</td>\n",
       "      <td>181.877196</td>\n",
       "    </tr>\n",
       "    <tr>\n",
       "      <th>5</th>\n",
       "      <td>Fuel Tank Capacity</td>\n",
       "      <td>55.850138</td>\n",
       "    </tr>\n",
       "    <tr>\n",
       "      <th>6</th>\n",
       "      <td>Make_BMW</td>\n",
       "      <td>2.047871</td>\n",
       "    </tr>\n",
       "    <tr>\n",
       "      <th>7</th>\n",
       "      <td>Make_Chevrolet</td>\n",
       "      <td>1.067643</td>\n",
       "    </tr>\n",
       "    <tr>\n",
       "      <th>8</th>\n",
       "      <td>Make_Datsun</td>\n",
       "      <td>1.120301</td>\n",
       "    </tr>\n",
       "    <tr>\n",
       "      <th>9</th>\n",
       "      <td>Make_Ferrari</td>\n",
       "      <td>1.014751</td>\n",
       "    </tr>\n",
       "    <tr>\n",
       "      <th>10</th>\n",
       "      <td>Make_Fiat</td>\n",
       "      <td>1.030911</td>\n",
       "    </tr>\n",
       "    <tr>\n",
       "      <th>11</th>\n",
       "      <td>Make_Ford</td>\n",
       "      <td>1.448406</td>\n",
       "    </tr>\n",
       "    <tr>\n",
       "      <th>12</th>\n",
       "      <td>Make_Honda</td>\n",
       "      <td>3.079627</td>\n",
       "    </tr>\n",
       "    <tr>\n",
       "      <th>13</th>\n",
       "      <td>Make_Hyundai</td>\n",
       "      <td>4.739976</td>\n",
       "    </tr>\n",
       "    <tr>\n",
       "      <th>14</th>\n",
       "      <td>Make_Isuzu</td>\n",
       "      <td>1.023476</td>\n",
       "    </tr>\n",
       "    <tr>\n",
       "      <th>15</th>\n",
       "      <td>Make_Jaguar</td>\n",
       "      <td>1.143327</td>\n",
       "    </tr>\n",
       "    <tr>\n",
       "      <th>16</th>\n",
       "      <td>Make_Jeep</td>\n",
       "      <td>1.177161</td>\n",
       "    </tr>\n",
       "    <tr>\n",
       "      <th>17</th>\n",
       "      <td>Make_Kia</td>\n",
       "      <td>1.253318</td>\n",
       "    </tr>\n",
       "    <tr>\n",
       "      <th>18</th>\n",
       "      <td>Make_Lamborghini</td>\n",
       "      <td>1.013302</td>\n",
       "    </tr>\n",
       "    <tr>\n",
       "      <th>19</th>\n",
       "      <td>Make_Land Rover</td>\n",
       "      <td>1.283528</td>\n",
       "    </tr>\n",
       "    <tr>\n",
       "      <th>20</th>\n",
       "      <td>Make_Lexus</td>\n",
       "      <td>1.092892</td>\n",
       "    </tr>\n",
       "    <tr>\n",
       "      <th>21</th>\n",
       "      <td>Make_MG</td>\n",
       "      <td>1.183667</td>\n",
       "    </tr>\n",
       "    <tr>\n",
       "      <th>22</th>\n",
       "      <td>Make_MINI</td>\n",
       "      <td>1.095883</td>\n",
       "    </tr>\n",
       "    <tr>\n",
       "      <th>23</th>\n",
       "      <td>Make_Mahindra</td>\n",
       "      <td>2.280798</td>\n",
       "    </tr>\n",
       "    <tr>\n",
       "      <th>24</th>\n",
       "      <td>Make_Maruti Suzuki</td>\n",
       "      <td>6.161534</td>\n",
       "    </tr>\n",
       "    <tr>\n",
       "      <th>25</th>\n",
       "      <td>Make_Maserati</td>\n",
       "      <td>1.012833</td>\n",
       "    </tr>\n",
       "    <tr>\n",
       "      <th>26</th>\n",
       "      <td>Make_Mercedes-Benz</td>\n",
       "      <td>2.478395</td>\n",
       "    </tr>\n",
       "    <tr>\n",
       "      <th>27</th>\n",
       "      <td>Make_Mitsubishi</td>\n",
       "      <td>1.042903</td>\n",
       "    </tr>\n",
       "    <tr>\n",
       "      <th>28</th>\n",
       "      <td>Make_Nissan</td>\n",
       "      <td>1.186985</td>\n",
       "    </tr>\n",
       "    <tr>\n",
       "      <th>29</th>\n",
       "      <td>Make_Porsche</td>\n",
       "      <td>1.156591</td>\n",
       "    </tr>\n",
       "    <tr>\n",
       "      <th>30</th>\n",
       "      <td>Make_Renault</td>\n",
       "      <td>1.584666</td>\n",
       "    </tr>\n",
       "    <tr>\n",
       "      <th>31</th>\n",
       "      <td>Make_Rolls-Royce</td>\n",
       "      <td>1.065669</td>\n",
       "    </tr>\n",
       "    <tr>\n",
       "      <th>32</th>\n",
       "      <td>Make_Skoda</td>\n",
       "      <td>1.378655</td>\n",
       "    </tr>\n",
       "    <tr>\n",
       "      <th>33</th>\n",
       "      <td>Make_Ssangyong</td>\n",
       "      <td>1.034159</td>\n",
       "    </tr>\n",
       "    <tr>\n",
       "      <th>34</th>\n",
       "      <td>Make_Tata</td>\n",
       "      <td>1.625357</td>\n",
       "    </tr>\n",
       "    <tr>\n",
       "      <th>35</th>\n",
       "      <td>Make_Toyota</td>\n",
       "      <td>2.227928</td>\n",
       "    </tr>\n",
       "    <tr>\n",
       "      <th>36</th>\n",
       "      <td>Make_Volkswagen</td>\n",
       "      <td>1.516684</td>\n",
       "    </tr>\n",
       "    <tr>\n",
       "      <th>37</th>\n",
       "      <td>Make_Volvo</td>\n",
       "      <td>1.125879</td>\n",
       "    </tr>\n",
       "    <tr>\n",
       "      <th>38</th>\n",
       "      <td>Fuel Type_Diesel</td>\n",
       "      <td>20.207086</td>\n",
       "    </tr>\n",
       "    <tr>\n",
       "      <th>39</th>\n",
       "      <td>Fuel Type_Petrol</td>\n",
       "      <td>16.327833</td>\n",
       "    </tr>\n",
       "    <tr>\n",
       "      <th>40</th>\n",
       "      <td>Transmission_Manual</td>\n",
       "      <td>4.719376</td>\n",
       "    </tr>\n",
       "    <tr>\n",
       "      <th>41</th>\n",
       "      <td>Location_Delhi</td>\n",
       "      <td>3.397259</td>\n",
       "    </tr>\n",
       "    <tr>\n",
       "      <th>42</th>\n",
       "      <td>Location_Hyderabad</td>\n",
       "      <td>1.886450</td>\n",
       "    </tr>\n",
       "    <tr>\n",
       "      <th>43</th>\n",
       "      <td>Location_Another</td>\n",
       "      <td>8.810023</td>\n",
       "    </tr>\n",
       "    <tr>\n",
       "      <th>44</th>\n",
       "      <td>Location_Mumbai</td>\n",
       "      <td>3.609212</td>\n",
       "    </tr>\n",
       "    <tr>\n",
       "      <th>45</th>\n",
       "      <td>Location_Pune</td>\n",
       "      <td>2.099806</td>\n",
       "    </tr>\n",
       "    <tr>\n",
       "      <th>46</th>\n",
       "      <td>Owner_Second</td>\n",
       "      <td>1.392821</td>\n",
       "    </tr>\n",
       "    <tr>\n",
       "      <th>47</th>\n",
       "      <td>Owner_Another</td>\n",
       "      <td>1.123099</td>\n",
       "    </tr>\n",
       "  </tbody>\n",
       "</table>\n",
       "</div>"
      ],
      "text/plain": [
       "                feature         vif\n",
       "0                 Model    4.017213\n",
       "1                  Year   33.540486\n",
       "2             Kilometer    2.269254\n",
       "3                 Color    8.937754\n",
       "4                Length  181.877196\n",
       "5    Fuel Tank Capacity   55.850138\n",
       "6              Make_BMW    2.047871\n",
       "7        Make_Chevrolet    1.067643\n",
       "8           Make_Datsun    1.120301\n",
       "9          Make_Ferrari    1.014751\n",
       "10            Make_Fiat    1.030911\n",
       "11            Make_Ford    1.448406\n",
       "12           Make_Honda    3.079627\n",
       "13         Make_Hyundai    4.739976\n",
       "14           Make_Isuzu    1.023476\n",
       "15          Make_Jaguar    1.143327\n",
       "16            Make_Jeep    1.177161\n",
       "17             Make_Kia    1.253318\n",
       "18     Make_Lamborghini    1.013302\n",
       "19      Make_Land Rover    1.283528\n",
       "20           Make_Lexus    1.092892\n",
       "21              Make_MG    1.183667\n",
       "22            Make_MINI    1.095883\n",
       "23        Make_Mahindra    2.280798\n",
       "24   Make_Maruti Suzuki    6.161534\n",
       "25        Make_Maserati    1.012833\n",
       "26   Make_Mercedes-Benz    2.478395\n",
       "27      Make_Mitsubishi    1.042903\n",
       "28          Make_Nissan    1.186985\n",
       "29         Make_Porsche    1.156591\n",
       "30         Make_Renault    1.584666\n",
       "31     Make_Rolls-Royce    1.065669\n",
       "32           Make_Skoda    1.378655\n",
       "33       Make_Ssangyong    1.034159\n",
       "34            Make_Tata    1.625357\n",
       "35          Make_Toyota    2.227928\n",
       "36      Make_Volkswagen    1.516684\n",
       "37           Make_Volvo    1.125879\n",
       "38     Fuel Type_Diesel   20.207086\n",
       "39     Fuel Type_Petrol   16.327833\n",
       "40  Transmission_Manual    4.719376\n",
       "41       Location_Delhi    3.397259\n",
       "42   Location_Hyderabad    1.886450\n",
       "43     Location_Another    8.810023\n",
       "44      Location_Mumbai    3.609212\n",
       "45        Location_Pune    2.099806\n",
       "46         Owner_Second    1.392821\n",
       "47        Owner_Another    1.123099"
      ]
     },
     "execution_count": 6997,
     "metadata": {},
     "output_type": "execute_result"
    }
   ],
   "source": [
    "vif=pd.DataFrame()\n",
    "vif['feature']=x.columns\n",
    "vif['vif']=[variance_inflation_factor(x.values,i) for i in range(len(x.columns))]\n",
    "vif"
   ]
  },
  {
   "cell_type": "code",
   "execution_count": 7011,
   "id": "450b7942",
   "metadata": {},
   "outputs": [],
   "source": [
    "try:\n",
    "    while(vif.max()[1]>5 ):\n",
    "        m=vif.max()[1]\n",
    "        m=vif[vif['vif']==m]['feature']\n",
    "        x=x.drop(m,axis=1)\n",
    "        vif=pd.DataFrame()\n",
    "        vif['feature']=x.columns\n",
    "        vif['vif']=[variance_inflation_factor(x.values,i) for i in range(len(x.columns))]\n",
    "except:\n",
    "    print(vif)"
   ]
  },
  {
   "cell_type": "code",
   "execution_count": 6999,
   "id": "d64dd461",
   "metadata": {},
   "outputs": [
    {
     "data": {
      "text/plain": [
       "feature    Transmission_Manual\n",
       "vif                   4.560521\n",
       "dtype: object"
      ]
     },
     "execution_count": 6999,
     "metadata": {},
     "output_type": "execute_result"
    }
   ],
   "source": [
    "vif.max()"
   ]
  },
  {
   "cell_type": "code",
   "execution_count": 7000,
   "id": "d576fcef",
   "metadata": {},
   "outputs": [
    {
     "data": {
      "text/html": [
       "<div>\n",
       "<style scoped>\n",
       "    .dataframe tbody tr th:only-of-type {\n",
       "        vertical-align: middle;\n",
       "    }\n",
       "\n",
       "    .dataframe tbody tr th {\n",
       "        vertical-align: top;\n",
       "    }\n",
       "\n",
       "    .dataframe thead th {\n",
       "        text-align: right;\n",
       "    }\n",
       "</style>\n",
       "<table border=\"1\" class=\"dataframe\">\n",
       "  <thead>\n",
       "    <tr style=\"text-align: right;\">\n",
       "      <th></th>\n",
       "      <th>Model</th>\n",
       "      <th>Kilometer</th>\n",
       "      <th>Make_BMW</th>\n",
       "      <th>Make_Chevrolet</th>\n",
       "      <th>Make_Datsun</th>\n",
       "      <th>Make_Ferrari</th>\n",
       "      <th>Make_Fiat</th>\n",
       "      <th>Make_Ford</th>\n",
       "      <th>Make_Honda</th>\n",
       "      <th>Make_Hyundai</th>\n",
       "      <th>...</th>\n",
       "      <th>Make_Volkswagen</th>\n",
       "      <th>Make_Volvo</th>\n",
       "      <th>Fuel Type_Petrol</th>\n",
       "      <th>Transmission_Manual</th>\n",
       "      <th>Location_Delhi</th>\n",
       "      <th>Location_Hyderabad</th>\n",
       "      <th>Location_Mumbai</th>\n",
       "      <th>Location_Pune</th>\n",
       "      <th>Owner_Second</th>\n",
       "      <th>Owner_Another</th>\n",
       "    </tr>\n",
       "  </thead>\n",
       "  <tbody>\n",
       "    <tr>\n",
       "      <th>0</th>\n",
       "      <td>1.750616e+06</td>\n",
       "      <td>87150.0</td>\n",
       "      <td>0</td>\n",
       "      <td>0</td>\n",
       "      <td>0</td>\n",
       "      <td>0</td>\n",
       "      <td>0</td>\n",
       "      <td>0</td>\n",
       "      <td>1</td>\n",
       "      <td>0</td>\n",
       "      <td>...</td>\n",
       "      <td>0</td>\n",
       "      <td>0</td>\n",
       "      <td>1</td>\n",
       "      <td>1</td>\n",
       "      <td>0</td>\n",
       "      <td>0</td>\n",
       "      <td>0</td>\n",
       "      <td>1</td>\n",
       "      <td>0</td>\n",
       "      <td>0</td>\n",
       "    </tr>\n",
       "    <tr>\n",
       "      <th>1</th>\n",
       "      <td>4.208454e+05</td>\n",
       "      <td>75000.0</td>\n",
       "      <td>0</td>\n",
       "      <td>0</td>\n",
       "      <td>0</td>\n",
       "      <td>0</td>\n",
       "      <td>0</td>\n",
       "      <td>0</td>\n",
       "      <td>0</td>\n",
       "      <td>0</td>\n",
       "      <td>...</td>\n",
       "      <td>0</td>\n",
       "      <td>0</td>\n",
       "      <td>0</td>\n",
       "      <td>1</td>\n",
       "      <td>0</td>\n",
       "      <td>0</td>\n",
       "      <td>0</td>\n",
       "      <td>0</td>\n",
       "      <td>1</td>\n",
       "      <td>0</td>\n",
       "    </tr>\n",
       "    <tr>\n",
       "      <th>2</th>\n",
       "      <td>3.036487e+05</td>\n",
       "      <td>67000.0</td>\n",
       "      <td>0</td>\n",
       "      <td>0</td>\n",
       "      <td>0</td>\n",
       "      <td>0</td>\n",
       "      <td>0</td>\n",
       "      <td>0</td>\n",
       "      <td>0</td>\n",
       "      <td>1</td>\n",
       "      <td>...</td>\n",
       "      <td>0</td>\n",
       "      <td>0</td>\n",
       "      <td>1</td>\n",
       "      <td>1</td>\n",
       "      <td>0</td>\n",
       "      <td>0</td>\n",
       "      <td>0</td>\n",
       "      <td>0</td>\n",
       "      <td>0</td>\n",
       "      <td>0</td>\n",
       "    </tr>\n",
       "    <tr>\n",
       "      <th>3</th>\n",
       "      <td>7.756508e+05</td>\n",
       "      <td>37500.0</td>\n",
       "      <td>0</td>\n",
       "      <td>0</td>\n",
       "      <td>0</td>\n",
       "      <td>0</td>\n",
       "      <td>0</td>\n",
       "      <td>0</td>\n",
       "      <td>0</td>\n",
       "      <td>0</td>\n",
       "      <td>...</td>\n",
       "      <td>0</td>\n",
       "      <td>0</td>\n",
       "      <td>1</td>\n",
       "      <td>1</td>\n",
       "      <td>0</td>\n",
       "      <td>0</td>\n",
       "      <td>0</td>\n",
       "      <td>0</td>\n",
       "      <td>0</td>\n",
       "      <td>0</td>\n",
       "    </tr>\n",
       "    <tr>\n",
       "      <th>4</th>\n",
       "      <td>2.044904e+06</td>\n",
       "      <td>69000.0</td>\n",
       "      <td>0</td>\n",
       "      <td>0</td>\n",
       "      <td>0</td>\n",
       "      <td>0</td>\n",
       "      <td>0</td>\n",
       "      <td>0</td>\n",
       "      <td>0</td>\n",
       "      <td>0</td>\n",
       "      <td>...</td>\n",
       "      <td>0</td>\n",
       "      <td>0</td>\n",
       "      <td>0</td>\n",
       "      <td>1</td>\n",
       "      <td>0</td>\n",
       "      <td>0</td>\n",
       "      <td>1</td>\n",
       "      <td>0</td>\n",
       "      <td>0</td>\n",
       "      <td>0</td>\n",
       "    </tr>\n",
       "    <tr>\n",
       "      <th>...</th>\n",
       "      <td>...</td>\n",
       "      <td>...</td>\n",
       "      <td>...</td>\n",
       "      <td>...</td>\n",
       "      <td>...</td>\n",
       "      <td>...</td>\n",
       "      <td>...</td>\n",
       "      <td>...</td>\n",
       "      <td>...</td>\n",
       "      <td>...</td>\n",
       "      <td>...</td>\n",
       "      <td>...</td>\n",
       "      <td>...</td>\n",
       "      <td>...</td>\n",
       "      <td>...</td>\n",
       "      <td>...</td>\n",
       "      <td>...</td>\n",
       "      <td>...</td>\n",
       "      <td>...</td>\n",
       "      <td>...</td>\n",
       "      <td>...</td>\n",
       "    </tr>\n",
       "    <tr>\n",
       "      <th>2054</th>\n",
       "      <td>1.723186e+06</td>\n",
       "      <td>90300.0</td>\n",
       "      <td>0</td>\n",
       "      <td>0</td>\n",
       "      <td>0</td>\n",
       "      <td>0</td>\n",
       "      <td>0</td>\n",
       "      <td>0</td>\n",
       "      <td>0</td>\n",
       "      <td>0</td>\n",
       "      <td>...</td>\n",
       "      <td>0</td>\n",
       "      <td>0</td>\n",
       "      <td>0</td>\n",
       "      <td>1</td>\n",
       "      <td>0</td>\n",
       "      <td>0</td>\n",
       "      <td>0</td>\n",
       "      <td>0</td>\n",
       "      <td>0</td>\n",
       "      <td>0</td>\n",
       "    </tr>\n",
       "    <tr>\n",
       "      <th>2055</th>\n",
       "      <td>1.716803e+06</td>\n",
       "      <td>83000.0</td>\n",
       "      <td>0</td>\n",
       "      <td>0</td>\n",
       "      <td>0</td>\n",
       "      <td>0</td>\n",
       "      <td>0</td>\n",
       "      <td>0</td>\n",
       "      <td>0</td>\n",
       "      <td>1</td>\n",
       "      <td>...</td>\n",
       "      <td>0</td>\n",
       "      <td>0</td>\n",
       "      <td>1</td>\n",
       "      <td>1</td>\n",
       "      <td>0</td>\n",
       "      <td>0</td>\n",
       "      <td>0</td>\n",
       "      <td>0</td>\n",
       "      <td>1</td>\n",
       "      <td>0</td>\n",
       "    </tr>\n",
       "    <tr>\n",
       "      <th>2056</th>\n",
       "      <td>1.621918e+06</td>\n",
       "      <td>73000.0</td>\n",
       "      <td>0</td>\n",
       "      <td>0</td>\n",
       "      <td>0</td>\n",
       "      <td>0</td>\n",
       "      <td>0</td>\n",
       "      <td>1</td>\n",
       "      <td>0</td>\n",
       "      <td>0</td>\n",
       "      <td>...</td>\n",
       "      <td>0</td>\n",
       "      <td>0</td>\n",
       "      <td>1</td>\n",
       "      <td>1</td>\n",
       "      <td>0</td>\n",
       "      <td>0</td>\n",
       "      <td>0</td>\n",
       "      <td>0</td>\n",
       "      <td>0</td>\n",
       "      <td>0</td>\n",
       "    </tr>\n",
       "    <tr>\n",
       "      <th>2057</th>\n",
       "      <td>4.231457e+06</td>\n",
       "      <td>60474.0</td>\n",
       "      <td>1</td>\n",
       "      <td>0</td>\n",
       "      <td>0</td>\n",
       "      <td>0</td>\n",
       "      <td>0</td>\n",
       "      <td>0</td>\n",
       "      <td>0</td>\n",
       "      <td>0</td>\n",
       "      <td>...</td>\n",
       "      <td>0</td>\n",
       "      <td>0</td>\n",
       "      <td>0</td>\n",
       "      <td>0</td>\n",
       "      <td>0</td>\n",
       "      <td>0</td>\n",
       "      <td>0</td>\n",
       "      <td>0</td>\n",
       "      <td>0</td>\n",
       "      <td>0</td>\n",
       "    </tr>\n",
       "    <tr>\n",
       "      <th>2058</th>\n",
       "      <td>7.581476e+05</td>\n",
       "      <td>72000.0</td>\n",
       "      <td>0</td>\n",
       "      <td>0</td>\n",
       "      <td>0</td>\n",
       "      <td>0</td>\n",
       "      <td>0</td>\n",
       "      <td>0</td>\n",
       "      <td>0</td>\n",
       "      <td>0</td>\n",
       "      <td>...</td>\n",
       "      <td>0</td>\n",
       "      <td>0</td>\n",
       "      <td>0</td>\n",
       "      <td>1</td>\n",
       "      <td>0</td>\n",
       "      <td>0</td>\n",
       "      <td>0</td>\n",
       "      <td>0</td>\n",
       "      <td>0</td>\n",
       "      <td>0</td>\n",
       "    </tr>\n",
       "  </tbody>\n",
       "</table>\n",
       "<p>2059 rows × 42 columns</p>\n",
       "</div>"
      ],
      "text/plain": [
       "             Model  Kilometer  Make_BMW  Make_Chevrolet  Make_Datsun  \\\n",
       "0     1.750616e+06    87150.0         0               0            0   \n",
       "1     4.208454e+05    75000.0         0               0            0   \n",
       "2     3.036487e+05    67000.0         0               0            0   \n",
       "3     7.756508e+05    37500.0         0               0            0   \n",
       "4     2.044904e+06    69000.0         0               0            0   \n",
       "...            ...        ...       ...             ...          ...   \n",
       "2054  1.723186e+06    90300.0         0               0            0   \n",
       "2055  1.716803e+06    83000.0         0               0            0   \n",
       "2056  1.621918e+06    73000.0         0               0            0   \n",
       "2057  4.231457e+06    60474.0         1               0            0   \n",
       "2058  7.581476e+05    72000.0         0               0            0   \n",
       "\n",
       "      Make_Ferrari  Make_Fiat  Make_Ford  Make_Honda  Make_Hyundai  ...  \\\n",
       "0                0          0          0           1             0  ...   \n",
       "1                0          0          0           0             0  ...   \n",
       "2                0          0          0           0             1  ...   \n",
       "3                0          0          0           0             0  ...   \n",
       "4                0          0          0           0             0  ...   \n",
       "...            ...        ...        ...         ...           ...  ...   \n",
       "2054             0          0          0           0             0  ...   \n",
       "2055             0          0          0           0             1  ...   \n",
       "2056             0          0          1           0             0  ...   \n",
       "2057             0          0          0           0             0  ...   \n",
       "2058             0          0          0           0             0  ...   \n",
       "\n",
       "      Make_Volkswagen  Make_Volvo  Fuel Type_Petrol  Transmission_Manual  \\\n",
       "0                   0           0                 1                    1   \n",
       "1                   0           0                 0                    1   \n",
       "2                   0           0                 1                    1   \n",
       "3                   0           0                 1                    1   \n",
       "4                   0           0                 0                    1   \n",
       "...               ...         ...               ...                  ...   \n",
       "2054                0           0                 0                    1   \n",
       "2055                0           0                 1                    1   \n",
       "2056                0           0                 1                    1   \n",
       "2057                0           0                 0                    0   \n",
       "2058                0           0                 0                    1   \n",
       "\n",
       "      Location_Delhi  Location_Hyderabad  Location_Mumbai  Location_Pune  \\\n",
       "0                  0                   0                0              1   \n",
       "1                  0                   0                0              0   \n",
       "2                  0                   0                0              0   \n",
       "3                  0                   0                0              0   \n",
       "4                  0                   0                1              0   \n",
       "...              ...                 ...              ...            ...   \n",
       "2054               0                   0                0              0   \n",
       "2055               0                   0                0              0   \n",
       "2056               0                   0                0              0   \n",
       "2057               0                   0                0              0   \n",
       "2058               0                   0                0              0   \n",
       "\n",
       "      Owner_Second  Owner_Another  \n",
       "0                0              0  \n",
       "1                1              0  \n",
       "2                0              0  \n",
       "3                0              0  \n",
       "4                0              0  \n",
       "...            ...            ...  \n",
       "2054             0              0  \n",
       "2055             1              0  \n",
       "2056             0              0  \n",
       "2057             0              0  \n",
       "2058             0              0  \n",
       "\n",
       "[2059 rows x 42 columns]"
      ]
     },
     "execution_count": 7000,
     "metadata": {},
     "output_type": "execute_result"
    }
   ],
   "source": [
    "x"
   ]
  },
  {
   "cell_type": "code",
   "execution_count": 7001,
   "id": "7d8b795e",
   "metadata": {
    "scrolled": true
   },
   "outputs": [
    {
     "data": {
      "text/html": [
       "<table class=\"simpletable\">\n",
       "<caption>OLS Regression Results</caption>\n",
       "<tr>\n",
       "  <th>Dep. Variable:</th>          <td>Price</td>      <th>  R-squared:         </th> <td>   0.723</td> \n",
       "</tr>\n",
       "<tr>\n",
       "  <th>Model:</th>                   <td>OLS</td>       <th>  Adj. R-squared:    </th> <td>   0.717</td> \n",
       "</tr>\n",
       "<tr>\n",
       "  <th>Method:</th>             <td>Least Squares</td>  <th>  F-statistic:       </th> <td>   125.1</td> \n",
       "</tr>\n",
       "<tr>\n",
       "  <th>Date:</th>             <td>Sun, 24 Dec 2023</td> <th>  Prob (F-statistic):</th>  <td>  0.00</td>  \n",
       "</tr>\n",
       "<tr>\n",
       "  <th>Time:</th>                 <td>20:18:36</td>     <th>  Log-Likelihood:    </th> <td> -31866.</td> \n",
       "</tr>\n",
       "<tr>\n",
       "  <th>No. Observations:</th>      <td>  2059</td>      <th>  AIC:               </th> <td>6.382e+04</td>\n",
       "</tr>\n",
       "<tr>\n",
       "  <th>Df Residuals:</th>          <td>  2016</td>      <th>  BIC:               </th> <td>6.406e+04</td>\n",
       "</tr>\n",
       "<tr>\n",
       "  <th>Df Model:</th>              <td>    42</td>      <th>                     </th>     <td> </td>    \n",
       "</tr>\n",
       "<tr>\n",
       "  <th>Covariance Type:</th>      <td>nonrobust</td>    <th>                     </th>     <td> </td>    \n",
       "</tr>\n",
       "</table>\n",
       "<table class=\"simpletable\">\n",
       "<tr>\n",
       "           <td></td>              <th>coef</th>     <th>std err</th>      <th>t</th>      <th>P>|t|</th>  <th>[0.025</th>    <th>0.975]</th>  \n",
       "</tr>\n",
       "<tr>\n",
       "  <th>Model</th>               <td>    0.5559</td> <td>    0.024</td> <td>   23.080</td> <td> 0.000</td> <td>    0.509</td> <td>    0.603</td>\n",
       "</tr>\n",
       "<tr>\n",
       "  <th>Kilometer</th>           <td>   -2.9776</td> <td>    0.522</td> <td>   -5.709</td> <td> 0.000</td> <td>   -4.001</td> <td>   -1.955</td>\n",
       "</tr>\n",
       "<tr>\n",
       "  <th>Make_BMW</th>            <td> 6.659e+05</td> <td> 1.65e+05</td> <td>    4.033</td> <td> 0.000</td> <td> 3.42e+05</td> <td>  9.9e+05</td>\n",
       "</tr>\n",
       "<tr>\n",
       "  <th>Make_Chevrolet</th>      <td>-1.623e+06</td> <td> 5.04e+05</td> <td>   -3.222</td> <td> 0.001</td> <td>-2.61e+06</td> <td>-6.35e+05</td>\n",
       "</tr>\n",
       "<tr>\n",
       "  <th>Make_Datsun</th>         <td>-1.727e+06</td> <td> 4.79e+05</td> <td>   -3.604</td> <td> 0.000</td> <td>-2.67e+06</td> <td>-7.87e+05</td>\n",
       "</tr>\n",
       "<tr>\n",
       "  <th>Make_Ferrari</th>        <td> 3.223e+07</td> <td>  1.3e+06</td> <td>   24.879</td> <td> 0.000</td> <td> 2.97e+07</td> <td> 3.48e+07</td>\n",
       "</tr>\n",
       "<tr>\n",
       "  <th>Make_Fiat</th>           <td>-1.982e+06</td> <td> 9.23e+05</td> <td>   -2.146</td> <td> 0.032</td> <td>-3.79e+06</td> <td>-1.71e+05</td>\n",
       "</tr>\n",
       "<tr>\n",
       "  <th>Make_Ford</th>           <td>-8.666e+05</td> <td> 2.26e+05</td> <td>   -3.832</td> <td> 0.000</td> <td>-1.31e+06</td> <td>-4.23e+05</td>\n",
       "</tr>\n",
       "<tr>\n",
       "  <th>Make_Honda</th>          <td> -1.21e+06</td> <td> 1.72e+05</td> <td>   -7.016</td> <td> 0.000</td> <td>-1.55e+06</td> <td>-8.72e+05</td>\n",
       "</tr>\n",
       "<tr>\n",
       "  <th>Make_Hyundai</th>        <td>-1.129e+06</td> <td> 1.53e+05</td> <td>   -7.395</td> <td> 0.000</td> <td>-1.43e+06</td> <td> -8.3e+05</td>\n",
       "</tr>\n",
       "<tr>\n",
       "  <th>Make_Isuzu</th>          <td>-4.991e+05</td> <td>  9.2e+05</td> <td>   -0.542</td> <td> 0.588</td> <td> -2.3e+06</td> <td> 1.31e+06</td>\n",
       "</tr>\n",
       "<tr>\n",
       "  <th>Make_Jaguar</th>         <td> 4.771e+05</td> <td> 3.33e+05</td> <td>    1.431</td> <td> 0.153</td> <td>-1.77e+05</td> <td> 1.13e+06</td>\n",
       "</tr>\n",
       "<tr>\n",
       "  <th>Make_Jeep</th>           <td>-3.468e+05</td> <td> 3.28e+05</td> <td>   -1.058</td> <td> 0.290</td> <td> -9.9e+05</td> <td> 2.96e+05</td>\n",
       "</tr>\n",
       "<tr>\n",
       "  <th>Make_Kia</th>            <td>-7.694e+05</td> <td> 2.97e+05</td> <td>   -2.594</td> <td> 0.010</td> <td>-1.35e+06</td> <td>-1.88e+05</td>\n",
       "</tr>\n",
       "<tr>\n",
       "  <th>Make_Lamborghini</th>    <td> 2.126e+07</td> <td>  1.3e+06</td> <td>   16.414</td> <td> 0.000</td> <td> 1.87e+07</td> <td> 2.38e+07</td>\n",
       "</tr>\n",
       "<tr>\n",
       "  <th>Make_Land Rover</th>     <td> 3.105e+06</td> <td> 2.55e+05</td> <td>   12.182</td> <td> 0.000</td> <td> 2.61e+06</td> <td> 3.61e+06</td>\n",
       "</tr>\n",
       "<tr>\n",
       "  <th>Make_Lexus</th>          <td> 6.297e+05</td> <td> 5.41e+05</td> <td>    1.164</td> <td> 0.244</td> <td>-4.31e+05</td> <td> 1.69e+06</td>\n",
       "</tr>\n",
       "<tr>\n",
       "  <th>Make_MG</th>             <td>-5.141e+05</td> <td> 3.36e+05</td> <td>   -1.530</td> <td> 0.126</td> <td>-1.17e+06</td> <td> 1.45e+05</td>\n",
       "</tr>\n",
       "<tr>\n",
       "  <th>Make_MINI</th>           <td> 1.198e+05</td> <td> 4.06e+05</td> <td>    0.295</td> <td> 0.768</td> <td>-6.76e+05</td> <td> 9.16e+05</td>\n",
       "</tr>\n",
       "<tr>\n",
       "  <th>Make_Mahindra</th>       <td>-8.235e+05</td> <td> 1.78e+05</td> <td>   -4.621</td> <td> 0.000</td> <td>-1.17e+06</td> <td>-4.74e+05</td>\n",
       "</tr>\n",
       "<tr>\n",
       "  <th>Make_Maruti Suzuki</th>  <td>-1.171e+06</td> <td> 1.53e+05</td> <td>   -7.655</td> <td> 0.000</td> <td>-1.47e+06</td> <td>-8.71e+05</td>\n",
       "</tr>\n",
       "<tr>\n",
       "  <th>Make_Maserati</th>       <td> 6.977e+06</td> <td> 1.29e+06</td> <td>    5.390</td> <td> 0.000</td> <td> 4.44e+06</td> <td> 9.52e+06</td>\n",
       "</tr>\n",
       "<tr>\n",
       "  <th>Make_Mercedes-Benz</th>  <td> 9.194e+05</td> <td> 1.55e+05</td> <td>    5.943</td> <td> 0.000</td> <td> 6.16e+05</td> <td> 1.22e+06</td>\n",
       "</tr>\n",
       "<tr>\n",
       "  <th>Make_Mitsubishi</th>     <td> -6.16e+05</td> <td> 6.56e+05</td> <td>   -0.939</td> <td> 0.348</td> <td> -1.9e+06</td> <td>  6.7e+05</td>\n",
       "</tr>\n",
       "<tr>\n",
       "  <th>Make_Nissan</th>         <td>-1.193e+06</td> <td>  3.5e+05</td> <td>   -3.413</td> <td> 0.001</td> <td>-1.88e+06</td> <td>-5.08e+05</td>\n",
       "</tr>\n",
       "<tr>\n",
       "  <th>Make_Porsche</th>        <td> 4.287e+06</td> <td> 3.58e+05</td> <td>   11.979</td> <td> 0.000</td> <td> 3.59e+06</td> <td> 4.99e+06</td>\n",
       "</tr>\n",
       "<tr>\n",
       "  <th>Make_Renault</th>        <td>-1.173e+06</td> <td> 2.42e+05</td> <td>   -4.847</td> <td> 0.000</td> <td>-1.65e+06</td> <td>-6.99e+05</td>\n",
       "</tr>\n",
       "<tr>\n",
       "  <th>Make_Rolls-Royce</th>    <td> 1.686e+07</td> <td> 7.61e+05</td> <td>   22.162</td> <td> 0.000</td> <td> 1.54e+07</td> <td> 1.84e+07</td>\n",
       "</tr>\n",
       "<tr>\n",
       "  <th>Make_Skoda</th>          <td>-8.202e+05</td> <td> 2.37e+05</td> <td>   -3.454</td> <td> 0.001</td> <td>-1.29e+06</td> <td>-3.55e+05</td>\n",
       "</tr>\n",
       "<tr>\n",
       "  <th>Make_Ssangyong</th>      <td>-7.543e+05</td> <td> 7.54e+05</td> <td>   -1.000</td> <td> 0.317</td> <td>-2.23e+06</td> <td> 7.24e+05</td>\n",
       "</tr>\n",
       "<tr>\n",
       "  <th>Make_Tata</th>           <td>-1.124e+06</td> <td> 2.14e+05</td> <td>   -5.243</td> <td> 0.000</td> <td>-1.54e+06</td> <td>-7.04e+05</td>\n",
       "</tr>\n",
       "<tr>\n",
       "  <th>Make_Toyota</th>         <td>-4.936e+05</td> <td> 1.67e+05</td> <td>   -2.958</td> <td> 0.003</td> <td>-8.21e+05</td> <td>-1.66e+05</td>\n",
       "</tr>\n",
       "<tr>\n",
       "  <th>Make_Volkswagen</th>     <td>-1.168e+06</td> <td> 2.26e+05</td> <td>   -5.174</td> <td> 0.000</td> <td>-1.61e+06</td> <td>-7.26e+05</td>\n",
       "</tr>\n",
       "<tr>\n",
       "  <th>Make_Volvo</th>          <td> 6.068e+05</td> <td> 3.43e+05</td> <td>    1.770</td> <td> 0.077</td> <td>-6.55e+04</td> <td> 1.28e+06</td>\n",
       "</tr>\n",
       "<tr>\n",
       "  <th>Fuel Type_Petrol</th>    <td> 8.277e+04</td> <td>  6.8e+04</td> <td>    1.217</td> <td> 0.224</td> <td>-5.06e+04</td> <td> 2.16e+05</td>\n",
       "</tr>\n",
       "<tr>\n",
       "  <th>Transmission_Manual</th> <td>-2.686e+05</td> <td>  8.2e+04</td> <td>   -3.273</td> <td> 0.001</td> <td>-4.29e+05</td> <td>-1.08e+05</td>\n",
       "</tr>\n",
       "<tr>\n",
       "  <th>Location_Delhi</th>      <td> 1.607e+05</td> <td> 8.57e+04</td> <td>    1.875</td> <td> 0.061</td> <td>-7395.970</td> <td> 3.29e+05</td>\n",
       "</tr>\n",
       "<tr>\n",
       "  <th>Location_Hyderabad</th>  <td> 2.886e+05</td> <td> 1.27e+05</td> <td>    2.269</td> <td> 0.023</td> <td> 3.92e+04</td> <td> 5.38e+05</td>\n",
       "</tr>\n",
       "<tr>\n",
       "  <th>Location_Mumbai</th>     <td>-1.512e+04</td> <td> 8.25e+04</td> <td>   -0.183</td> <td> 0.855</td> <td>-1.77e+05</td> <td> 1.47e+05</td>\n",
       "</tr>\n",
       "<tr>\n",
       "  <th>Location_Pune</th>       <td> 8.721e+04</td> <td> 1.16e+05</td> <td>    0.754</td> <td> 0.451</td> <td> -1.4e+05</td> <td> 3.14e+05</td>\n",
       "</tr>\n",
       "<tr>\n",
       "  <th>Owner_Second</th>        <td>-4.134e+05</td> <td> 7.65e+04</td> <td>   -5.405</td> <td> 0.000</td> <td>-5.63e+05</td> <td>-2.63e+05</td>\n",
       "</tr>\n",
       "<tr>\n",
       "  <th>Owner_Another</th>       <td> 1.623e+05</td> <td> 1.64e+05</td> <td>    0.988</td> <td> 0.323</td> <td> -1.6e+05</td> <td> 4.84e+05</td>\n",
       "</tr>\n",
       "<tr>\n",
       "  <th>intercept</th>           <td>  1.61e+06</td> <td> 1.39e+05</td> <td>   11.606</td> <td> 0.000</td> <td> 1.34e+06</td> <td> 1.88e+06</td>\n",
       "</tr>\n",
       "</table>\n",
       "<table class=\"simpletable\">\n",
       "<tr>\n",
       "  <th>Omnibus:</th>       <td>2496.693</td> <th>  Durbin-Watson:     </th>  <td>   1.997</td> \n",
       "</tr>\n",
       "<tr>\n",
       "  <th>Prob(Omnibus):</th>  <td> 0.000</td>  <th>  Jarque-Bera (JB):  </th> <td>517775.612</td>\n",
       "</tr>\n",
       "<tr>\n",
       "  <th>Skew:</th>           <td> 6.146</td>  <th>  Prob(JB):          </th>  <td>    0.00</td> \n",
       "</tr>\n",
       "<tr>\n",
       "  <th>Kurtosis:</th>       <td>79.709</td>  <th>  Cond. No.          </th>  <td>1.04e+08</td> \n",
       "</tr>\n",
       "</table><br/><br/>Notes:<br/>[1] Standard Errors assume that the covariance matrix of the errors is correctly specified.<br/>[2] The condition number is large, 1.04e+08. This might indicate that there are<br/>strong multicollinearity or other numerical problems."
      ],
      "text/latex": [
       "\\begin{center}\n",
       "\\begin{tabular}{lclc}\n",
       "\\toprule\n",
       "\\textbf{Dep. Variable:}       &      Price       & \\textbf{  R-squared:         } &     0.723   \\\\\n",
       "\\textbf{Model:}               &       OLS        & \\textbf{  Adj. R-squared:    } &     0.717   \\\\\n",
       "\\textbf{Method:}              &  Least Squares   & \\textbf{  F-statistic:       } &     125.1   \\\\\n",
       "\\textbf{Date:}                & Sun, 24 Dec 2023 & \\textbf{  Prob (F-statistic):} &     0.00    \\\\\n",
       "\\textbf{Time:}                &     20:18:36     & \\textbf{  Log-Likelihood:    } &   -31866.   \\\\\n",
       "\\textbf{No. Observations:}    &        2059      & \\textbf{  AIC:               } & 6.382e+04   \\\\\n",
       "\\textbf{Df Residuals:}        &        2016      & \\textbf{  BIC:               } & 6.406e+04   \\\\\n",
       "\\textbf{Df Model:}            &          42      & \\textbf{                     } &             \\\\\n",
       "\\textbf{Covariance Type:}     &    nonrobust     & \\textbf{                     } &             \\\\\n",
       "\\bottomrule\n",
       "\\end{tabular}\n",
       "\\begin{tabular}{lcccccc}\n",
       "                              & \\textbf{coef} & \\textbf{std err} & \\textbf{t} & \\textbf{P$> |$t$|$} & \\textbf{[0.025} & \\textbf{0.975]}  \\\\\n",
       "\\midrule\n",
       "\\textbf{Model}                &       0.5559  &        0.024     &    23.080  &         0.000        &        0.509    &        0.603     \\\\\n",
       "\\textbf{Kilometer}            &      -2.9776  &        0.522     &    -5.709  &         0.000        &       -4.001    &       -1.955     \\\\\n",
       "\\textbf{Make\\_BMW}            &    6.659e+05  &     1.65e+05     &     4.033  &         0.000        &     3.42e+05    &      9.9e+05     \\\\\n",
       "\\textbf{Make\\_Chevrolet}      &   -1.623e+06  &     5.04e+05     &    -3.222  &         0.001        &    -2.61e+06    &    -6.35e+05     \\\\\n",
       "\\textbf{Make\\_Datsun}         &   -1.727e+06  &     4.79e+05     &    -3.604  &         0.000        &    -2.67e+06    &    -7.87e+05     \\\\\n",
       "\\textbf{Make\\_Ferrari}        &    3.223e+07  &      1.3e+06     &    24.879  &         0.000        &     2.97e+07    &     3.48e+07     \\\\\n",
       "\\textbf{Make\\_Fiat}           &   -1.982e+06  &     9.23e+05     &    -2.146  &         0.032        &    -3.79e+06    &    -1.71e+05     \\\\\n",
       "\\textbf{Make\\_Ford}           &   -8.666e+05  &     2.26e+05     &    -3.832  &         0.000        &    -1.31e+06    &    -4.23e+05     \\\\\n",
       "\\textbf{Make\\_Honda}          &    -1.21e+06  &     1.72e+05     &    -7.016  &         0.000        &    -1.55e+06    &    -8.72e+05     \\\\\n",
       "\\textbf{Make\\_Hyundai}        &   -1.129e+06  &     1.53e+05     &    -7.395  &         0.000        &    -1.43e+06    &     -8.3e+05     \\\\\n",
       "\\textbf{Make\\_Isuzu}          &   -4.991e+05  &      9.2e+05     &    -0.542  &         0.588        &     -2.3e+06    &     1.31e+06     \\\\\n",
       "\\textbf{Make\\_Jaguar}         &    4.771e+05  &     3.33e+05     &     1.431  &         0.153        &    -1.77e+05    &     1.13e+06     \\\\\n",
       "\\textbf{Make\\_Jeep}           &   -3.468e+05  &     3.28e+05     &    -1.058  &         0.290        &     -9.9e+05    &     2.96e+05     \\\\\n",
       "\\textbf{Make\\_Kia}            &   -7.694e+05  &     2.97e+05     &    -2.594  &         0.010        &    -1.35e+06    &    -1.88e+05     \\\\\n",
       "\\textbf{Make\\_Lamborghini}    &    2.126e+07  &      1.3e+06     &    16.414  &         0.000        &     1.87e+07    &     2.38e+07     \\\\\n",
       "\\textbf{Make\\_Land Rover}     &    3.105e+06  &     2.55e+05     &    12.182  &         0.000        &     2.61e+06    &     3.61e+06     \\\\\n",
       "\\textbf{Make\\_Lexus}          &    6.297e+05  &     5.41e+05     &     1.164  &         0.244        &    -4.31e+05    &     1.69e+06     \\\\\n",
       "\\textbf{Make\\_MG}             &   -5.141e+05  &     3.36e+05     &    -1.530  &         0.126        &    -1.17e+06    &     1.45e+05     \\\\\n",
       "\\textbf{Make\\_MINI}           &    1.198e+05  &     4.06e+05     &     0.295  &         0.768        &    -6.76e+05    &     9.16e+05     \\\\\n",
       "\\textbf{Make\\_Mahindra}       &   -8.235e+05  &     1.78e+05     &    -4.621  &         0.000        &    -1.17e+06    &    -4.74e+05     \\\\\n",
       "\\textbf{Make\\_Maruti Suzuki}  &   -1.171e+06  &     1.53e+05     &    -7.655  &         0.000        &    -1.47e+06    &    -8.71e+05     \\\\\n",
       "\\textbf{Make\\_Maserati}       &    6.977e+06  &     1.29e+06     &     5.390  &         0.000        &     4.44e+06    &     9.52e+06     \\\\\n",
       "\\textbf{Make\\_Mercedes-Benz}  &    9.194e+05  &     1.55e+05     &     5.943  &         0.000        &     6.16e+05    &     1.22e+06     \\\\\n",
       "\\textbf{Make\\_Mitsubishi}     &    -6.16e+05  &     6.56e+05     &    -0.939  &         0.348        &     -1.9e+06    &      6.7e+05     \\\\\n",
       "\\textbf{Make\\_Nissan}         &   -1.193e+06  &      3.5e+05     &    -3.413  &         0.001        &    -1.88e+06    &    -5.08e+05     \\\\\n",
       "\\textbf{Make\\_Porsche}        &    4.287e+06  &     3.58e+05     &    11.979  &         0.000        &     3.59e+06    &     4.99e+06     \\\\\n",
       "\\textbf{Make\\_Renault}        &   -1.173e+06  &     2.42e+05     &    -4.847  &         0.000        &    -1.65e+06    &    -6.99e+05     \\\\\n",
       "\\textbf{Make\\_Rolls-Royce}    &    1.686e+07  &     7.61e+05     &    22.162  &         0.000        &     1.54e+07    &     1.84e+07     \\\\\n",
       "\\textbf{Make\\_Skoda}          &   -8.202e+05  &     2.37e+05     &    -3.454  &         0.001        &    -1.29e+06    &    -3.55e+05     \\\\\n",
       "\\textbf{Make\\_Ssangyong}      &   -7.543e+05  &     7.54e+05     &    -1.000  &         0.317        &    -2.23e+06    &     7.24e+05     \\\\\n",
       "\\textbf{Make\\_Tata}           &   -1.124e+06  &     2.14e+05     &    -5.243  &         0.000        &    -1.54e+06    &    -7.04e+05     \\\\\n",
       "\\textbf{Make\\_Toyota}         &   -4.936e+05  &     1.67e+05     &    -2.958  &         0.003        &    -8.21e+05    &    -1.66e+05     \\\\\n",
       "\\textbf{Make\\_Volkswagen}     &   -1.168e+06  &     2.26e+05     &    -5.174  &         0.000        &    -1.61e+06    &    -7.26e+05     \\\\\n",
       "\\textbf{Make\\_Volvo}          &    6.068e+05  &     3.43e+05     &     1.770  &         0.077        &    -6.55e+04    &     1.28e+06     \\\\\n",
       "\\textbf{Fuel Type\\_Petrol}    &    8.277e+04  &      6.8e+04     &     1.217  &         0.224        &    -5.06e+04    &     2.16e+05     \\\\\n",
       "\\textbf{Transmission\\_Manual} &   -2.686e+05  &      8.2e+04     &    -3.273  &         0.001        &    -4.29e+05    &    -1.08e+05     \\\\\n",
       "\\textbf{Location\\_Delhi}      &    1.607e+05  &     8.57e+04     &     1.875  &         0.061        &    -7395.970    &     3.29e+05     \\\\\n",
       "\\textbf{Location\\_Hyderabad}  &    2.886e+05  &     1.27e+05     &     2.269  &         0.023        &     3.92e+04    &     5.38e+05     \\\\\n",
       "\\textbf{Location\\_Mumbai}     &   -1.512e+04  &     8.25e+04     &    -0.183  &         0.855        &    -1.77e+05    &     1.47e+05     \\\\\n",
       "\\textbf{Location\\_Pune}       &    8.721e+04  &     1.16e+05     &     0.754  &         0.451        &     -1.4e+05    &     3.14e+05     \\\\\n",
       "\\textbf{Owner\\_Second}        &   -4.134e+05  &     7.65e+04     &    -5.405  &         0.000        &    -5.63e+05    &    -2.63e+05     \\\\\n",
       "\\textbf{Owner\\_Another}       &    1.623e+05  &     1.64e+05     &     0.988  &         0.323        &     -1.6e+05    &     4.84e+05     \\\\\n",
       "\\textbf{intercept}            &     1.61e+06  &     1.39e+05     &    11.606  &         0.000        &     1.34e+06    &     1.88e+06     \\\\\n",
       "\\bottomrule\n",
       "\\end{tabular}\n",
       "\\begin{tabular}{lclc}\n",
       "\\textbf{Omnibus:}       & 2496.693 & \\textbf{  Durbin-Watson:     } &     1.997   \\\\\n",
       "\\textbf{Prob(Omnibus):} &   0.000  & \\textbf{  Jarque-Bera (JB):  } & 517775.612  \\\\\n",
       "\\textbf{Skew:}          &   6.146  & \\textbf{  Prob(JB):          } &      0.00   \\\\\n",
       "\\textbf{Kurtosis:}      &  79.709  & \\textbf{  Cond. No.          } &  1.04e+08   \\\\\n",
       "\\bottomrule\n",
       "\\end{tabular}\n",
       "%\\caption{OLS Regression Results}\n",
       "\\end{center}\n",
       "\n",
       "Notes: \\newline\n",
       " [1] Standard Errors assume that the covariance matrix of the errors is correctly specified. \\newline\n",
       " [2] The condition number is large, 1.04e+08. This might indicate that there are \\newline\n",
       " strong multicollinearity or other numerical problems."
      ],
      "text/plain": [
       "<class 'statsmodels.iolib.summary.Summary'>\n",
       "\"\"\"\n",
       "                            OLS Regression Results                            \n",
       "==============================================================================\n",
       "Dep. Variable:                  Price   R-squared:                       0.723\n",
       "Model:                            OLS   Adj. R-squared:                  0.717\n",
       "Method:                 Least Squares   F-statistic:                     125.1\n",
       "Date:                Sun, 24 Dec 2023   Prob (F-statistic):               0.00\n",
       "Time:                        20:18:36   Log-Likelihood:                -31866.\n",
       "No. Observations:                2059   AIC:                         6.382e+04\n",
       "Df Residuals:                    2016   BIC:                         6.406e+04\n",
       "Df Model:                          42                                         \n",
       "Covariance Type:            nonrobust                                         \n",
       "=======================================================================================\n",
       "                          coef    std err          t      P>|t|      [0.025      0.975]\n",
       "---------------------------------------------------------------------------------------\n",
       "Model                   0.5559      0.024     23.080      0.000       0.509       0.603\n",
       "Kilometer              -2.9776      0.522     -5.709      0.000      -4.001      -1.955\n",
       "Make_BMW             6.659e+05   1.65e+05      4.033      0.000    3.42e+05     9.9e+05\n",
       "Make_Chevrolet      -1.623e+06   5.04e+05     -3.222      0.001   -2.61e+06   -6.35e+05\n",
       "Make_Datsun         -1.727e+06   4.79e+05     -3.604      0.000   -2.67e+06   -7.87e+05\n",
       "Make_Ferrari         3.223e+07    1.3e+06     24.879      0.000    2.97e+07    3.48e+07\n",
       "Make_Fiat           -1.982e+06   9.23e+05     -2.146      0.032   -3.79e+06   -1.71e+05\n",
       "Make_Ford           -8.666e+05   2.26e+05     -3.832      0.000   -1.31e+06   -4.23e+05\n",
       "Make_Honda           -1.21e+06   1.72e+05     -7.016      0.000   -1.55e+06   -8.72e+05\n",
       "Make_Hyundai        -1.129e+06   1.53e+05     -7.395      0.000   -1.43e+06    -8.3e+05\n",
       "Make_Isuzu          -4.991e+05    9.2e+05     -0.542      0.588    -2.3e+06    1.31e+06\n",
       "Make_Jaguar          4.771e+05   3.33e+05      1.431      0.153   -1.77e+05    1.13e+06\n",
       "Make_Jeep           -3.468e+05   3.28e+05     -1.058      0.290    -9.9e+05    2.96e+05\n",
       "Make_Kia            -7.694e+05   2.97e+05     -2.594      0.010   -1.35e+06   -1.88e+05\n",
       "Make_Lamborghini     2.126e+07    1.3e+06     16.414      0.000    1.87e+07    2.38e+07\n",
       "Make_Land Rover      3.105e+06   2.55e+05     12.182      0.000    2.61e+06    3.61e+06\n",
       "Make_Lexus           6.297e+05   5.41e+05      1.164      0.244   -4.31e+05    1.69e+06\n",
       "Make_MG             -5.141e+05   3.36e+05     -1.530      0.126   -1.17e+06    1.45e+05\n",
       "Make_MINI            1.198e+05   4.06e+05      0.295      0.768   -6.76e+05    9.16e+05\n",
       "Make_Mahindra       -8.235e+05   1.78e+05     -4.621      0.000   -1.17e+06   -4.74e+05\n",
       "Make_Maruti Suzuki  -1.171e+06   1.53e+05     -7.655      0.000   -1.47e+06   -8.71e+05\n",
       "Make_Maserati        6.977e+06   1.29e+06      5.390      0.000    4.44e+06    9.52e+06\n",
       "Make_Mercedes-Benz   9.194e+05   1.55e+05      5.943      0.000    6.16e+05    1.22e+06\n",
       "Make_Mitsubishi      -6.16e+05   6.56e+05     -0.939      0.348    -1.9e+06     6.7e+05\n",
       "Make_Nissan         -1.193e+06    3.5e+05     -3.413      0.001   -1.88e+06   -5.08e+05\n",
       "Make_Porsche         4.287e+06   3.58e+05     11.979      0.000    3.59e+06    4.99e+06\n",
       "Make_Renault        -1.173e+06   2.42e+05     -4.847      0.000   -1.65e+06   -6.99e+05\n",
       "Make_Rolls-Royce     1.686e+07   7.61e+05     22.162      0.000    1.54e+07    1.84e+07\n",
       "Make_Skoda          -8.202e+05   2.37e+05     -3.454      0.001   -1.29e+06   -3.55e+05\n",
       "Make_Ssangyong      -7.543e+05   7.54e+05     -1.000      0.317   -2.23e+06    7.24e+05\n",
       "Make_Tata           -1.124e+06   2.14e+05     -5.243      0.000   -1.54e+06   -7.04e+05\n",
       "Make_Toyota         -4.936e+05   1.67e+05     -2.958      0.003   -8.21e+05   -1.66e+05\n",
       "Make_Volkswagen     -1.168e+06   2.26e+05     -5.174      0.000   -1.61e+06   -7.26e+05\n",
       "Make_Volvo           6.068e+05   3.43e+05      1.770      0.077   -6.55e+04    1.28e+06\n",
       "Fuel Type_Petrol     8.277e+04    6.8e+04      1.217      0.224   -5.06e+04    2.16e+05\n",
       "Transmission_Manual -2.686e+05    8.2e+04     -3.273      0.001   -4.29e+05   -1.08e+05\n",
       "Location_Delhi       1.607e+05   8.57e+04      1.875      0.061   -7395.970    3.29e+05\n",
       "Location_Hyderabad   2.886e+05   1.27e+05      2.269      0.023    3.92e+04    5.38e+05\n",
       "Location_Mumbai     -1.512e+04   8.25e+04     -0.183      0.855   -1.77e+05    1.47e+05\n",
       "Location_Pune        8.721e+04   1.16e+05      0.754      0.451    -1.4e+05    3.14e+05\n",
       "Owner_Second        -4.134e+05   7.65e+04     -5.405      0.000   -5.63e+05   -2.63e+05\n",
       "Owner_Another        1.623e+05   1.64e+05      0.988      0.323    -1.6e+05    4.84e+05\n",
       "intercept             1.61e+06   1.39e+05     11.606      0.000    1.34e+06    1.88e+06\n",
       "==============================================================================\n",
       "Omnibus:                     2496.693   Durbin-Watson:                   1.997\n",
       "Prob(Omnibus):                  0.000   Jarque-Bera (JB):           517775.612\n",
       "Skew:                           6.146   Prob(JB):                         0.00\n",
       "Kurtosis:                      79.709   Cond. No.                     1.04e+08\n",
       "==============================================================================\n",
       "\n",
       "Notes:\n",
       "[1] Standard Errors assume that the covariance matrix of the errors is correctly specified.\n",
       "[2] The condition number is large, 1.04e+08. This might indicate that there are\n",
       "strong multicollinearity or other numerical problems.\n",
       "\"\"\""
      ]
     },
     "execution_count": 7001,
     "metadata": {},
     "output_type": "execute_result"
    }
   ],
   "source": [
    "X1=x.copy()\n",
    "X1['intercept']=np.ones([X1.shape[0],1])\n",
    "results = sm.OLS(y, X1).fit()\n",
    "results.summary()"
   ]
  },
  {
   "cell_type": "code",
   "execution_count": 7002,
   "id": "f5c1a601",
   "metadata": {
    "scrolled": true
   },
   "outputs": [
    {
     "data": {
      "text/plain": [
       "[8.918478395699886e-105,\n",
       " 1.3067353784244027e-08,\n",
       " 5.700110056275969e-05,\n",
       " 0.001292406920347354,\n",
       " 0.00032143331660593855,\n",
       " 2.225596159627814e-119,\n",
       " 0.03197690376411403,\n",
       " 0.0001307568808635273,\n",
       " 3.1076387257678776e-12,\n",
       " 2.0582247854047602e-13,\n",
       " 0.5875519062862289,\n",
       " 0.1525148001113417,\n",
       " 0.29033684205210936,\n",
       " 0.009546731062056694,\n",
       " 6.344830976901478e-57,\n",
       " 5.407802344535444e-33,\n",
       " 0.24439352397222214,\n",
       " 0.12623920845814565,\n",
       " 0.7679112520498267,\n",
       " 4.066726998229227e-06,\n",
       " 2.980289435076168e-14,\n",
       " 7.863828825231329e-08,\n",
       " 3.2886822086289994e-09,\n",
       " 0.3477756777981481,\n",
       " 0.0006554430422460076,\n",
       " 5.398395585921839e-32,\n",
       " 1.352190162928328e-06,\n",
       " 1.4219323908937385e-97,\n",
       " 0.0005627158117978696,\n",
       " 0.3172420802857067,\n",
       " 1.7465111457788784e-07,\n",
       " 0.0031364756003338773,\n",
       " 2.516434198260483e-07,\n",
       " 0.07687181511094303,\n",
       " 0.22371231654708706,\n",
       " 0.0010808278937790104,\n",
       " 0.06095831460236364,\n",
       " 0.023346000260399447,\n",
       " 0.8545438033389819,\n",
       " 0.4510917206902285,\n",
       " 7.246000950540944e-08,\n",
       " 0.3230474180640145]"
      ]
     },
     "metadata": {},
     "output_type": "display_data"
    }
   ],
   "source": [
    "display([results.pvalues[i] for i in x])\n",
    "for i in x:\n",
    "    if results.pvalues[i]>0.05:\n",
    "        x=x.drop(i,axis=1)"
   ]
  },
  {
   "cell_type": "code",
   "execution_count": 7003,
   "id": "692795a0",
   "metadata": {
    "scrolled": true
   },
   "outputs": [
    {
     "data": {
      "text/plain": [
       "0.03197690376411403"
      ]
     },
     "metadata": {},
     "output_type": "display_data"
    },
    {
     "data": {
      "text/plain": [
       "28"
      ]
     },
     "metadata": {},
     "output_type": "display_data"
    },
    {
     "data": {
      "text/plain": [
       "[8.918478395699886e-105,\n",
       " 1.3067353784244027e-08,\n",
       " 5.700110056275969e-05,\n",
       " 0.001292406920347354,\n",
       " 0.00032143331660593855,\n",
       " 2.225596159627814e-119,\n",
       " 0.03197690376411403,\n",
       " 0.0001307568808635273,\n",
       " 3.1076387257678776e-12,\n",
       " 2.0582247854047602e-13,\n",
       " 0.009546731062056694,\n",
       " 6.344830976901478e-57,\n",
       " 5.407802344535444e-33,\n",
       " 4.066726998229227e-06,\n",
       " 2.980289435076168e-14,\n",
       " 7.863828825231329e-08,\n",
       " 3.2886822086289994e-09,\n",
       " 0.0006554430422460076,\n",
       " 5.398395585921839e-32,\n",
       " 1.352190162928328e-06,\n",
       " 1.4219323908937385e-97,\n",
       " 0.0005627158117978696,\n",
       " 1.7465111457788784e-07,\n",
       " 0.0031364756003338773,\n",
       " 2.516434198260483e-07,\n",
       " 0.0010808278937790104,\n",
       " 0.023346000260399447,\n",
       " 7.246000950540944e-08]"
      ]
     },
     "metadata": {},
     "output_type": "display_data"
    }
   ],
   "source": [
    "pval=[results.pvalues[i] for i in x]\n",
    "display(max(pval))\n",
    "display(len(pval)) #исключили около 100 элементов\n",
    "\n",
    "display(pval)"
   ]
  },
  {
   "cell_type": "markdown",
   "id": "62260d7f",
   "metadata": {},
   "source": [
    "# Строим модели"
   ]
  },
  {
   "cell_type": "code",
   "execution_count": 7004,
   "id": "27d01f1d",
   "metadata": {},
   "outputs": [
    {
     "data": {
      "text/html": [
       "<style>#sk-container-id-160 {color: black;}#sk-container-id-160 pre{padding: 0;}#sk-container-id-160 div.sk-toggleable {background-color: white;}#sk-container-id-160 label.sk-toggleable__label {cursor: pointer;display: block;width: 100%;margin-bottom: 0;padding: 0.3em;box-sizing: border-box;text-align: center;}#sk-container-id-160 label.sk-toggleable__label-arrow:before {content: \"▸\";float: left;margin-right: 0.25em;color: #696969;}#sk-container-id-160 label.sk-toggleable__label-arrow:hover:before {color: black;}#sk-container-id-160 div.sk-estimator:hover label.sk-toggleable__label-arrow:before {color: black;}#sk-container-id-160 div.sk-toggleable__content {max-height: 0;max-width: 0;overflow: hidden;text-align: left;background-color: #f0f8ff;}#sk-container-id-160 div.sk-toggleable__content pre {margin: 0.2em;color: black;border-radius: 0.25em;background-color: #f0f8ff;}#sk-container-id-160 input.sk-toggleable__control:checked~div.sk-toggleable__content {max-height: 200px;max-width: 100%;overflow: auto;}#sk-container-id-160 input.sk-toggleable__control:checked~label.sk-toggleable__label-arrow:before {content: \"▾\";}#sk-container-id-160 div.sk-estimator input.sk-toggleable__control:checked~label.sk-toggleable__label {background-color: #d4ebff;}#sk-container-id-160 div.sk-label input.sk-toggleable__control:checked~label.sk-toggleable__label {background-color: #d4ebff;}#sk-container-id-160 input.sk-hidden--visually {border: 0;clip: rect(1px 1px 1px 1px);clip: rect(1px, 1px, 1px, 1px);height: 1px;margin: -1px;overflow: hidden;padding: 0;position: absolute;width: 1px;}#sk-container-id-160 div.sk-estimator {font-family: monospace;background-color: #f0f8ff;border: 1px dotted black;border-radius: 0.25em;box-sizing: border-box;margin-bottom: 0.5em;}#sk-container-id-160 div.sk-estimator:hover {background-color: #d4ebff;}#sk-container-id-160 div.sk-parallel-item::after {content: \"\";width: 100%;border-bottom: 1px solid gray;flex-grow: 1;}#sk-container-id-160 div.sk-label:hover label.sk-toggleable__label {background-color: #d4ebff;}#sk-container-id-160 div.sk-serial::before {content: \"\";position: absolute;border-left: 1px solid gray;box-sizing: border-box;top: 0;bottom: 0;left: 50%;z-index: 0;}#sk-container-id-160 div.sk-serial {display: flex;flex-direction: column;align-items: center;background-color: white;padding-right: 0.2em;padding-left: 0.2em;position: relative;}#sk-container-id-160 div.sk-item {position: relative;z-index: 1;}#sk-container-id-160 div.sk-parallel {display: flex;align-items: stretch;justify-content: center;background-color: white;position: relative;}#sk-container-id-160 div.sk-item::before, #sk-container-id-160 div.sk-parallel-item::before {content: \"\";position: absolute;border-left: 1px solid gray;box-sizing: border-box;top: 0;bottom: 0;left: 50%;z-index: -1;}#sk-container-id-160 div.sk-parallel-item {display: flex;flex-direction: column;z-index: 1;position: relative;background-color: white;}#sk-container-id-160 div.sk-parallel-item:first-child::after {align-self: flex-end;width: 50%;}#sk-container-id-160 div.sk-parallel-item:last-child::after {align-self: flex-start;width: 50%;}#sk-container-id-160 div.sk-parallel-item:only-child::after {width: 0;}#sk-container-id-160 div.sk-dashed-wrapped {border: 1px dashed gray;margin: 0 0.4em 0.5em 0.4em;box-sizing: border-box;padding-bottom: 0.4em;background-color: white;}#sk-container-id-160 div.sk-label label {font-family: monospace;font-weight: bold;display: inline-block;line-height: 1.2em;}#sk-container-id-160 div.sk-label-container {text-align: center;}#sk-container-id-160 div.sk-container {/* jupyter's `normalize.less` sets `[hidden] { display: none; }` but bootstrap.min.css set `[hidden] { display: none !important; }` so we also need the `!important` here to be able to override the default hidden behavior on the sphinx rendered scikit-learn.org. See: https://github.com/scikit-learn/scikit-learn/issues/21755 */display: inline-block !important;position: relative;}#sk-container-id-160 div.sk-text-repr-fallback {display: none;}</style><div id=\"sk-container-id-160\" class=\"sk-top-container\"><div class=\"sk-text-repr-fallback\"><pre>LinearRegression()</pre><b>In a Jupyter environment, please rerun this cell to show the HTML representation or trust the notebook. <br />On GitHub, the HTML representation is unable to render, please try loading this page with nbviewer.org.</b></div><div class=\"sk-container\" hidden><div class=\"sk-item\"><div class=\"sk-estimator sk-toggleable\"><input class=\"sk-toggleable__control sk-hidden--visually\" id=\"sk-estimator-id-174\" type=\"checkbox\" checked><label for=\"sk-estimator-id-174\" class=\"sk-toggleable__label sk-toggleable__label-arrow\">LinearRegression</label><div class=\"sk-toggleable__content\"><pre>LinearRegression()</pre></div></div></div></div></div>"
      ],
      "text/plain": [
       "LinearRegression()"
      ]
     },
     "execution_count": 7004,
     "metadata": {},
     "output_type": "execute_result"
    }
   ],
   "source": [
    "sys=LinearRegression()\n",
    "# x=df_inta[['Fuel Tank Capacity','Kilometer']]\n",
    "sys.fit(x,y)"
   ]
  },
  {
   "cell_type": "code",
   "execution_count": 7005,
   "id": "89920664",
   "metadata": {},
   "outputs": [
    {
     "data": {
      "text/html": [
       "<style>#sk-container-id-161 {color: black;}#sk-container-id-161 pre{padding: 0;}#sk-container-id-161 div.sk-toggleable {background-color: white;}#sk-container-id-161 label.sk-toggleable__label {cursor: pointer;display: block;width: 100%;margin-bottom: 0;padding: 0.3em;box-sizing: border-box;text-align: center;}#sk-container-id-161 label.sk-toggleable__label-arrow:before {content: \"▸\";float: left;margin-right: 0.25em;color: #696969;}#sk-container-id-161 label.sk-toggleable__label-arrow:hover:before {color: black;}#sk-container-id-161 div.sk-estimator:hover label.sk-toggleable__label-arrow:before {color: black;}#sk-container-id-161 div.sk-toggleable__content {max-height: 0;max-width: 0;overflow: hidden;text-align: left;background-color: #f0f8ff;}#sk-container-id-161 div.sk-toggleable__content pre {margin: 0.2em;color: black;border-radius: 0.25em;background-color: #f0f8ff;}#sk-container-id-161 input.sk-toggleable__control:checked~div.sk-toggleable__content {max-height: 200px;max-width: 100%;overflow: auto;}#sk-container-id-161 input.sk-toggleable__control:checked~label.sk-toggleable__label-arrow:before {content: \"▾\";}#sk-container-id-161 div.sk-estimator input.sk-toggleable__control:checked~label.sk-toggleable__label {background-color: #d4ebff;}#sk-container-id-161 div.sk-label input.sk-toggleable__control:checked~label.sk-toggleable__label {background-color: #d4ebff;}#sk-container-id-161 input.sk-hidden--visually {border: 0;clip: rect(1px 1px 1px 1px);clip: rect(1px, 1px, 1px, 1px);height: 1px;margin: -1px;overflow: hidden;padding: 0;position: absolute;width: 1px;}#sk-container-id-161 div.sk-estimator {font-family: monospace;background-color: #f0f8ff;border: 1px dotted black;border-radius: 0.25em;box-sizing: border-box;margin-bottom: 0.5em;}#sk-container-id-161 div.sk-estimator:hover {background-color: #d4ebff;}#sk-container-id-161 div.sk-parallel-item::after {content: \"\";width: 100%;border-bottom: 1px solid gray;flex-grow: 1;}#sk-container-id-161 div.sk-label:hover label.sk-toggleable__label {background-color: #d4ebff;}#sk-container-id-161 div.sk-serial::before {content: \"\";position: absolute;border-left: 1px solid gray;box-sizing: border-box;top: 0;bottom: 0;left: 50%;z-index: 0;}#sk-container-id-161 div.sk-serial {display: flex;flex-direction: column;align-items: center;background-color: white;padding-right: 0.2em;padding-left: 0.2em;position: relative;}#sk-container-id-161 div.sk-item {position: relative;z-index: 1;}#sk-container-id-161 div.sk-parallel {display: flex;align-items: stretch;justify-content: center;background-color: white;position: relative;}#sk-container-id-161 div.sk-item::before, #sk-container-id-161 div.sk-parallel-item::before {content: \"\";position: absolute;border-left: 1px solid gray;box-sizing: border-box;top: 0;bottom: 0;left: 50%;z-index: -1;}#sk-container-id-161 div.sk-parallel-item {display: flex;flex-direction: column;z-index: 1;position: relative;background-color: white;}#sk-container-id-161 div.sk-parallel-item:first-child::after {align-self: flex-end;width: 50%;}#sk-container-id-161 div.sk-parallel-item:last-child::after {align-self: flex-start;width: 50%;}#sk-container-id-161 div.sk-parallel-item:only-child::after {width: 0;}#sk-container-id-161 div.sk-dashed-wrapped {border: 1px dashed gray;margin: 0 0.4em 0.5em 0.4em;box-sizing: border-box;padding-bottom: 0.4em;background-color: white;}#sk-container-id-161 div.sk-label label {font-family: monospace;font-weight: bold;display: inline-block;line-height: 1.2em;}#sk-container-id-161 div.sk-label-container {text-align: center;}#sk-container-id-161 div.sk-container {/* jupyter's `normalize.less` sets `[hidden] { display: none; }` but bootstrap.min.css set `[hidden] { display: none !important; }` so we also need the `!important` here to be able to override the default hidden behavior on the sphinx rendered scikit-learn.org. See: https://github.com/scikit-learn/scikit-learn/issues/21755 */display: inline-block !important;position: relative;}#sk-container-id-161 div.sk-text-repr-fallback {display: none;}</style><div id=\"sk-container-id-161\" class=\"sk-top-container\"><div class=\"sk-text-repr-fallback\"><pre>DecisionTreeRegressor(random_state=1)</pre><b>In a Jupyter environment, please rerun this cell to show the HTML representation or trust the notebook. <br />On GitHub, the HTML representation is unable to render, please try loading this page with nbviewer.org.</b></div><div class=\"sk-container\" hidden><div class=\"sk-item\"><div class=\"sk-estimator sk-toggleable\"><input class=\"sk-toggleable__control sk-hidden--visually\" id=\"sk-estimator-id-175\" type=\"checkbox\" checked><label for=\"sk-estimator-id-175\" class=\"sk-toggleable__label sk-toggleable__label-arrow\">DecisionTreeRegressor</label><div class=\"sk-toggleable__content\"><pre>DecisionTreeRegressor(random_state=1)</pre></div></div></div></div></div>"
      ],
      "text/plain": [
       "DecisionTreeRegressor(random_state=1)"
      ]
     },
     "execution_count": 7005,
     "metadata": {},
     "output_type": "execute_result"
    }
   ],
   "source": [
    "dt = DecisionTreeRegressor(random_state=1)\n",
    "dt.fit(x, y)"
   ]
  },
  {
   "cell_type": "markdown",
   "id": "d4b0b184",
   "metadata": {},
   "source": [
    "# Оцениваем их качество"
   ]
  },
  {
   "cell_type": "markdown",
   "id": "388f094d",
   "metadata": {},
   "source": [
    "### Коэффициэнт детерминации"
   ]
  },
  {
   "cell_type": "code",
   "execution_count": 7006,
   "id": "a511fe7b",
   "metadata": {},
   "outputs": [
    {
     "data": {
      "text/plain": [
       "0.9998513789010555"
      ]
     },
     "execution_count": 7006,
     "metadata": {},
     "output_type": "execute_result"
    }
   ],
   "source": [
    "dt.score(x,y)"
   ]
  },
  {
   "cell_type": "code",
   "execution_count": 7007,
   "id": "f20e1462",
   "metadata": {},
   "outputs": [
    {
     "data": {
      "text/plain": [
       "0.719885031047276"
      ]
     },
     "execution_count": 7007,
     "metadata": {},
     "output_type": "execute_result"
    }
   ],
   "source": [
    "sys.score(x,y) "
   ]
  },
  {
   "cell_type": "markdown",
   "id": "0eaa88d7",
   "metadata": {},
   "source": [
    "### Анализ остатков"
   ]
  },
  {
   "cell_type": "code",
   "execution_count": 7008,
   "id": "23bc0bd1",
   "metadata": {},
   "outputs": [],
   "source": [
    "pred=pd.Series(sys.predict(x))\n",
    "dtpred=pd.Series(dt.predict(x))"
   ]
  },
  {
   "cell_type": "code",
   "execution_count": 7009,
   "id": "7af3e9a6",
   "metadata": {},
   "outputs": [
    {
     "data": {
      "text/plain": [
       "[<matplotlib.lines.Line2D at 0x747f0dceea10>]"
      ]
     },
     "execution_count": 7009,
     "metadata": {},
     "output_type": "execute_result"
    },
    {
     "data": {
      "image/png": "[encoded data removed]",
      "text/plain": [
       "<Figure size 640x480 with 1 Axes>"
      ]
     },
     "metadata": {},
     "output_type": "display_data"
    }
   ],
   "source": [
    "plt.figure()\n",
    "plt.plot(range(len(y)),y.sort_values())\n",
    "plt.plot(range(len(y)),pred.sort_values())\n",
    "plt.plot(range(len(y)),dtpred.sort_values())"
   ]
  },
  {
   "cell_type": "code",
   "execution_count": 7010,
   "id": "9ba1db0e",
   "metadata": {},
   "outputs": [
    {
     "data": {
      "image/png": "[encoded data removed]",
      "text/plain": [
       "<Figure size 1100x300 with 2 Axes>"
      ]
     },
     "metadata": {},
     "output_type": "display_data"
    }
   ],
   "source": [
    "ideal=[y.min(),y.max()]\n",
    "fig, ax = plt.subplots(1,2,figsize=(11,3))\n",
    "ax[0].plot(y-pred,'*')\n",
    "ax[0].plot(y-dtpred,'*')\n",
    "ax[0].set_yscale('linear')\n",
    "\n",
    "ax[1].plot(y,pred,'*')\n",
    "ax[1].plot(y,dtpred,'*')\n",
    "ax[1].plot(ideal,ideal,'--')\n",
    "ax[1].set_yscale('linear')"
   ]
  }
 ],
 "metadata": {
  "kernelspec": {
   "display_name": "Python 3 (ipykernel)",
   "language": "python",
   "name": "python3"
  },
  "language_info": {
   "codemirror_mode": {
    "name": "ipython",
    "version": 3
   },
   "file_extension": ".py",
   "mimetype": "text/x-python",
   "name": "python",
   "nbconvert_exporter": "python",
   "pygments_lexer": "ipython3",
   "version": "3.11.4"
  }
 },
 "nbformat": 4,
 "nbformat_minor": 5
}

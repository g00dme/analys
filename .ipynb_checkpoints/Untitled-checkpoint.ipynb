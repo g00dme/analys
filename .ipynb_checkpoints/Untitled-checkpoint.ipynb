{
 "cells": [
  {
   "cell_type": "code",
   "execution_count": 80,
   "id": "1c512b9f",
   "metadata": {},
   "outputs": [],
   "source": [
    "import re"
   ]
  },
  {
   "cell_type": "code",
   "execution_count": 176,
   "id": "031d36f9",
   "metadata": {},
   "outputs": [
    {
     "name": "stdout",
     "output_type": "stream",
     "text": [
      "(4, 7)\n",
      "(10, 11)\n",
      "(12, 15)\n"
     ]
    }
   ],
   "source": [
    "exp=re.compile('[a-z]+')\n",
    "sti='11  aaa11 a1aaa'\n",
    "m=exp.finditer(sti)\n",
    "for x in m:\n",
    "    print(x.span())"
   ]
  },
  {
   "cell_type": "code",
   "execution_count": 248,
   "id": "c05081b9",
   "metadata": {},
   "outputs": [],
   "source": [
    "from tkinter import *\n",
    "from tkinter import ttk\n",
    "root = Tk()\n",
    "frm = ttk.Frame(root, padding=10)\n",
    "frm.grid()\n",
    "ttk.Label(frm, text=\"Hello World!\").grid(column=0, row=0)\n",
    "ttk.Button(frm, text=\"Quit\", command=root.destroy).grid(column=1, row=0)\n",
    "root.mainloop()"
   ]
  },
  {
   "cell_type": "code",
   "execution_count": 285,
   "id": "89b058d0",
   "metadata": {},
   "outputs": [
    {
     "name": "stdout",
     "output_type": "stream",
     "text": [
      "abc\n",
      "dem\n",
      "elab\n"
     ]
    }
   ],
   "source": [
    "m= re.finditer(r\"(\\b\\w+\\b)\", \"abc dem elab\")\n",
    "for x in m:\n",
    "    print(x.group())"
   ]
  },
  {
   "cell_type": "code",
   "execution_count": 407,
   "id": "4a2bf618",
   "metadata": {},
   "outputs": [
    {
     "data": {
      "text/plain": [
       "['hell', '- am i he', 're']"
      ]
     },
     "execution_count": 407,
     "metadata": {},
     "output_type": "execute_result"
    }
   ],
   "source": [
    "p=re.compile(r\"o|[.]\")\n",
    "p.split('hello- am i he.re')"
   ]
  }
 ],
 "metadata": {
  "kernelspec": {
   "display_name": "Python 3 (ipykernel)",
   "language": "python",
   "name": "python3"
  },
  "language_info": {
   "codemirror_mode": {
    "name": "ipython",
    "version": 3
   },
   "file_extension": ".py",
   "mimetype": "text/x-python",
   "name": "python",
   "nbconvert_exporter": "python",
   "pygments_lexer": "ipython3",
   "version": "3.11.4"
  },
  "name": "Untitled.ipynb"
 },
 "nbformat": 4,
 "nbformat_minor": 5
}

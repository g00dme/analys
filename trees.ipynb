{
 "cells": [
  {
   "cell_type": "code",
   "execution_count": 108,
   "id": "460403c1-f553-4435-9ad3-63a91982bbe6",
   "metadata": {},
   "outputs": [],
   "source": [
    "from sklearn.tree import DecisionTreeClassifier\n",
    "import sklearn\n",
    "import numpy as np\n",
    "import scipy"
   ]
  },
  {
   "cell_type": "code",
   "execution_count": 5,
   "id": "e0dd6dab-fe9c-40b0-a457-6af1f629ae3b",
   "metadata": {},
   "outputs": [
    {
     "data": {
      "text/plain": [
       "11.666666666666666"
      ]
     },
     "execution_count": 5,
     "metadata": {},
     "output_type": "execute_result"
    }
   ],
   "source": [
    "10*np.log2(10**7)/np.log2(10**6)"
   ]
  },
  {
   "cell_type": "code",
   "execution_count": 7,
   "id": "da5bec0a-50b3-48ea-a799-a8fd082346f2",
   "metadata": {},
   "outputs": [
    {
     "data": {
      "text/plain": [
       "3.321928094887362"
      ]
     },
     "execution_count": 7,
     "metadata": {},
     "output_type": "execute_result"
    }
   ],
   "source": [
    "np.log2(10)"
   ]
  },
  {
   "cell_type": "code",
   "execution_count": 292,
   "id": "f9e83756-1156-4658-b4a4-1b681fc317d0",
   "metadata": {},
   "outputs": [
    {
     "name": "stdout",
     "output_type": "stream",
     "text": [
      "Fitting 7 folds for each of 1764 candidates, totalling 12348 fits\n"
     ]
    }
   ],
   "source": [
    "from sklearn.datasets import make_moons\n",
    "from sklearn.model_selection import train_test_split,GridSearchCV\n",
    "\n",
    "X,Y=make_moons(10000,noise=0.4)\n",
    "x_train,x_test,y_train,y_test=train_test_split(X,Y)\n",
    "\n",
    "params = {\n",
    "    'max_leaf_nodes': list(range(2, 100)),\n",
    "    'max_depth': list(range(1, 7)),\n",
    "    'min_samples_split': [2, 3, 4]\n",
    "}\n",
    "search=GridSearchCV(DecisionTreeClassifier(),params,cv=7,verbose=1,scoring='accuracy').fit(x_train,y_train)\n",
    "best_model=search.best_estimator_"
   ]
  },
  {
   "cell_type": "code",
   "execution_count": 296,
   "id": "414915cb-a6b6-4e39-b1eb-4c222b4f9aa2",
   "metadata": {},
   "outputs": [
    {
     "data": {
      "text/plain": [
       "0.8552"
      ]
     },
     "execution_count": 296,
     "metadata": {},
     "output_type": "execute_result"
    }
   ],
   "source": [
    "best_model=best_model.fit(x_train,y_train)\n",
    "sklearn.metrics.accuracy_score(best_model.predict(x_test),y_test)"
   ]
  },
  {
   "cell_type": "code",
   "execution_count": 294,
   "id": "af1e6593-37a8-4fe2-9d6e-b85befe1cc59",
   "metadata": {},
   "outputs": [],
   "source": [
    "from sklearn.model_selection import ShuffleSplit"
   ]
  },
  {
   "cell_type": "code",
   "execution_count": 302,
   "id": "1870cddd-2508-4543-bec5-c4c9d7a5e957",
   "metadata": {
    "scrolled": true
   },
   "outputs": [],
   "source": []
  },
  {
   "cell_type": "code",
   "execution_count": 264,
   "id": "9862ef6e-1a78-470f-8d20-c61e6ec3df1c",
   "metadata": {
    "scrolled": true
   },
   "outputs": [
    {
     "data": {
      "text/plain": [
       "(array([[ 0.44428741,  0.19410772],\n",
       "        [ 1.92148871, -0.32951365],\n",
       "        [ 2.02790687, -0.19114437],\n",
       "        ...,\n",
       "        [ 1.63756491,  0.58624698],\n",
       "        [ 1.38066908, -0.59597374],\n",
       "        [ 2.27926485,  0.7876719 ]]),\n",
       " array([1, 1, 1, ..., 1, 1, 1]))"
      ]
     },
     "execution_count": 264,
     "metadata": {},
     "output_type": "execute_result"
    }
   ],
   "source": [
    "mini_sets[0]"
   ]
  },
  {
   "cell_type": "code",
   "execution_count": 348,
   "id": "ab813bbb-a361-4ba8-9318-4662e10c6e01",
   "metadata": {
    "scrolled": true
   },
   "outputs": [
    {
     "data": {
      "text/plain": [
       "0.7963600000000002"
      ]
     },
     "execution_count": 348,
     "metadata": {},
     "output_type": "execute_result"
    }
   ],
   "source": [
    "from sklearn.base import clone\n",
    "trees=[clone(search.best_estimator_) for _ in range(1000)]\n",
    "scores=[]\n",
    "for hell,(x,y) in zip(trees,mini_sets):\n",
    "    tree=hell.fit(x,y)\n",
    "    pred=tree.predict(x_test)\n",
    "    scores.append(sklearn.metrics.accuracy_score(pred,y_test))\n",
    "np.mean(scores)"
   ]
  },
  {
   "cell_type": "code",
   "execution_count": 338,
   "id": "b45a48dd-c2d6-4ed7-b295-178b67665809",
   "metadata": {},
   "outputs": [],
   "source": [
    "split=ShuffleSplit(n_splits=1000,train_size=100,random_state=42)\n",
    "mini_sets=[]\n",
    "\n",
    "for train,test in split.split(x_train):\n",
    "    mini_x_train=x_train[train]\n",
    "    mini_y_train=y_train[train]\n",
    "    mini_sets.append((mini_x_train,mini_y_train))\n"
   ]
  },
  {
   "cell_type": "code",
   "execution_count": 340,
   "id": "8844ad9d-4aac-4976-99e8-b66d51cf3e54",
   "metadata": {},
   "outputs": [
    {
     "data": {
      "text/plain": [
       "100"
      ]
     },
     "execution_count": 340,
     "metadata": {},
     "output_type": "execute_result"
    }
   ],
   "source": [
    "len(mini_sets[0][0])"
   ]
  },
  {
   "cell_type": "code",
   "execution_count": 412,
   "id": "b3b176ea-81cf-48ef-8552-6ed512659c0e",
   "metadata": {},
   "outputs": [
    {
     "data": {
      "text/plain": [
       "0.7965804000000001"
      ]
     },
     "execution_count": 412,
     "metadata": {},
     "output_type": "execute_result"
    }
   ],
   "source": [
    "from sklearn.base import clone\n",
    "from sklearn.metrics import accuracy_score\n",
    "\n",
    "forest = [clone(search.best_estimator_) for _ in range(n_trees)]\n",
    "\n",
    "accuracy_scores = []\n",
    "\n",
    "for tree, (X_mini_train, y_mini_train) in zip(forest, mini_sets):\n",
    "    tree.fit(X_mini_train, y_mini_train)\n",
    "    y_pred = tree.predict(x_test)\n",
    "    accuracy_scores.append(accuracy_score(y_test, y_pred))\n",
    "\n",
    "np.mean(accuracy_scores)"
   ]
  },
  {
   "cell_type": "code",
   "execution_count": 414,
   "id": "84e576d5-9996-48c7-97bb-c6b08eb24bc2",
   "metadata": {},
   "outputs": [],
   "source": [
    "pred=[]\n",
    "for tree in forest:\n",
    "    pred.append(tree.predict(x_test))\n"
   ]
  },
  {
   "cell_type": "code",
   "execution_count": 416,
   "id": "1af84fa8-58e1-4a6f-a2b5-eecd01f69eec",
   "metadata": {},
   "outputs": [],
   "source": [
    "pred=scipy.stats.mode(np.array(pred),axis=0)"
   ]
  },
  {
   "cell_type": "code",
   "execution_count": 418,
   "id": "05fe5cbc-c3cb-45d1-82de-a447588c224e",
   "metadata": {},
   "outputs": [
    {
     "data": {
      "text/plain": [
       "0.858"
      ]
     },
     "execution_count": 418,
     "metadata": {},
     "output_type": "execute_result"
    }
   ],
   "source": [
    "accuracy_score(pred[0],y_test)"
   ]
  },
  {
   "cell_type": "code",
   "execution_count": 420,
   "id": "edc640b1-3912-44ce-a3ed-e07e62972a14",
   "metadata": {},
   "outputs": [
    {
     "data": {
      "text/plain": [
       "0.858"
      ]
     },
     "execution_count": 420,
     "metadata": {},
     "output_type": "execute_result"
    }
   ],
   "source": [
    "Y_pred = np.empty([n_trees, len(x_test)], dtype=np.uint8)\n",
    "\n",
    "for tree_index, tree in enumerate(forest):\n",
    "    Y_pred[tree_index] = tree.predict(x_test)\n",
    "\n",
    "from scipy.stats import mode\n",
    "\n",
    "y_pred_majority_votes, n_votes = mode(Y_pred, axis=0)\n",
    "\n",
    "accuracy_score(y_test, y_pred_majority_votes.reshape([-1]))"
   ]
  }
 ],
 "metadata": {
  "kernelspec": {
   "display_name": "Python 3 (ipykernel)",
   "language": "python",
   "name": "python3"
  },
  "language_info": {
   "codemirror_mode": {
    "name": "ipython",
    "version": 3
   },
   "file_extension": ".py",
   "mimetype": "text/x-python",
   "name": "python",
   "nbconvert_exporter": "python",
   "pygments_lexer": "ipython3",
   "version": "3.11.8"
  }
 },
 "nbformat": 4,
 "nbformat_minor": 5
}
